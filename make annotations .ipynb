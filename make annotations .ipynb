{
 "cells": [
  {
   "cell_type": "code",
   "execution_count": 2,
   "id": "22cccd88",
   "metadata": {},
   "outputs": [],
   "source": [
    "import pandas as pd\n",
    "import numpy as np\n",
    "import os\n",
    "\n",
    "from glob import glob\n",
    "\n",
    "from tqdm import tqdm "
   ]
  },
  {
   "cell_type": "code",
   "execution_count": 19,
   "id": "aad62819",
   "metadata": {},
   "outputs": [
    {
     "name": "stderr",
     "output_type": "stream",
     "text": [
      "100%|██████████| 10/10 [00:00<00:00, 79.56it/s]\n"
     ]
    }
   ],
   "source": [
    "folders = ['정상A', '정상B', '금속', '머리카락', '벌레', '상단불량D', '상단불량E', '유바', '탄화물', '플라스틱']\n",
    "\n",
    "data_path = '/workspace/TOFU_Kaier/DB/TOFU_BOX_margin'\n",
    "train_path = 'train'\n",
    "valid_path = 'valid'\n",
    "test_path = 'test_1345'\n",
    "\n",
    "train_file_list = []\n",
    "valid_file_list = []\n",
    "test_file_list = []\n",
    "\n",
    "train_label_list = []\n",
    "valid_label_list = []\n",
    "test_label_list = []\n",
    "\n",
    "for fold in tqdm(folders):\n",
    "    fpattern = os.path.join(data_path, f'{train_path}/{fold}/*.jpg')\n",
    "    glob_file = sorted(glob(fpattern))\n",
    "    train_file_list += glob_file\n",
    "    train_label_list += [fold]*len(glob_file)\n",
    "    \n",
    "    fpattern = os.path.join(data_path, f'{valid_path}/{fold}/*.jpg')\n",
    "    glob_file = sorted(glob(fpattern))\n",
    "    valid_file_list += glob_file\n",
    "    valid_label_list += [fold]*len(glob_file)\n",
    "    \n",
    "    fpattern = os.path.join(data_path, f'{test_path}/{fold}/*.jpg')\n",
    "    glob_file = sorted(glob(fpattern))\n",
    "    test_file_list += glob_file\n",
    "    test_label_list += [fold]*len(glob_file)\n",
    "    \n",
    "    "
   ]
  },
  {
   "cell_type": "code",
   "execution_count": 20,
   "id": "7a6ae8fd",
   "metadata": {
    "scrolled": true
   },
   "outputs": [
    {
     "name": "stdout",
     "output_type": "stream",
     "text": [
      "16793\n",
      "1862\n",
      "8367\n"
     ]
    }
   ],
   "source": [
    "print(len(train_file_list))\n",
    "print(len(valid_file_list))\n",
    "print(len(test_file_list))"
   ]
  },
  {
   "cell_type": "code",
   "execution_count": 21,
   "id": "ebc4fa39",
   "metadata": {},
   "outputs": [
    {
     "name": "stdout",
     "output_type": "stream",
     "text": [
      "16793\n",
      "1862\n",
      "8367\n"
     ]
    }
   ],
   "source": [
    "print(len(train_label_list))\n",
    "print(len(valid_label_list))\n",
    "print(len(test_label_list))"
   ]
  },
  {
   "cell_type": "code",
   "execution_count": 16,
   "id": "846074b4",
   "metadata": {},
   "outputs": [
    {
     "data": {
      "text/plain": [
       "'/workspace/TOFU_Kaier/DB/TOFU_BOX_margin/valid/정상A/2020-11-24-120900400217.jpg'"
      ]
     },
     "execution_count": 16,
     "metadata": {},
     "output_type": "execute_result"
    }
   ],
   "source": [
    "valid_file_list[0]"
   ]
  },
  {
   "cell_type": "code",
   "execution_count": 17,
   "id": "4bd46614",
   "metadata": {},
   "outputs": [
    {
     "data": {
      "text/plain": [
       "'정상A/2020-11-24-120900400217.jpg'"
      ]
     },
     "execution_count": 17,
     "metadata": {},
     "output_type": "execute_result"
    }
   ],
   "source": [
    "valid_file_list[0][47:]"
   ]
  },
  {
   "cell_type": "code",
   "execution_count": 66,
   "id": "052c14e4",
   "metadata": {},
   "outputs": [],
   "source": [
    "train_df = pd.DataFrame({'path':train_file_list, 'label':train_label_list})\n",
    "train_df['path'] = train_df['path'].apply(lambda x: x[47:])\n",
    "\n",
    "valid_df = pd.DataFrame({'path':valid_file_list, 'label':valid_label_list})\n",
    "valid_df['path'] = valid_df['path'].apply(lambda x: x[47:])\n",
    "\n",
    "test_df = pd.DataFrame({'path':test_file_list, 'label':test_label_list})\n",
    "test_df['path'] = test_df['path'].apply(lambda x: x[47:])"
   ]
  },
  {
   "cell_type": "code",
   "execution_count": 31,
   "id": "51e7df26",
   "metadata": {
    "scrolled": true
   },
   "outputs": [
    {
     "data": {
      "text/html": [
       "<div>\n",
       "<style scoped>\n",
       "    .dataframe tbody tr th:only-of-type {\n",
       "        vertical-align: middle;\n",
       "    }\n",
       "\n",
       "    .dataframe tbody tr th {\n",
       "        vertical-align: top;\n",
       "    }\n",
       "\n",
       "    .dataframe thead th {\n",
       "        text-align: right;\n",
       "    }\n",
       "</style>\n",
       "<table border=\"1\" class=\"dataframe\">\n",
       "  <thead>\n",
       "    <tr style=\"text-align: right;\">\n",
       "      <th></th>\n",
       "      <th>path</th>\n",
       "      <th>label</th>\n",
       "    </tr>\n",
       "  </thead>\n",
       "  <tbody>\n",
       "    <tr>\n",
       "      <th>0</th>\n",
       "      <td>정상A/2020-11-24-120700200802.jpg</td>\n",
       "      <td>정상A</td>\n",
       "    </tr>\n",
       "    <tr>\n",
       "      <th>1</th>\n",
       "      <td>정상A/2020-11-24-120700230145.jpg</td>\n",
       "      <td>정상A</td>\n",
       "    </tr>\n",
       "    <tr>\n",
       "      <th>2</th>\n",
       "      <td>정상A/2020-11-24-120900200006.jpg</td>\n",
       "      <td>정상A</td>\n",
       "    </tr>\n",
       "    <tr>\n",
       "      <th>3</th>\n",
       "      <td>정상A/2020-11-24-120900210218.jpg</td>\n",
       "      <td>정상A</td>\n",
       "    </tr>\n",
       "    <tr>\n",
       "      <th>4</th>\n",
       "      <td>정상A/2020-11-24-120900210761.jpg</td>\n",
       "      <td>정상A</td>\n",
       "    </tr>\n",
       "    <tr>\n",
       "      <th>...</th>\n",
       "      <td>...</td>\n",
       "      <td>...</td>\n",
       "    </tr>\n",
       "    <tr>\n",
       "      <th>16788</th>\n",
       "      <td>플라스틱/2021-03-21-111900500101.jpg</td>\n",
       "      <td>플라스틱</td>\n",
       "    </tr>\n",
       "    <tr>\n",
       "      <th>16789</th>\n",
       "      <td>플라스틱/2021-03-21-111900530941.jpg</td>\n",
       "      <td>플라스틱</td>\n",
       "    </tr>\n",
       "    <tr>\n",
       "      <th>16790</th>\n",
       "      <td>플라스틱/2021-03-21-111900560053.jpg</td>\n",
       "      <td>플라스틱</td>\n",
       "    </tr>\n",
       "    <tr>\n",
       "      <th>16791</th>\n",
       "      <td>플라스틱/2021-03-21-112000140995.jpg</td>\n",
       "      <td>플라스틱</td>\n",
       "    </tr>\n",
       "    <tr>\n",
       "      <th>16792</th>\n",
       "      <td>플라스틱/2021-03-21-112000180686.jpg</td>\n",
       "      <td>플라스틱</td>\n",
       "    </tr>\n",
       "  </tbody>\n",
       "</table>\n",
       "<p>16793 rows × 2 columns</p>\n",
       "</div>"
      ],
      "text/plain": [
       "                                   path label\n",
       "0       정상A/2020-11-24-120700200802.jpg   정상A\n",
       "1       정상A/2020-11-24-120700230145.jpg   정상A\n",
       "2       정상A/2020-11-24-120900200006.jpg   정상A\n",
       "3       정상A/2020-11-24-120900210218.jpg   정상A\n",
       "4       정상A/2020-11-24-120900210761.jpg   정상A\n",
       "...                                 ...   ...\n",
       "16788  플라스틱/2021-03-21-111900500101.jpg  플라스틱\n",
       "16789  플라스틱/2021-03-21-111900530941.jpg  플라스틱\n",
       "16790  플라스틱/2021-03-21-111900560053.jpg  플라스틱\n",
       "16791  플라스틱/2021-03-21-112000140995.jpg  플라스틱\n",
       "16792  플라스틱/2021-03-21-112000180686.jpg  플라스틱\n",
       "\n",
       "[16793 rows x 2 columns]"
      ]
     },
     "execution_count": 31,
     "metadata": {},
     "output_type": "execute_result"
    }
   ],
   "source": [
    "train_df"
   ]
  },
  {
   "cell_type": "code",
   "execution_count": 32,
   "id": "aa421e3d",
   "metadata": {},
   "outputs": [
    {
     "data": {
      "text/html": [
       "<div>\n",
       "<style scoped>\n",
       "    .dataframe tbody tr th:only-of-type {\n",
       "        vertical-align: middle;\n",
       "    }\n",
       "\n",
       "    .dataframe tbody tr th {\n",
       "        vertical-align: top;\n",
       "    }\n",
       "\n",
       "    .dataframe thead th {\n",
       "        text-align: right;\n",
       "    }\n",
       "</style>\n",
       "<table border=\"1\" class=\"dataframe\">\n",
       "  <thead>\n",
       "    <tr style=\"text-align: right;\">\n",
       "      <th></th>\n",
       "      <th>path</th>\n",
       "      <th>label</th>\n",
       "    </tr>\n",
       "  </thead>\n",
       "  <tbody>\n",
       "    <tr>\n",
       "      <th>0</th>\n",
       "      <td>정상A/2020-11-24-120900400217.jpg</td>\n",
       "      <td>정상A</td>\n",
       "    </tr>\n",
       "    <tr>\n",
       "      <th>1</th>\n",
       "      <td>정상A/2020-11-24-121000300535.jpg</td>\n",
       "      <td>정상A</td>\n",
       "    </tr>\n",
       "    <tr>\n",
       "      <th>2</th>\n",
       "      <td>정상A/2020-11-24-121200390029.jpg</td>\n",
       "      <td>정상A</td>\n",
       "    </tr>\n",
       "    <tr>\n",
       "      <th>3</th>\n",
       "      <td>정상A/2020-11-24-121200500853.jpg</td>\n",
       "      <td>정상A</td>\n",
       "    </tr>\n",
       "    <tr>\n",
       "      <th>4</th>\n",
       "      <td>정상A/2020-11-24-121200520577.jpg</td>\n",
       "      <td>정상A</td>\n",
       "    </tr>\n",
       "    <tr>\n",
       "      <th>...</th>\n",
       "      <td>...</td>\n",
       "      <td>...</td>\n",
       "    </tr>\n",
       "    <tr>\n",
       "      <th>1857</th>\n",
       "      <td>플라스틱/2021-03-21-111700390709.jpg</td>\n",
       "      <td>플라스틱</td>\n",
       "    </tr>\n",
       "    <tr>\n",
       "      <th>1858</th>\n",
       "      <td>플라스틱/2021-03-21-111700420221.jpg</td>\n",
       "      <td>플라스틱</td>\n",
       "    </tr>\n",
       "    <tr>\n",
       "      <th>1859</th>\n",
       "      <td>플라스틱/2021-03-21-111800410446.jpg</td>\n",
       "      <td>플라스틱</td>\n",
       "    </tr>\n",
       "    <tr>\n",
       "      <th>1860</th>\n",
       "      <td>플라스틱/2021-03-21-111900250078.jpg</td>\n",
       "      <td>플라스틱</td>\n",
       "    </tr>\n",
       "    <tr>\n",
       "      <th>1861</th>\n",
       "      <td>플라스틱/2021-03-21-111900300366.jpg</td>\n",
       "      <td>플라스틱</td>\n",
       "    </tr>\n",
       "  </tbody>\n",
       "</table>\n",
       "<p>1862 rows × 2 columns</p>\n",
       "</div>"
      ],
      "text/plain": [
       "                                  path label\n",
       "0      정상A/2020-11-24-120900400217.jpg   정상A\n",
       "1      정상A/2020-11-24-121000300535.jpg   정상A\n",
       "2      정상A/2020-11-24-121200390029.jpg   정상A\n",
       "3      정상A/2020-11-24-121200500853.jpg   정상A\n",
       "4      정상A/2020-11-24-121200520577.jpg   정상A\n",
       "...                                ...   ...\n",
       "1857  플라스틱/2021-03-21-111700390709.jpg  플라스틱\n",
       "1858  플라스틱/2021-03-21-111700420221.jpg  플라스틱\n",
       "1859  플라스틱/2021-03-21-111800410446.jpg  플라스틱\n",
       "1860  플라스틱/2021-03-21-111900250078.jpg  플라스틱\n",
       "1861  플라스틱/2021-03-21-111900300366.jpg  플라스틱\n",
       "\n",
       "[1862 rows x 2 columns]"
      ]
     },
     "execution_count": 32,
     "metadata": {},
     "output_type": "execute_result"
    }
   ],
   "source": [
    "valid_df"
   ]
  },
  {
   "cell_type": "code",
   "execution_count": 33,
   "id": "4c06aa80",
   "metadata": {},
   "outputs": [
    {
     "data": {
      "text/html": [
       "<div>\n",
       "<style scoped>\n",
       "    .dataframe tbody tr th:only-of-type {\n",
       "        vertical-align: middle;\n",
       "    }\n",
       "\n",
       "    .dataframe tbody tr th {\n",
       "        vertical-align: top;\n",
       "    }\n",
       "\n",
       "    .dataframe thead th {\n",
       "        text-align: right;\n",
       "    }\n",
       "</style>\n",
       "<table border=\"1\" class=\"dataframe\">\n",
       "  <thead>\n",
       "    <tr style=\"text-align: right;\">\n",
       "      <th></th>\n",
       "      <th>path</th>\n",
       "      <th>label</th>\n",
       "    </tr>\n",
       "  </thead>\n",
       "  <tbody>\n",
       "    <tr>\n",
       "      <th>0</th>\n",
       "      <td>345/정상A/2020-11-24-133900350125.jpg</td>\n",
       "      <td>정상A</td>\n",
       "    </tr>\n",
       "    <tr>\n",
       "      <th>1</th>\n",
       "      <td>345/정상A/2020-11-24-133900350732.jpg</td>\n",
       "      <td>정상A</td>\n",
       "    </tr>\n",
       "    <tr>\n",
       "      <th>2</th>\n",
       "      <td>345/정상A/2020-11-24-133900360241.jpg</td>\n",
       "      <td>정상A</td>\n",
       "    </tr>\n",
       "    <tr>\n",
       "      <th>3</th>\n",
       "      <td>345/정상A/2020-11-24-133900360837.jpg</td>\n",
       "      <td>정상A</td>\n",
       "    </tr>\n",
       "    <tr>\n",
       "      <th>4</th>\n",
       "      <td>345/정상A/2020-11-24-133900370430.jpg</td>\n",
       "      <td>정상A</td>\n",
       "    </tr>\n",
       "    <tr>\n",
       "      <th>...</th>\n",
       "      <td>...</td>\n",
       "      <td>...</td>\n",
       "    </tr>\n",
       "    <tr>\n",
       "      <th>8362</th>\n",
       "      <td>345/플라스틱/2021-03-21-112100550614.jpg</td>\n",
       "      <td>플라스틱</td>\n",
       "    </tr>\n",
       "    <tr>\n",
       "      <th>8363</th>\n",
       "      <td>345/플라스틱/2021-03-21-112100580958.jpg</td>\n",
       "      <td>플라스틱</td>\n",
       "    </tr>\n",
       "    <tr>\n",
       "      <th>8364</th>\n",
       "      <td>345/플라스틱/2021-03-21-112200000471.jpg</td>\n",
       "      <td>플라스틱</td>\n",
       "    </tr>\n",
       "    <tr>\n",
       "      <th>8365</th>\n",
       "      <td>345/플라스틱/2021-03-21-112200030878.jpg</td>\n",
       "      <td>플라스틱</td>\n",
       "    </tr>\n",
       "    <tr>\n",
       "      <th>8366</th>\n",
       "      <td>345/플라스틱/2021-03-21-112200050766.jpg</td>\n",
       "      <td>플라스틱</td>\n",
       "    </tr>\n",
       "  </tbody>\n",
       "</table>\n",
       "<p>8367 rows × 2 columns</p>\n",
       "</div>"
      ],
      "text/plain": [
       "                                      path label\n",
       "0      345/정상A/2020-11-24-133900350125.jpg   정상A\n",
       "1      345/정상A/2020-11-24-133900350732.jpg   정상A\n",
       "2      345/정상A/2020-11-24-133900360241.jpg   정상A\n",
       "3      345/정상A/2020-11-24-133900360837.jpg   정상A\n",
       "4      345/정상A/2020-11-24-133900370430.jpg   정상A\n",
       "...                                    ...   ...\n",
       "8362  345/플라스틱/2021-03-21-112100550614.jpg  플라스틱\n",
       "8363  345/플라스틱/2021-03-21-112100580958.jpg  플라스틱\n",
       "8364  345/플라스틱/2021-03-21-112200000471.jpg  플라스틱\n",
       "8365  345/플라스틱/2021-03-21-112200030878.jpg  플라스틱\n",
       "8366  345/플라스틱/2021-03-21-112200050766.jpg  플라스틱\n",
       "\n",
       "[8367 rows x 2 columns]"
      ]
     },
     "execution_count": 33,
     "metadata": {},
     "output_type": "execute_result"
    }
   ],
   "source": [
    "test_df"
   ]
  },
  {
   "cell_type": "code",
   "execution_count": 67,
   "id": "066cdaf6",
   "metadata": {},
   "outputs": [],
   "source": [
    "# save annotaions \n",
    "train_df.to_csv(\"train_annotations.csv\", encoding='cp949', index=False)\n",
    "valid_df.to_csv(\"valid_annotations.csv\", encoding='cp949', index=False)\n",
    "test_df.to_csv(\"test_annotations.csv\", encoding='cp949', index=False)"
   ]
  },
  {
   "cell_type": "code",
   "execution_count": 68,
   "id": "c54e7e0c",
   "metadata": {},
   "outputs": [],
   "source": [
    "tmp = pd.read_csv(\"train_annotations.csv\", encoding='cp949')"
   ]
  },
  {
   "cell_type": "code",
   "execution_count": 69,
   "id": "e03afdd7",
   "metadata": {},
   "outputs": [
    {
     "data": {
      "text/html": [
       "<div>\n",
       "<style scoped>\n",
       "    .dataframe tbody tr th:only-of-type {\n",
       "        vertical-align: middle;\n",
       "    }\n",
       "\n",
       "    .dataframe tbody tr th {\n",
       "        vertical-align: top;\n",
       "    }\n",
       "\n",
       "    .dataframe thead th {\n",
       "        text-align: right;\n",
       "    }\n",
       "</style>\n",
       "<table border=\"1\" class=\"dataframe\">\n",
       "  <thead>\n",
       "    <tr style=\"text-align: right;\">\n",
       "      <th></th>\n",
       "      <th>path</th>\n",
       "      <th>label</th>\n",
       "    </tr>\n",
       "  </thead>\n",
       "  <tbody>\n",
       "    <tr>\n",
       "      <th>0</th>\n",
       "      <td>정상A/2020-11-24-120700200802.jpg</td>\n",
       "      <td>정상A</td>\n",
       "    </tr>\n",
       "    <tr>\n",
       "      <th>1</th>\n",
       "      <td>정상A/2020-11-24-120700230145.jpg</td>\n",
       "      <td>정상A</td>\n",
       "    </tr>\n",
       "    <tr>\n",
       "      <th>2</th>\n",
       "      <td>정상A/2020-11-24-120900200006.jpg</td>\n",
       "      <td>정상A</td>\n",
       "    </tr>\n",
       "    <tr>\n",
       "      <th>3</th>\n",
       "      <td>정상A/2020-11-24-120900210218.jpg</td>\n",
       "      <td>정상A</td>\n",
       "    </tr>\n",
       "    <tr>\n",
       "      <th>4</th>\n",
       "      <td>정상A/2020-11-24-120900210761.jpg</td>\n",
       "      <td>정상A</td>\n",
       "    </tr>\n",
       "    <tr>\n",
       "      <th>...</th>\n",
       "      <td>...</td>\n",
       "      <td>...</td>\n",
       "    </tr>\n",
       "    <tr>\n",
       "      <th>16788</th>\n",
       "      <td>플라스틱/2021-03-21-111900500101.jpg</td>\n",
       "      <td>플라스틱</td>\n",
       "    </tr>\n",
       "    <tr>\n",
       "      <th>16789</th>\n",
       "      <td>플라스틱/2021-03-21-111900530941.jpg</td>\n",
       "      <td>플라스틱</td>\n",
       "    </tr>\n",
       "    <tr>\n",
       "      <th>16790</th>\n",
       "      <td>플라스틱/2021-03-21-111900560053.jpg</td>\n",
       "      <td>플라스틱</td>\n",
       "    </tr>\n",
       "    <tr>\n",
       "      <th>16791</th>\n",
       "      <td>플라스틱/2021-03-21-112000140995.jpg</td>\n",
       "      <td>플라스틱</td>\n",
       "    </tr>\n",
       "    <tr>\n",
       "      <th>16792</th>\n",
       "      <td>플라스틱/2021-03-21-112000180686.jpg</td>\n",
       "      <td>플라스틱</td>\n",
       "    </tr>\n",
       "  </tbody>\n",
       "</table>\n",
       "<p>16793 rows × 2 columns</p>\n",
       "</div>"
      ],
      "text/plain": [
       "                                   path label\n",
       "0       정상A/2020-11-24-120700200802.jpg   정상A\n",
       "1       정상A/2020-11-24-120700230145.jpg   정상A\n",
       "2       정상A/2020-11-24-120900200006.jpg   정상A\n",
       "3       정상A/2020-11-24-120900210218.jpg   정상A\n",
       "4       정상A/2020-11-24-120900210761.jpg   정상A\n",
       "...                                 ...   ...\n",
       "16788  플라스틱/2021-03-21-111900500101.jpg  플라스틱\n",
       "16789  플라스틱/2021-03-21-111900530941.jpg  플라스틱\n",
       "16790  플라스틱/2021-03-21-111900560053.jpg  플라스틱\n",
       "16791  플라스틱/2021-03-21-112000140995.jpg  플라스틱\n",
       "16792  플라스틱/2021-03-21-112000180686.jpg  플라스틱\n",
       "\n",
       "[16793 rows x 2 columns]"
      ]
     },
     "execution_count": 69,
     "metadata": {},
     "output_type": "execute_result"
    }
   ],
   "source": [
    "tmp"
   ]
  }
 ],
 "metadata": {
  "kernelspec": {
   "display_name": "Python 3",
   "language": "python",
   "name": "python3"
  },
  "language_info": {
   "codemirror_mode": {
    "name": "ipython",
    "version": 3
   },
   "file_extension": ".py",
   "mimetype": "text/x-python",
   "name": "python",
   "nbconvert_exporter": "python",
   "pygments_lexer": "ipython3",
   "version": "3.6.9"
  }
 },
 "nbformat": 4,
 "nbformat_minor": 5
}
