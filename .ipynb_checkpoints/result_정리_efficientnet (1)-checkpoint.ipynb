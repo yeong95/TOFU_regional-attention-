{
 "cells": [
  {
   "cell_type": "markdown",
   "metadata": {
    "id": "kACGyfdqacpu"
   },
   "source": [
    "# model"
   ]
  },
  {
   "cell_type": "code",
   "execution_count": null,
   "metadata": {
    "colab": {
     "base_uri": "https://localhost:8080/"
    },
    "id": "y4PiyD6oa3V2",
    "outputId": "c8f5e7af-d675-4f10-fa14-baac8bdf99d8"
   },
   "outputs": [
    {
     "name": "stdout",
     "output_type": "stream",
     "text": [
      "Drive already mounted at /content/drive; to attempt to forcibly remount, call drive.mount(\"/content/drive\", force_remount=True).\n"
     ]
    }
   ],
   "source": [
    "from google.colab import drive\n",
    "drive.mount('/content/drive')"
   ]
  },
  {
   "cell_type": "code",
   "execution_count": null,
   "metadata": {
    "id": "ISCpwNTga_-f"
   },
   "outputs": [],
   "source": [
    "import sys\n",
    "sys.path.append('/content/drive/MyDrive/Kaier_Tofu_Data')"
   ]
  },
  {
   "cell_type": "code",
   "execution_count": null,
   "metadata": {
    "id": "bNb8DdbNacpw"
   },
   "outputs": [],
   "source": [
    "import torch\n",
    "import torch.nn as nn\n",
    "import torch.optim as optim\n",
    "from torch.autograd import Variable\n",
    "import numpy as np\n",
    "import os\n",
    "from os.path import join\n",
    "import shutil\n",
    "from sklearn.preprocessing import normalize\n",
    "from collections import OrderedDict\n",
    "import Resnet\n",
    "from tqdm import tqdm\n",
    "import cv2\n",
    "import argparse\n",
    "import subprocess\n",
    "from Common import get_rmac_region_coordinates\n",
    "from Common import pack_regions_for_network\n",
    "from Common import L2Normalization\n",
    "from Common import Shift\n",
    "from Common import RoIPool\n",
    "import warnings\n",
    "warnings.simplefilter(\"ignore\", DeprecationWarning)"
   ]
  },
  {
   "cell_type": "code",
   "execution_count": null,
   "metadata": {
    "id": "J0lDko08acpx"
   },
   "outputs": [],
   "source": [
    "import torchvision\n",
    "from torch.optim import lr_scheduler\n",
    "from torchvision import datasets, models, transforms\n",
    "import torch\n",
    "import torch.nn as nn\n",
    "import torch.optim as optim\n",
    "from torch.autograd import Variable\n",
    "from torch.utils.data import DataLoader\n",
    "from torch.utils.data.dataset import Dataset"
   ]
  },
  {
   "cell_type": "code",
   "execution_count": null,
   "metadata": {
    "colab": {
     "base_uri": "https://localhost:8080/"
    },
    "id": "n8KAgoLjbIMy",
    "outputId": "124ec3c6-7bb8-44b1-96f9-940c05303fce"
   },
   "outputs": [
    {
     "name": "stdout",
     "output_type": "stream",
     "text": [
      "Requirement already satisfied: efficientnet_pytorch in /usr/local/lib/python3.7/dist-packages (0.7.1)\n",
      "Requirement already satisfied: torch in /usr/local/lib/python3.7/dist-packages (from efficientnet_pytorch) (1.9.0+cu102)\n",
      "Requirement already satisfied: typing-extensions in /usr/local/lib/python3.7/dist-packages (from torch->efficientnet_pytorch) (3.7.4.3)\n"
     ]
    }
   ],
   "source": [
    "!pip install efficientnet_pytorch"
   ]
  },
  {
   "cell_type": "code",
   "execution_count": null,
   "metadata": {
    "id": "qDuayrZBacpx"
   },
   "outputs": [],
   "source": [
    "from efficientnet_pytorch import EfficientNet"
   ]
  },
  {
   "cell_type": "code",
   "execution_count": null,
   "metadata": {
    "id": "lGih_STLacpx"
   },
   "outputs": [],
   "source": [
    "class ContextAwareRegionalAttentionNetwork(nn.Module):\n",
    "    def __init__(self, spatial_scale, pooled_height = 1, pooled_width = 1):\n",
    "        super(ContextAwareRegionalAttentionNetwork, self).__init__()\n",
    "        self.pooled_width = int(pooled_width)\n",
    "        self.pooled_height = int(pooled_height)\n",
    "        self.spatial_scale = float(spatial_scale)\n",
    "\n",
    "        self.conv_att_1 = nn.Conv1d(2560, 64, 1, padding=0)\n",
    "        self.tanh = nn.Tanh()\n",
    "        self.conv_att_2 = nn.Conv1d(64, 1, 1, padding=0)\n",
    "        self.sp_att_2 = nn.Softplus()\n",
    "\n",
    "    def forward(self, features, rois):\n",
    "        \n",
    "        batch_size, num_channels, data_height, data_width = features.size()\n",
    "        num_rois = rois.size()[0]\n",
    "\n",
    "        outputs = Variable(torch.zeros(num_rois, num_channels * 2,\n",
    "                                       self.pooled_height,\n",
    "                                       self.pooled_width))\n",
    "        if features.is_cuda:\n",
    "            outputs = outputs.cuda(torch.cuda.device_of(features).idx)\n",
    "\n",
    "        # Based on roi pooling code of pytorch but, the only difference is to change max pooling to mean pooling\n",
    "        for roi_ind, roi in enumerate(rois):\n",
    "            batch_ind = int(roi[0].data)\n",
    "            roi_start_w, roi_start_h, roi_end_w, roi_end_h = roi_start_w, roi_start_h, roi_end_w, roi_end_h = torch.round(\n",
    "                roi[1:] * self.spatial_scale).data.cpu().numpy().astype(int)\n",
    "            roi_width = max(roi_end_w - roi_start_w + 1, 1)\n",
    "            roi_height = max(roi_end_h - roi_start_h + 1, 1)\n",
    "            bin_size_w = float(roi_width) / float(self.pooled_width)\n",
    "            bin_size_h = float(roi_height) / float(self.pooled_height)\n",
    "\n",
    "            for ph in range(self.pooled_height):\n",
    "                hstart = int(np.floor(ph * bin_size_h))\n",
    "                hend = int(np.ceil((ph + 1) * bin_size_h))\n",
    "                hstart = min(data_height, max(0, hstart + roi_start_h))\n",
    "                hend = min(data_height, max(0, hend + roi_start_h))\n",
    "                for pw in range(self.pooled_width):\n",
    "                    wstart = int(np.floor(pw * bin_size_w))\n",
    "                    wend = int(np.ceil((pw + 1) * bin_size_w))\n",
    "                    wstart = min(data_width, max(0, wstart + roi_start_w))\n",
    "                    wend = min(data_width, max(0, wend + roi_start_w))\n",
    "\n",
    "                    is_empty = (hend <= hstart) or (wend <= wstart)\n",
    "                    if is_empty:\n",
    "                        outputs[roi_ind, :, ph, pw] = 0\n",
    "                    else:\n",
    "                        data = features[batch_ind]\n",
    "                        # mean pooling with both of regional feature map and global feature map\n",
    "                        outputs[roi_ind, :, ph, pw] = torch.cat((torch.mean(\n",
    "                            torch.mean(data[:, hstart:hend, wstart:wend], 1, keepdim=True), 2, keepdim=True).view(-1)\n",
    "                                                                 , torch.mean(\n",
    "                            torch.mean(data, 1, keepdim=True), 2, keepdim=True).view(-1)), 0)  # noqa\n",
    "\n",
    "        # Reshpae\n",
    "        outputs = outputs.squeeze(2).squeeze(2)\n",
    "        outputs = outputs.transpose(0, 1).unsqueeze(0)  # (1, # channel, #batch * # regions)\n",
    "        #Calculate regional attention weights with context-aware regional feature vectors\n",
    "        k = self.tanh(self.conv_att_1(outputs))\n",
    "        k = self.sp_att_2(self.conv_att_2(k))  # (1, 1, #batch * # regions)\n",
    "        k = torch.squeeze(k, 1)\n",
    "\n",
    "        return k"
   ]
  },
  {
   "cell_type": "code",
   "execution_count": null,
   "metadata": {
    "id": "qCGAjQiRacpy"
   },
   "outputs": [],
   "source": [
    "class OurNet(nn.Module):\n",
    "    def __init__(self):\n",
    "        super(OurNet, self).__init__()\n",
    "\n",
    "        self.l2norm = L2Normalization()\n",
    "        #RoI max pooling\n",
    "        self.r_mac_pool = RoIPool(1, 1, 0.03125)\n",
    "        #Define regional attention network \n",
    "        self.region_attention = ContextAwareRegionalAttentionNetwork(spatial_scale = 0.03125)\n",
    "\n",
    "        self.pca_shift = Shift(2048)\n",
    "        self.pca_fc = nn.Linear(2048, 2048, bias=False)\n",
    "        \n",
    "        #Load the PCA weights learned with off-the-shelf Resnet101\n",
    "        # self.pca_fc.weight.data = torch.Tensor(np.load('pca_components.npy'))\n",
    "        # self.pca_shift.bias.data = torch.Tensor(np.load('pca_mean.npy'))\n",
    "\n",
    "\n",
    "        #Load efficientnet\n",
    "        \n",
    "        self.efficientnet = EfficientNet.from_pretrained('efficientnet-b0', num_classes=10)  \n",
    "        self.efficientnet.load_state_dict(torch.load('/content/drive/MyDrive/Kaier_Tofu_Data/Regional attention/raw_data_president_model.pt'))\n",
    "        \n",
    "\n",
    "\n",
    "    def _initialize_weights(self):\n",
    "        for m in self.modules():\n",
    "            if isinstance(m, nn.Conv2d):\n",
    "                nn.init.xavier_normal(m.weight.data)\n",
    "                if m.bias is not None:\n",
    "                    m.bias.data.zero_()\n",
    "            if isinstance(m, nn.Linear):\n",
    "                nn.init.xavier_normal(m.weight.data)\n",
    "                if m.bias is not None:\n",
    "                    m.bias.data.zero_()\n",
    "\n",
    "    def forward(self, x, ):\n",
    "        #Calculate R-MAC regions (Region sampling)\n",
    "    \n",
    "        batched_rois = [get_rmac_region_coordinates(x.shape[2], x.shape[3], 5) for i in range(x.shape[0])]\n",
    "        region_size = len(batched_rois[0])\n",
    "        rois = Variable(torch.FloatTensor(pack_regions_for_network(batched_rois)))\n",
    "\n",
    "        h = x\n",
    "        #Extract feature map\n",
    "        h = self.efficientnet.extract_features(x)  # ( #batch, #channel, #h, #w)\n",
    "\n",
    "        #R-MAC module\n",
    "        g = self.r_mac_pool(h, rois)\n",
    "        g = g.squeeze(2).squeeze(2)  # (#batch * # regions, #channel)\n",
    "        #g = self.pca_shift(g)  # PCA\n",
    "        #g = self.pca_fc(g)\n",
    "        g = self.l2norm(g)  # normalize each region\n",
    "       \n",
    "        \n",
    "        #Regional attention module\n",
    "        g2 = self.region_attention(h, rois)\n",
    "        g2 = g2.squeeze(0).squeeze(0)  # (# batch * region)\n",
    "        \n",
    "        # store attention score\n",
    "        idx_list=[]\n",
    "        idx_=[]\n",
    "        \n",
    "        for idx, i in enumerate(g2):   \n",
    "              idx_list.append((idx,i))\n",
    "              idx_.append(idx)\n",
    "                \n",
    "                \n",
    "        #Weighted mean\n",
    "        g = torch.mul(g.transpose(1, 0), g2).transpose(1, 0)  # regional weighted feature (# batch * region, #channel)\n",
    "        g = g.contiguous()\n",
    "        g = g.view(torch.Size([h.size(0), -1, h.size(1)]))  # (#batch, # region, # channel)\n",
    "        g = torch.transpose(g, 1, 2)  # (#batch * #channel, #region)\n",
    "        g = torch.mean(g, 2)\n",
    "\n",
    "        #Final L2\n",
    "\n",
    "        g = self.l2norm(g)  # (batch, 1280)\n",
    "\n",
    "        return g, rois, idx_list"
   ]
  },
  {
   "cell_type": "code",
   "execution_count": null,
   "metadata": {
    "colab": {
     "base_uri": "https://localhost:8080/"
    },
    "id": "tPS6EjVoacpz",
    "outputId": "23c5010d-1eda-4d76-ded0-e2241dd6faad",
    "scrolled": true
   },
   "outputs": [
    {
     "name": "stdout",
     "output_type": "stream",
     "text": [
      "Loaded pretrained weights for efficientnet-b0\n"
     ]
    }
   ],
   "source": [
    "net = OurNet()"
   ]
  },
  {
   "cell_type": "code",
   "execution_count": null,
   "metadata": {
    "id": "cc61WYADacp0"
   },
   "outputs": [],
   "source": [
    "net = net.to('cuda:0')"
   ]
  },
  {
   "cell_type": "code",
   "execution_count": null,
   "metadata": {
    "colab": {
     "base_uri": "https://localhost:8080/"
    },
    "id": "LnMq6Uaoacp0",
    "outputId": "73cc2fc1-93a4-4e43-a5ff-2ccb272c9318"
   },
   "outputs": [
    {
     "data": {
      "text/plain": [
       "ContextAwareRegionalAttentionNetwork(\n",
       "  (conv_att_1): Conv1d(2560, 64, kernel_size=(1,), stride=(1,))\n",
       "  (tanh): Tanh()\n",
       "  (conv_att_2): Conv1d(64, 1, kernel_size=(1,), stride=(1,))\n",
       "  (sp_att_2): Softplus(beta=1, threshold=20)\n",
       ")"
      ]
     },
     "execution_count": 22,
     "metadata": {
      "tags": []
     },
     "output_type": "execute_result"
    }
   ],
   "source": [
    "net.region_attention"
   ]
  },
  {
   "cell_type": "code",
   "execution_count": null,
   "metadata": {
    "colab": {
     "base_uri": "https://localhost:8080/"
    },
    "collapsed": true,
    "id": "f3ODR_R8ExZd",
    "outputId": "bdbc717b-c808-4748-fd5e-49045636ba19"
   },
   "outputs": [
    {
     "name": "stdout",
     "output_type": "stream",
     "text": [
      "import numpy as np\n",
      "import torch\n",
      "import torch.nn as nn\n",
      "import torch.nn.functional as F\n",
      "from torch.nn.modules.module import Module\n",
      "from torch.autograd import Variable\n",
      "\n",
      "def get_rmac_region_coordinates(H, W, L):\n",
      "    import pdb;pdb.set_trace()\n",
      "    # Almost verbatim from Tolias et al Matlab implementation.\n",
      "    # Could be heavily pythonized, but really not worth it...\n",
      "    # Desired overlap of neighboring regions\n",
      "    ovr = 0.4\n",
      "    # Possible regions for the long dimension\n",
      "    steps = np.array((2, 3, 4, 5, 6, 7), dtype=np.float32)\n",
      "    w = np.minimum(H, W)\n",
      "    \n",
      "    b = (np.maximum(H, W) - w) / (steps - 1)\n",
      "    # steps(idx) regions for long dimension. The +1 comes from Matlab\n",
      "    # 1-indexing...\n",
      "    idx = np.argmin(np.abs(((w**2 - w * b) / w**2) - ovr)) + 1\n",
      "    \n",
      "    # Region overplus per dimension\n",
      "    Wd = 0\n",
      "    Hd = 0\n",
      "    if H < W:\n",
      "        Wd = idx\n",
      "    elif H > W:\n",
      "        Hd = idx\n",
      "    \n",
      "    regions_xywh = []\n",
      "    for l in range(1, L+1):\n",
      "        wl = np.floor(2 * w / (l + 1))\n",
      "        wl2 = np.floor(wl / 2 - 1)\n",
      "        # Center coordinates\n",
      "        if l + Wd - 1 > 0:\n",
      "            b = (W - wl) / (l + Wd - 1)\n",
      "        else:\n",
      "            b = 0\n",
      "        cenW = np.floor(wl2 + b * np.arange(l - 1 + Wd + 1)) - wl2\n",
      "        # Center coordinates\n",
      "        if l + Hd - 1 > 0:\n",
      "            b = (H - wl) / (l + Hd - 1)\n",
      "        else:\n",
      "            b = 0\n",
      "        cenH = np.floor(wl2 + b * np.arange(l - 1 + Hd + 1)) - wl2\n",
      "    \n",
      "        for i_ in cenH:\n",
      "            for j_ in cenW:\n",
      "                regions_xywh.append([j_, i_, wl, wl])\n",
      "    \n",
      "    # Round the regions. Careful with the borders!\n",
      "    for i in range(len(regions_xywh)):\n",
      "        for j in range(4):\n",
      "            regions_xywh[i][j] = int(round(regions_xywh[i][j]))\n",
      "        if regions_xywh[i][0] + regions_xywh[i][2] > W:\n",
      "            regions_xywh[i][0] -= ((regions_xywh[i][0] + regions_xywh[i][2]) - W)\n",
      "        if regions_xywh[i][1] + regions_xywh[i][3] > H:\n",
      "            regions_xywh[i][1] -= ((regions_xywh[i][1] + regions_xywh[i][3]) - H)\n",
      "    return np.array(regions_xywh).astype(np.float32)\n",
      "\n",
      "def pack_regions_for_network(all_regions):\n",
      "    n_regs = np.sum([len(e) for e in all_regions])\n",
      "    R = np.zeros((n_regs, 5), dtype=np.float32)\n",
      "    cnt = 0\n",
      "    # There should be a check of overflow...\n",
      "    for i, r in enumerate(all_regions):\n",
      "        try:\n",
      "            R[cnt:cnt + r.shape[0], 0] = i\n",
      "            R[cnt:cnt + r.shape[0], 1:] = r\n",
      "            cnt += r.shape[0]\n",
      "        except:\n",
      "            continue\n",
      "    assert cnt == n_regs\n",
      "    R = R[:n_regs]\n",
      "    # regs where in xywh format. R is in xyxy format, where the last coordinate is included. Therefore...\n",
      "    R[:n_regs, 3] = R[:n_regs, 1] + R[:n_regs, 3] - 1\n",
      "    R[:n_regs, 4] = R[:n_regs, 2] + R[:n_regs, 4] - 1\n",
      "    return R\n",
      "\n",
      "\n",
      "class L2Normalization(Module):\n",
      "    def __init__(self):\n",
      "        \"\"\"\n",
      "        In the constructor we construct three nn.Linear instances that we will use\n",
      "        in the forward pass.\n",
      "        \"\"\"\n",
      "        super(L2Normalization, self).__init__()\n",
      "        self.eps = 1e-8\n",
      "        \n",
      "    def forward(self, x):\n",
      "        if x.is_cuda:\n",
      "            caped_eps = Variable(torch.Tensor([self.eps])).cuda(torch.cuda.device_of(x).idx)\n",
      "        else:\n",
      "            caped_eps = Variable(torch.Tensor([self.eps]))\n",
      "        x = torch.div(x.transpose(0,1),x.max(1)[0]).transpose(0,1) # max_normed\n",
      "        norm = torch.norm(x,2,1) + caped_eps.expand(x.size()[0])\n",
      "        y = torch.div(x.transpose(0,1),norm).transpose(0,1)\n",
      "        return y\n",
      "\n",
      "\n",
      "class Shift(nn.Module):\n",
      "    def __init__(self,dim):\n",
      "        super(Shift, self).__init__()\n",
      "        #self.bias = nn.Parameter(torch.ones(dim))\n",
      "        self.bias = nn.Parameter(torch.Tensor(dim))\n",
      "        self.bias.data.uniform_(-0.03, -0.006)\n",
      "    def forward(self, input):\n",
      "        output = torch.add(input, self.bias)\n",
      "        \n",
      "        return output\n",
      "\n",
      "\n",
      "\n",
      "class RoIPool(nn.Module):\n",
      "    def __init__(self, pooled_height, pooled_width, spatial_scale):\n",
      "        super(RoIPool, self).__init__()\n",
      "        self.pooled_width = int(pooled_width)\n",
      "        self.pooled_height = int(pooled_height)\n",
      "        self.spatial_scale = float(spatial_scale)\n",
      "\n",
      "    def forward(self, features, rois):\n",
      "        batch_size, num_channels, data_height, data_width = features.size()\n",
      "        num_rois = rois.size()[0]\n",
      "        \n",
      "        outputs = Variable(torch.zeros(num_rois, num_channels,\n",
      "                                       self.pooled_height,\n",
      "                                       self.pooled_width))\n",
      "        if features.is_cuda:\n",
      "            outputs = outputs.cuda(torch.cuda.device_of(features).idx)\n",
      "\n",
      "        for roi_ind, roi in enumerate(rois):\n",
      "            batch_ind = int(roi[0].data)\n",
      "            roi_start_w, roi_start_h, roi_end_w, roi_end_h = roi_start_w, roi_start_h, roi_end_w, roi_end_h = torch.round(roi[1:]* self.spatial_scale).data.cpu().numpy().astype(int)\n",
      "            roi_width = max(roi_end_w - roi_start_w + 1, 1)\n",
      "            roi_height = max(roi_end_h - roi_start_h + 1, 1)\n",
      "            bin_size_w = float(roi_width) / float(self.pooled_width)\n",
      "            bin_size_h = float(roi_height) / float(self.pooled_height)\n",
      "\n",
      "            for ph in range(self.pooled_height):\n",
      "                hstart = int(np.floor(ph * bin_size_h))\n",
      "                hend = int(np.ceil((ph + 1) * bin_size_h))\n",
      "                hstart = min(data_height, max(0, hstart + roi_start_h))\n",
      "                hend = min(data_height, max(0, hend + roi_start_h))\n",
      "                for pw in range(self.pooled_width):\n",
      "                    wstart = int(np.floor(pw * bin_size_w))\n",
      "                    wend = int(np.ceil((pw + 1) * bin_size_w))\n",
      "                    wstart = min(data_width, max(0, wstart + roi_start_w))\n",
      "                    wend = min(data_width, max(0, wend + roi_start_w))\n",
      "\n",
      "                    is_empty = (hend <= hstart) or(wend <= wstart)\n",
      "                    if is_empty:\n",
      "                        outputs[roi_ind, :, ph, pw] = 0\n",
      "                    else:\n",
      "                        data = features[batch_ind]\n",
      "                        outputs[roi_ind, :, ph, pw] = torch.max(\n",
      "                            torch.max(data[:, hstart:hend, wstart:wend], 1, keepdim = True)[0], 2, keepdim = True)[0].view(-1)  # noqa\n",
      "\n",
      "        return outputs\n"
     ]
    }
   ],
   "source": [
    "!cat /content/drive/MyDrive/Kaier_Tofu_Data/Common.py"
   ]
  },
  {
   "cell_type": "markdown",
   "metadata": {
    "id": "SXsLolRYamNt"
   },
   "source": [
    "# classification net"
   ]
  },
  {
   "cell_type": "code",
   "execution_count": null,
   "metadata": {
    "id": "IMY54GoJacp0"
   },
   "outputs": [],
   "source": [
    "class ContextAwareRegionalAttentionNetwork(nn.Module):\n",
    "    def __init__(self, spatial_scale, pooled_height = 1, pooled_width = 1):\n",
    "        super(ContextAwareRegionalAttentionNetwork, self).__init__()\n",
    "        self.pooled_width = int(pooled_width)\n",
    "        self.pooled_height = int(pooled_height)\n",
    "        self.spatial_scale = float(spatial_scale)\n",
    "        \n",
    "        self.conv_att_1 = nn.Conv1d(2560, 64, 1, padding=0)\n",
    "        self.sp_att_1 = nn.Softplus()\n",
    "        self.conv_att_2 = nn.Conv1d(64, 1, 1, padding=0)\n",
    "        self.sp_att_2 = nn.Softplus()\n",
    "        \n",
    "\n",
    "    def forward(self, features, rois):\n",
    "   \n",
    "        batch_size, num_channels, data_height, data_width = features.size()\n",
    "        num_rois = rois.size()[0]\n",
    "        \n",
    "        outputs = Variable(torch.zeros(num_rois, num_channels*2,\n",
    "                                       self.pooled_height,\n",
    "                                       self.pooled_width))\n",
    "        if features.is_cuda:\n",
    "            outputs = outputs.cuda(torch.cuda.device_of(features).idx)\n",
    "            \n",
    "        # Based on roi pooling code of pytorch but, the only difference is to change max pooling to mean pooling\n",
    "        for roi_ind, roi in enumerate(rois):\n",
    "            batch_ind = int(roi[0].data)\n",
    "            roi_start_w, roi_start_h, roi_end_w, roi_end_h = roi_start_w, roi_start_h, roi_end_w, roi_end_h = torch.round(roi[1:]* self.spatial_scale).data.cpu().numpy().astype(int)\n",
    "            roi_width = max(roi_end_w - roi_start_w + 1, 1)\n",
    "            roi_height = max(roi_end_h - roi_start_h + 1, 1)\n",
    "            bin_size_w = float(roi_width) / float(self.pooled_width)\n",
    "            bin_size_h = float(roi_height) / float(self.pooled_height)\n",
    "\n",
    "            for ph in range(self.pooled_height):\n",
    "                hstart = int(np.floor(ph * bin_size_h))\n",
    "                hend = int(np.ceil((ph + 1) * bin_size_h))\n",
    "                hstart = min(data_height, max(0, hstart + roi_start_h))\n",
    "                hend = min(data_height, max(0, hend + roi_start_h))\n",
    "                for pw in range(self.pooled_width):\n",
    "                    wstart = int(np.floor(pw * bin_size_w))\n",
    "                    wend = int(np.ceil((pw + 1) * bin_size_w))\n",
    "                    wstart = min(data_width, max(0, wstart + roi_start_w))\n",
    "                    wend = min(data_width, max(0, wend + roi_start_w))\n",
    "\n",
    "                    is_empty = (hend <= hstart) or(wend <= wstart)\n",
    "                    if is_empty:\n",
    "                        outputs[roi_ind, :, ph, pw] = 0\n",
    "                    else:\n",
    "                        data = features[batch_ind]\n",
    "                        # mean pooling with both of regional feature map and global feature map\n",
    "                        outputs[roi_ind, :, ph, pw] = torch.cat((torch.mean(\n",
    "                            torch.mean(data[:, hstart:hend, wstart:wend], 1, keepdim = True), 2, keepdim = True).view(-1)\n",
    "                            ,torch.mean(\n",
    "                            torch.mean(data, 1, keepdim = True), 2, keepdim = True).view(-1)), 0 )  # noqa\n",
    "        \n",
    "        # Reshpae\n",
    "        outputs = outputs.squeeze(2).squeeze(2)\n",
    "        outputs = outputs.transpose(0,1).unsqueeze(0) # (1, # channel, #batch * # regions)\n",
    "        #Calculate regional attention weights with context-aware regional feature vectors\n",
    "        k = self.sp_att_1(self.conv_att_1(outputs))\n",
    "        k = self.sp_att_2(self.conv_att_2(k)) # (1, 1, #batch * # regions)\n",
    "        k = torch.squeeze(k,1)\n",
    "        \n",
    "        return k\n",
    "\n",
    "class NetForTraining(nn.Module):\n",
    "\n",
    "\n",
    "    def __init__(self):\n",
    "        super(NetForTraining, self).__init__()\n",
    "        \n",
    "        #RoI max pooling\n",
    "        self.r_mac_pool = RoIPool(1,1,0.03125)\n",
    "        self.region_attention = ContextAwareRegionalAttentionNetwork(spatial_scale = 0.03125)\n",
    "        self._initialize_weights()\n",
    "        \n",
    "        # This is for classification. get the weights of fc from off-the-shelf efficientnet B0\n",
    "        # (featrue vector, number of classes)\n",
    "        self.fc = nn.Linear(1280,10)   \n",
    "\n",
    "        # Load efficientnet model\n",
    "        self.efficientnet = EfficientNet.from_pretrained('efficientnet-b0', num_classes=10)  \n",
    "        self.efficientnet.load_state_dict(torch.load('/content/drive/MyDrive/Kaier_Tofu_Data/Regional attention/raw_data_president_model.pt'))\n",
    "        \n",
    "        for param in self.efficientnet.parameters():\n",
    "            param.requires_grad = False\n",
    "\n",
    "    def _initialize_weights(self):\n",
    "        for m in self.modules():\n",
    "            if isinstance(m, nn.Conv2d):\n",
    "                nn.init.xavier_normal(m.weight.data)\n",
    "                if m.bias is not None:\n",
    "                    m.bias.data.zero_()\n",
    "            if isinstance(m, nn.Linear):\n",
    "                nn.init.xavier_normal(m.weight.data)\n",
    "                if m.bias is not None:\n",
    "                    m.bias.data.zero_()\n",
    "    \n",
    "   \n",
    "    def forward(self, x, ):\n",
    "        \n",
    "        # Calculate R-MAC regions (Region sampling)\n",
    "        batched_rois =  [get_rmac_region_coordinates(x.shape[2],x.shape[3],5) for i in range(x.shape[0])]   # (batch size(5), # of proposed region(55), coordinates?(4))\n",
    "        region_size = len(batched_rois[0])\n",
    "        rois = Variable(torch.FloatTensor(pack_regions_for_network(batched_rois))) # [220(55*4), 5]\n",
    "\n",
    "        h = x\n",
    "\n",
    "        # Extract feature map\n",
    "        h = self.efficientnet.extract_features(x) #( #batch, #channel, #h, #w)  # [4, 1280, 7, 7]\n",
    "\n",
    "        g = self.r_mac_pool(h,rois)  # [220, 1280, 1, 1]\n",
    "        g = g.squeeze(2).squeeze(2)  # [220, 1280]\n",
    "\n",
    "        g2 = self.region_attention(h,rois)\n",
    "        g2 = g2.squeeze(0).squeeze(0)# (# batch * region)\n",
    "\n",
    "        g = torch.mul(g.transpose(1,0),g2).transpose(1,0)\n",
    "        \n",
    "        # regional weighted feature (# batch * region, #channel)\n",
    "        \n",
    "        g = g.contiguous()\n",
    "        g = g.view(torch.Size([h.size(0), -1 ,h.size(1)])) # (#batch, # region, # channel)\n",
    "        g = torch.transpose(g,1,2)    # (#batch * #channel, #region)\n",
    "        \n",
    "\n",
    "        g = torch.mean(g,2) #mean?\n",
    "\n",
    "        g = self.fc(g)\n",
    "\n",
    "        return g"
   ]
  },
  {
   "cell_type": "code",
   "execution_count": null,
   "metadata": {
    "colab": {
     "base_uri": "https://localhost:8080/"
    },
    "id": "69g2_BZCacp2",
    "outputId": "ed7c3be1-c0d6-417f-bee8-91fe17505b77",
    "scrolled": false
   },
   "outputs": [
    {
     "name": "stdout",
     "output_type": "stream",
     "text": [
      "Loaded pretrained weights for efficientnet-b0\n"
     ]
    }
   ],
   "source": [
    "class_net = NetForTraining()"
   ]
  },
  {
   "cell_type": "code",
   "execution_count": null,
   "metadata": {
    "colab": {
     "base_uri": "https://localhost:8080/"
    },
    "id": "TfE-Pp5Tacp4",
    "outputId": "b83a2620-b1a7-493c-f42d-457087142cb9"
   },
   "outputs": [
    {
     "data": {
      "text/plain": [
       "<All keys matched successfully>"
      ]
     },
     "execution_count": 26,
     "metadata": {
      "tags": []
     },
     "output_type": "execute_result"
    }
   ],
   "source": [
    "# load model \n",
    "class_net.load_state_dict(torch.load('/content/drive/MyDrive/Kaier_Tofu_Data/Regional attention/regional_attention_efficientnet.pt'))"
   ]
  },
  {
   "cell_type": "markdown",
   "metadata": {
    "id": "PsuWb_GVuCgd"
   },
   "source": [
    "# data loading"
   ]
  },
  {
   "cell_type": "code",
   "execution_count": null,
   "metadata": {
    "colab": {
     "base_uri": "https://localhost:8080/"
    },
    "collapsed": true,
    "id": "JOeyNGJfacp4",
    "outputId": "7c5118a9-6c5e-46bd-bcbc-2a5466604110"
   },
   "outputs": [
    {
     "name": "stdout",
     "output_type": "stream",
     "text": [
      "train image size: (16793, 224, 224, 3)\n",
      "valid image size: (1862, 224, 224, 3)\n",
      "test image size: (8367, 224, 224, 3)\n",
      "train class length: 16793\n",
      "valid class length: 1862\n",
      "test class length: 8367\n",
      "train class counts\n",
      "------------------\n",
      "금속 has 519 data points\n",
      "머리카락 has 649 data points\n",
      "벌레 has 543 data points\n",
      "상단불량D has 1255 data points\n",
      "상단불량E has 1094 data points\n",
      "유바 has 982 data points\n",
      "정상A has 6318 data points\n",
      "정상B has 4266 data points\n",
      "탄화물 has 644 data points\n",
      "플라스틱 has 523 data points\n",
      "torch.Size([64, 3, 224, 224])\n",
      "tensor([6, 7, 5, 5, 6, 6, 8, 6, 7, 7, 0, 8, 6, 3, 6, 7, 7, 2, 6, 4, 6, 1, 6, 7,\n",
      "        2, 7, 5, 8, 1, 6, 7, 6, 4, 6, 5, 5, 6, 8, 3, 6, 4, 3, 2, 7, 6, 7, 6, 3,\n",
      "        7, 1, 6, 7, 4, 6, 6, 7, 6, 7, 7, 9, 3, 7, 4, 6])\n"
     ]
    }
   ],
   "source": [
    "def train_test_numpy_load(data_path,train_path,valid_path,test_path,saved_path,load):\n",
    "    \n",
    "    if load:\n",
    "        with open(os.path.join(saved_path,'train_image.pickle'), 'rb') as f:\n",
    "            train_image = pickle.load(f)\n",
    "        with open(os.path.join(saved_path,'train_class.pickle'), 'rb') as f:\n",
    "            train_class = pickle.load(f)\n",
    "        with open(os.path.join(saved_path,'valid_image.pickle'), 'rb') as f:\n",
    "            valid_image = pickle.load(f)\n",
    "        with open(os.path.join(saved_path,'valid_class.pickle'), 'rb') as f:\n",
    "            valid_class = pickle.load(f)\n",
    "        with open(os.path.join(saved_path,'test_image.pickle'), 'rb') as f:\n",
    "            test_image = pickle.load(f)\n",
    "        with open(os.path.join(saved_path,'test_class.pickle'), 'rb') as f:\n",
    "            test_class = pickle.load(f)\n",
    "        return train_image, train_class, valid_image, valid_class, test_image, test_class \n",
    "    \n",
    "    folders = ['정상A', '정상B', '금속', '머리카락', '벌레', '상단불량D', '상단불량E', '유바', '탄화물', '플라스틱']\n",
    "    \n",
    "    train_image_list = [] \n",
    "    train_class = []    \n",
    "    valid_image_list = []\n",
    "    valid_class = []\n",
    "    test_image_list = []\n",
    "    test_class = []\n",
    "    for fold in tqdm(folders):\n",
    "        fpattern = os.path.join(data_path, f'{train_path}/{fold}/*.jpg')\n",
    "        train_file_list = sorted(glob(fpattern))\n",
    "        fpattern = os.path.join(data_path, f'{valid_path}/{fold}/*.jpg')\n",
    "        valid_file_list = sorted(glob(fpattern))\n",
    "        fpattern = os.path.join(data_path, f'{test_path}/{fold}/*.jpg')\n",
    "        test_file_list = sorted(glob(fpattern))     \n",
    "        print()\n",
    "        print(\"train {} starting...\" .format(fold))\n",
    "        for train_file in (train_file_list):\n",
    "            train_image = np.asarray(Image.open(train_file).resize((224,224)))\n",
    "            train_image_list.append(train_image)\n",
    "        print(\"train {} finished...\" .format(fold))\n",
    "        print(\"valid {} starting...\" .format(fold))\n",
    "        for valid_file in (valid_file_list):\n",
    "            valid_image = np.asarray(Image.open(valid_file).resize((224,224)))\n",
    "            valid_image_list.append(valid_image)\n",
    "        print(\"valid {} finished...\" .format(fold))\n",
    "        print(\"test {} starting...\" .format(fold))\n",
    "        for test_file in (test_file_list):                  \n",
    "            test_image = np.asarray(Image.open(test_file).resize((224,224)))           \n",
    "            test_image_list.append(test_image)\n",
    "        print(\"test {} finished...\" .format(fold))\n",
    "        train_class += [fold]*len(train_file_list)\n",
    "        valid_class += [fold]*len(valid_file_list)\n",
    "        test_class += [fold]*len(test_file_list)\n",
    "        \n",
    "    np_train_image = np.array(train_image_list)\n",
    "    np_valid_image = np.array(valid_image_list)\n",
    "    np_test_image = np.array(test_image_list)\n",
    "\n",
    "    with open(os.path.join(saved_path,'train_image.pickle'),'wb') as f:\n",
    "        pickle.dump(np_train_image,f)\n",
    "    with open(os.path.join(saved_path,'train_class.pickle'),'wb') as f:\n",
    "        pickle.dump(train_class,f)\n",
    "    with open(os.path.join(saved_path,'valid_image.pickle'),'wb') as f:\n",
    "        pickle.dump(np_valid_image,f)\n",
    "    with open(os.path.join(saved_path,'valid_class.pickle'),'wb') as f:\n",
    "        pickle.dump(valid_class,f)\n",
    "    with open(os.path.join(saved_path,'test_image.pickle'),'wb') as f:\n",
    "        pickle.dump(np_test_image,f)\n",
    "    with open(os.path.join(saved_path,'test_class.pickle'),'wb') as f:\n",
    "        pickle.dump(test_class,f)     \n",
    "    return np_train_image, train_class, np_valid_image, valid_class, np_test_image, test_class\n",
    "\n",
    "import pickle\n",
    "data_path = '../raw pickle data'\n",
    "train_path = 'train'\n",
    "valid_path = 'valid'\n",
    "test_path = 'test_1345'\n",
    "saved_path = '/content/drive/MyDrive/Kaier_Tofu_Data'\n",
    "load = True\n",
    "train_image, train_class, valid_image, valid_class, test_image, test_class = train_test_numpy_load(data_path,train_path,valid_path,test_path,saved_path,load)\n",
    "\n",
    "\n",
    "print(\"train image size: {}\" .format(train_image.shape))\n",
    "print(\"valid image size: {}\" .format(valid_image.shape))\n",
    "print(\"test image size: {}\" .format(test_image.shape))\n",
    "\n",
    "print(\"train class length: {}\" .format(len(train_class)))\n",
    "print(\"valid class length: {}\" .format(len(valid_class)))\n",
    "print(\"test class length: {}\" .format(len(test_class)))\n",
    "\n",
    "train_class_counts = np.unique(train_class, return_counts=True)\n",
    "print(\"train class counts\")\n",
    "print(\"------------------\")\n",
    "for name, counts in zip(train_class_counts[0], train_class_counts[1]):\n",
    "  print(\"{} has {} data points\" .format(name, counts))\n",
    "\n",
    "  \n",
    "\n",
    "from sklearn import preprocessing \n",
    "le = preprocessing.LabelEncoder()\n",
    "\n",
    "train_label = le.fit_transform(train_class)\n",
    "valid_label = le.transform(valid_class)\n",
    "test_label = le.transform(test_class)\n",
    "\n",
    "NUM_CLASSES = 10\n",
    "def input_preprocess(image, label):\n",
    "    label = tf.one_hot(label, NUM_CLASSES)\n",
    "    return image, label\n",
    "\n",
    "class TofuDataset(Dataset):\n",
    "\n",
    "    def __init__(self,  data=None, label=None, transform=None):\n",
    "\n",
    "        self.transform = transform\n",
    "\n",
    "        self.data = data\n",
    "        self.label = label      \n",
    "\n",
    "\n",
    "    def __len__(self):\n",
    "        return len(self.data)\n",
    "\n",
    "    def __getitem__(self, index):\n",
    "        img, target = self.data[index], self.label[index]\n",
    "        \n",
    "        if self.transform is not None:\n",
    "            img = self.transform(img)\n",
    "\n",
    "        return img, target\n",
    "\n",
    "def normalization_parameter(dataloader):\n",
    "    mean = 0.\n",
    "    std = 0.\n",
    "    nb_samples = len(dataloader.dataset)\n",
    "    for data,_ in tqdm(dataloader):\n",
    "        batch_samples = data.size(0)\n",
    "        data = data.view(batch_samples, data.size(1), -1)   # (batch, channel, width*height)\n",
    "        mean += data.mean(2).sum(0)   # 각 채널별로 평균값 구하고 배치 사이즈만큼에 대해서 더함 # shape: (channel)\n",
    "        std += data.std(2).sum(0)\n",
    "    mean /= nb_samples\n",
    "    std /= nb_samples\n",
    "    return mean.numpy(),std.numpy()\n",
    "\n",
    "# 이미지 데이터셋에 대해서 각 채널별로 mean, std 구하기 \n",
    "\n",
    "batch_size = 512\n",
    "\n",
    "train_transforms = transforms.Compose([                                       \n",
    "                                        transforms.ToTensor()])  #ToTensor: [0,255] -> [0,1] range 변환\n",
    "\n",
    "train_data = TofuDataset(data=train_image, label=train_label, transform=train_transforms)\n",
    "train_loader =  DataLoader(train_data, batch_size = batch_size , shuffle = True)\n",
    "# mean,std = normalization_parameter(train_loader)\n",
    "\n",
    "# print(mean,std)\n",
    "\n",
    "# print(mean,std)\n",
    "mean = [0.39665315 ,0.40428504 ,0.38178203]\n",
    "std = [0.14272803, 0.14405888 ,0.0868382 ]\n",
    "\n",
    "\n",
    "\n",
    "train_dataset = TofuDataset(data=train_image, label=train_label, transform=train_transforms)\n",
    "valid_dataset = TofuDataset(data = valid_image, label=valid_label, transform=train_transforms)\n",
    "test_dataset = TofuDataset(data=test_image, label=test_label, transform=train_transforms)\n",
    "\n",
    "batch_size=64\n",
    "dataloaders = {}\n",
    "dataloaders['train'] = DataLoader(train_dataset, batch_size=batch_size,\n",
    "                        shuffle=True, num_workers=0)\n",
    "dataloaders['val'] = DataLoader(valid_dataset, batch_size=batch_size,\n",
    "                        shuffle=True, num_workers=0)\n",
    "dataloaders['test'] = DataLoader(test_dataset, batch_size=batch_size,\n",
    "                        shuffle=False, num_workers=0)\n",
    "\n",
    "#check dataloader shape\n",
    "\n",
    "for img, label in dataloaders['train']:\n",
    "    print(img.shape)\n",
    "    print(label)\n",
    "    break"
   ]
  },
  {
   "cell_type": "markdown",
   "metadata": {
    "id": "PQW4LBI2FAqU"
   },
   "source": [
    "### predict 10 class using classificaiton network "
   ]
  },
  {
   "cell_type": "code",
   "execution_count": null,
   "metadata": {
    "collapsed": true,
    "id": "M14P1fWEacp5"
   },
   "outputs": [],
   "source": [
    "# predict over tofu test datasets\n",
    "\n",
    "device = 'cuda:0'\n",
    "class_net = class_net.to(device)\n",
    "\n",
    "class_net.eval() \n",
    "phase = 'test'\n",
    "\n",
    "pred_list = []\n",
    "true_list = []\n",
    "\n",
    "with torch.no_grad():\n",
    "    for inputs, labels in dataloaders[phase]:\n",
    "        inputs = inputs.to(device)\n",
    "        outputs = class_net(inputs)\n",
    "        _, preds = torch.max(outputs.data, 1)\n",
    "   \n",
    "        pred_list += preds.cpu().tolist()\n",
    "        true_list += labels.cpu().tolist()"
   ]
  },
  {
   "cell_type": "code",
   "execution_count": null,
   "metadata": {
    "colab": {
     "base_uri": "https://localhost:8080/"
    },
    "id": "hed0xaXBacp5",
    "outputId": "0457ad91-dd6a-4471-e299-ad1a82a6c457"
   },
   "outputs": [
    {
     "data": {
      "text/plain": [
       "0.8724752001912275"
      ]
     },
     "execution_count": 30,
     "metadata": {
      "tags": []
     },
     "output_type": "execute_result"
    }
   ],
   "source": [
    "from sklearn.metrics import accuracy_score\n",
    "accuracy_score(true_list, pred_list)"
   ]
  },
  {
   "cell_type": "markdown",
   "metadata": {
    "id": "RIXXoy18acp5"
   },
   "source": [
    "# regional attenion layer w load"
   ]
  },
  {
   "cell_type": "code",
   "execution_count": null,
   "metadata": {
    "id": "bouc9atC36od"
   },
   "outputs": [],
   "source": [
    "dic = torch.load('/content/drive/MyDrive/Kaier_Tofu_Data/Regional attention/regional_attention_efficientnet.pt')"
   ]
  },
  {
   "cell_type": "code",
   "execution_count": null,
   "metadata": {
    "id": "yfhjgNPoacp5",
    "scrolled": true
   },
   "outputs": [],
   "source": [
    "net.region_attention.conv_att_1.weight.data=dic['region_attention.conv_att_1.weight']\n",
    "net.region_attention.conv_att_1.bias.data=dic['region_attention.conv_att_1.bias']\n",
    "net.region_attention.conv_att_2.weight.data=dic['region_attention.conv_att_2.weight']\n",
    "net.region_attention.conv_att_2.bias.data=dic['region_attention.conv_att_2.bias']"
   ]
  },
  {
   "cell_type": "code",
   "execution_count": null,
   "metadata": {
    "id": "ERr4q_tFacp5"
   },
   "outputs": [],
   "source": [
    "net.eval()\n",
    "gpu_num = 0\n",
    "net = net.cuda(gpu_num)  "
   ]
  },
  {
   "cell_type": "markdown",
   "metadata": {
    "id": "zySYyjPoacp5"
   },
   "source": [
    "### tofu data - load file list"
   ]
  },
  {
   "cell_type": "code",
   "execution_count": null,
   "metadata": {
    "id": "9BmwrJPnacp6"
   },
   "outputs": [],
   "source": [
    "gpu_num = 0\n",
    "S = 1024 #Maximum dimension\n",
    "temp_dir = 'temp'\n",
    "\n",
    "means = np.array([103.93900299, 116.77899933, 123.68000031], dtype=np.float32)[None, :, None, None]\n"
   ]
  },
  {
   "cell_type": "code",
   "execution_count": null,
   "metadata": {
    "id": "ojZ4vTT8acp6"
   },
   "outputs": [],
   "source": [
    "from glob import glob\n",
    "\n",
    "normal_folders = ['정상A', '정상B']\n",
    "abnormal_folders = ['금속', '머리카락', '벌레', '상단불량D', '상단불량E', '유바', '탄화물', '플라스틱']\n",
    "data_path = '/workspace/TOFU_Kaier/DB'\n",
    "test_path = 'test_1345'\n",
    "\n",
    "q_filelist = []\n",
    "\n",
    "for fold in (normal_folders+abnormal_folders):\n",
    "            fpattern = os.path.join(data_path,  f'{test_path}/{fold}/*.jpg')\n",
    "            fpath = sorted(glob(fpattern))\n",
    "            q_filelist += fpath\n",
    "            #print(fpath)\n",
    "            "
   ]
  },
  {
   "cell_type": "code",
   "execution_count": null,
   "metadata": {
    "colab": {
     "base_uri": "https://localhost:8080/"
    },
    "id": "nkYbXQeOacp6",
    "outputId": "69337e93-705a-4138-d428-1fe891711771"
   },
   "outputs": [
    {
     "name": "stdout",
     "output_type": "stream",
     "text": [
      "0\n"
     ]
    }
   ],
   "source": [
    "print(len(q_filelist))"
   ]
  },
  {
   "cell_type": "markdown",
   "metadata": {
    "id": "GwNh89yAacp6"
   },
   "source": [
    "# extract ROI"
   ]
  },
  {
   "cell_type": "code",
   "execution_count": null,
   "metadata": {
    "id": "66MBsdyvacp6"
   },
   "outputs": [],
   "source": [
    "class ImageHelper:\n",
    "    def __init__(self):\n",
    "      pass\n",
    "    def get_features(self, I, net, gpu_num):\n",
    "\n",
    "        output, rois, idx_list = net(Variable(torch.from_numpy(I).cuda(gpu_num)))\n",
    "\n",
    "        return output, rois, idx_list\n",
    "\n",
    "    def load_and_prepare_image(self, image, roi=None):\n",
    "\n",
    "        im = image.cpu().numpy()\n",
    "\n",
    "\n",
    "        return im"
   ]
  },
  {
   "cell_type": "code",
   "execution_count": null,
   "metadata": {
    "id": "0hy72h_Kacp7"
   },
   "outputs": [],
   "source": [
    "image_helper = ImageHelper()"
   ]
  },
  {
   "cell_type": "code",
   "execution_count": null,
   "metadata": {
    "id": "47am3GoDacp7"
   },
   "outputs": [],
   "source": [
    "def extract_roi_features( image_helper, net, image, gpu_num):\n",
    "\n",
    "    I = image_helper.load_and_prepare_image(image,roi=None)\n",
    "    _, rois, idx_list = image_helper.get_features(I, net, gpu_num)\n",
    "    return rois, idx_list\n",
    "\n"
   ]
  },
  {
   "cell_type": "markdown",
   "metadata": {
    "id": "QeoOSNEQacp8"
   },
   "source": [
    "attention score를 높은 7개 순서대로 sorting"
   ]
  },
  {
   "cell_type": "code",
   "execution_count": null,
   "metadata": {
    "id": "ryUyvmMSacp8"
   },
   "outputs": [],
   "source": [
    "num=3\n",
    "idx_list = [sorted(tol_query, key=lambda x:-x[1])[i][0] for i in range(num)]"
   ]
  },
  {
   "cell_type": "code",
   "execution_count": null,
   "metadata": {
    "collapsed": true,
    "id": "A4laOYHpacp8"
   },
   "outputs": [],
   "source": [
    "sorted(tol_query, key=lambda x:-x[1])"
   ]
  },
  {
   "cell_type": "code",
   "execution_count": null,
   "metadata": {
    "id": "Kxe-xtjFacp8"
   },
   "outputs": [],
   "source": [
    "idx_list"
   ]
  },
  {
   "cell_type": "markdown",
   "metadata": {
    "id": "2WJahLtbacp8"
   },
   "source": [
    "### 모든 test 데이터셋에 대해서 ROI region과 attention idx 뽑기 "
   ]
  },
  {
   "cell_type": "code",
   "execution_count": null,
   "metadata": {
    "id": "4ksj_-Eqacp9"
   },
   "outputs": [],
   "source": [
    "dataloaders['roi_test'] = DataLoader(test_dataset, batch_size=2,\n",
    "                        shuffle=False, num_workers=0)"
   ]
  },
  {
   "cell_type": "code",
   "execution_count": null,
   "metadata": {
    "collapsed": true,
    "id": "xzF0TzNoacp9"
   },
   "outputs": [],
   "source": [
    "num = 2\n",
    "\n",
    "def tensor_to_list(x):\n",
    "  return x[1].cpu().tolist()\n",
    "\n",
    "tol_rois_list = []\n",
    "idx_group = []\n",
    "tol_query_list = []\n",
    "\n",
    "for i, (img, label) in (enumerate(dataloaders['roi_test'])):\n",
    "\n",
    "    tol_rois, tol_query  = extract_roi_features(image_helper, net, img, gpu_num)\n",
    "    break\n",
    "    idx_list = [sorted(tol_query, key=lambda x:-x[1])[i][0] for i in range(len(tol_query))]\n",
    "    if i==0: \n",
    "      tol_rois_list.append(tol_rois.cpu().numpy())\n",
    "\n",
    "    idx_group.append(idx_list)    \n",
    "    tol_query_list.append(list(map(tensor_to_list, tol_query)))\n",
    "    \n",
    " \n",
    "\n",
    "  "
   ]
  },
  {
   "cell_type": "code",
   "execution_count": null,
   "metadata": {
    "id": "DGYosSaLRhT7"
   },
   "outputs": [],
   "source": [
    "len(tol_query)"
   ]
  },
  {
   "cell_type": "code",
   "execution_count": null,
   "metadata": {
    "id": "bSHo4OIkRdd6"
   },
   "outputs": [],
   "source": [
    "img.shape"
   ]
  },
  {
   "cell_type": "code",
   "execution_count": null,
   "metadata": {
    "collapsed": true,
    "id": "T8iO7t33NLjB"
   },
   "outputs": [],
   "source": [
    "tol_query_list"
   ]
  },
  {
   "cell_type": "code",
   "execution_count": null,
   "metadata": {
    "collapsed": true,
    "id": "RPAKTFhmNe7O"
   },
   "outputs": [],
   "source": [
    "idx_group"
   ]
  },
  {
   "cell_type": "code",
   "execution_count": null,
   "metadata": {
    "id": "5wiYk0uoZmAR"
   },
   "outputs": [],
   "source": [
    "tol_dict = {}\n",
    "tol_dict['tol_rois'] = tol_rois_list\n",
    "tol_dict['attention_idx'] = idx_group"
   ]
  },
  {
   "cell_type": "code",
   "execution_count": null,
   "metadata": {
    "id": "pVSNiN_BaSEf"
   },
   "outputs": [],
   "source": [
    "len(idx_group)"
   ]
  },
  {
   "cell_type": "code",
   "execution_count": null,
   "metadata": {
    "id": "hkFSOqgiaRNV"
   },
   "outputs": [],
   "source": [
    "with open('/content/drive/MyDrive/Kaier_Tofu_Data/Regional attention/test_data_attention_idx.pickle', 'wb') as f:\n",
    "  pickle.dump(tol_dict, f)"
   ]
  },
  {
   "cell_type": "code",
   "execution_count": null,
   "metadata": {
    "id": "uzUb6nekVsPn"
   },
   "outputs": [],
   "source": [
    "with open('/content/drive/MyDrive/Kaier_Tofu_Data/Regional attention/test_data_attention_idx.pickle', 'rb') as f:\n",
    "  tmp_dict = pickle.load(f)"
   ]
  },
  {
   "cell_type": "code",
   "execution_count": null,
   "metadata": {
    "id": "RVMFvZUK5gDK"
   },
   "outputs": [],
   "source": [
    "tol_rois_list = tmp_dict['tol_rois']\n",
    "idx_group = tmp_dict['attention_idx']"
   ]
  },
  {
   "cell_type": "code",
   "execution_count": null,
   "metadata": {
    "collapsed": true,
    "id": "bUqtMKCmacp9"
   },
   "outputs": [],
   "source": [
    "tol_query"
   ]
  },
  {
   "cell_type": "code",
   "execution_count": null,
   "metadata": {
    "collapsed": true,
    "id": "jHAo1Uncacp9"
   },
   "outputs": [],
   "source": [
    "i=0\n",
    "for img, label in dataloaders['roi_test']:\n",
    "    print(img)\n",
    "    if i==2:\n",
    "        break\n",
    "    i+=1\n",
    "    "
   ]
  },
  {
   "cell_type": "code",
   "execution_count": null,
   "metadata": {
    "id": "NJQMGrMNacp-"
   },
   "outputs": [],
   "source": [
    "len(tol_rois_list)"
   ]
  },
  {
   "cell_type": "code",
   "execution_count": null,
   "metadata": {
    "collapsed": true,
    "id": "97yI2pPRacp-"
   },
   "outputs": [],
   "source": [
    "tol_rois_list[0]"
   ]
  },
  {
   "cell_type": "code",
   "execution_count": null,
   "metadata": {
    "id": "AttgcJO7acp-"
   },
   "outputs": [],
   "source": [
    "idx_group[-10:]"
   ]
  },
  {
   "cell_type": "markdown",
   "metadata": {
    "id": "ZyWbj1Duacp-"
   },
   "source": [
    "# draw roi box"
   ]
  },
  {
   "cell_type": "code",
   "execution_count": null,
   "metadata": {
    "colab": {
     "base_uri": "https://localhost:8080/"
    },
    "collapsed": true,
    "id": "YJSyfLoOO7hz",
    "outputId": "5e8499d8-9eae-4754-9b96-412600f510fe"
   },
   "outputs": [
    {
     "data": {
      "text/plain": [
       "['aliceblue',\n",
       " 'antiquewhite',\n",
       " 'aqua',\n",
       " 'aquamarine',\n",
       " 'azure',\n",
       " 'beige',\n",
       " 'bisque',\n",
       " 'black',\n",
       " 'blanchedalmond',\n",
       " 'blue',\n",
       " 'blueviolet',\n",
       " 'brown',\n",
       " 'burlywood',\n",
       " 'cadetblue',\n",
       " 'chartreuse',\n",
       " 'chocolate',\n",
       " 'coral',\n",
       " 'cornflowerblue',\n",
       " 'cornsilk',\n",
       " 'crimson',\n",
       " 'cyan',\n",
       " 'darkblue',\n",
       " 'darkcyan',\n",
       " 'darkgoldenrod',\n",
       " 'darkgray',\n",
       " 'darkgrey',\n",
       " 'darkgreen',\n",
       " 'darkkhaki',\n",
       " 'darkmagenta',\n",
       " 'darkolivegreen',\n",
       " 'darkorange',\n",
       " 'darkorchid',\n",
       " 'darkred',\n",
       " 'darksalmon',\n",
       " 'darkseagreen',\n",
       " 'darkslateblue',\n",
       " 'darkslategray',\n",
       " 'darkslategrey',\n",
       " 'darkturquoise',\n",
       " 'darkviolet',\n",
       " 'deeppink',\n",
       " 'deepskyblue',\n",
       " 'dimgray',\n",
       " 'dimgrey',\n",
       " 'dodgerblue',\n",
       " 'firebrick',\n",
       " 'floralwhite',\n",
       " 'forestgreen',\n",
       " 'fuchsia',\n",
       " 'gainsboro',\n",
       " 'ghostwhite',\n",
       " 'gold',\n",
       " 'goldenrod',\n",
       " 'gray',\n",
       " 'grey',\n",
       " 'green',\n",
       " 'greenyellow',\n",
       " 'honeydew',\n",
       " 'hotpink',\n",
       " 'indianred',\n",
       " 'indigo',\n",
       " 'ivory',\n",
       " 'khaki',\n",
       " 'lavender',\n",
       " 'lavenderblush',\n",
       " 'lawngreen',\n",
       " 'lemonchiffon',\n",
       " 'lightblue',\n",
       " 'lightcoral',\n",
       " 'lightcyan',\n",
       " 'lightgoldenrodyellow',\n",
       " 'lightgreen',\n",
       " 'lightgray',\n",
       " 'lightgrey',\n",
       " 'lightpink',\n",
       " 'lightsalmon',\n",
       " 'lightseagreen',\n",
       " 'lightskyblue',\n",
       " 'lightslategray',\n",
       " 'lightslategrey',\n",
       " 'lightsteelblue',\n",
       " 'lightyellow',\n",
       " 'lime',\n",
       " 'limegreen',\n",
       " 'linen',\n",
       " 'magenta',\n",
       " 'maroon',\n",
       " 'mediumaquamarine',\n",
       " 'mediumblue',\n",
       " 'mediumorchid',\n",
       " 'mediumpurple',\n",
       " 'mediumseagreen',\n",
       " 'mediumslateblue',\n",
       " 'mediumspringgreen',\n",
       " 'mediumturquoise',\n",
       " 'mediumvioletred',\n",
       " 'midnightblue',\n",
       " 'mintcream',\n",
       " 'mistyrose',\n",
       " 'moccasin',\n",
       " 'navajowhite',\n",
       " 'navy',\n",
       " 'oldlace',\n",
       " 'olive',\n",
       " 'olivedrab',\n",
       " 'orange',\n",
       " 'orangered',\n",
       " 'orchid',\n",
       " 'palegoldenrod',\n",
       " 'palegreen',\n",
       " 'paleturquoise',\n",
       " 'palevioletred',\n",
       " 'papayawhip',\n",
       " 'peachpuff',\n",
       " 'peru',\n",
       " 'pink',\n",
       " 'plum',\n",
       " 'powderblue',\n",
       " 'purple',\n",
       " 'rebeccapurple',\n",
       " 'red',\n",
       " 'rosybrown',\n",
       " 'royalblue',\n",
       " 'saddlebrown',\n",
       " 'salmon',\n",
       " 'sandybrown',\n",
       " 'seagreen',\n",
       " 'seashell',\n",
       " 'sienna',\n",
       " 'silver',\n",
       " 'skyblue',\n",
       " 'slateblue',\n",
       " 'slategray',\n",
       " 'slategrey',\n",
       " 'snow',\n",
       " 'springgreen',\n",
       " 'steelblue',\n",
       " 'tan',\n",
       " 'teal',\n",
       " 'thistle',\n",
       " 'tomato',\n",
       " 'turquoise',\n",
       " 'violet',\n",
       " 'wheat',\n",
       " 'white',\n",
       " 'whitesmoke',\n",
       " 'yellow',\n",
       " 'yellowgreen']"
      ]
     },
     "execution_count": 104,
     "metadata": {
      "tags": []
     },
     "output_type": "execute_result"
    }
   ],
   "source": [
    "PIL_color_name_list = []\n",
    "for name, code in PIL.ImageColor.colormap.items():\n",
    "  PIL_color_name_list.append(name)\n",
    "PIL_color_name_list"
   ]
  },
  {
   "cell_type": "code",
   "execution_count": null,
   "metadata": {
    "id": "J-x2j-9lN25-"
   },
   "outputs": [],
   "source": [
    "def pil_draw_rect2(image, roi_list):\n",
    "    image = Image.fromarray(image)\n",
    "    draw = ImageDraw.Draw(image)\n",
    "    #color = ['red', 'yellow']\n",
    "    for i, roi in enumerate(roi_list):\n",
    "            draw.rectangle(((roi[1], roi[2]), (roi[3], roi[4])), outline=PIL_color_name_list[i], width=1)\n",
    "    return image"
   ]
  },
  {
   "cell_type": "code",
   "execution_count": null,
   "metadata": {
    "colab": {
     "base_uri": "https://localhost:8080/",
     "height": 269
    },
    "id": "TwRf69cPNsBI",
    "outputId": "550876b1-e27b-4a0e-93b8-e8a2ac3f9eae"
   },
   "outputs": [
    {
     "data": {
      "image/png": "[encoded data removed]",
      "text/plain": [
       "<Figure size 432x288 with 1 Axes>"
      ]
     },
     "metadata": {
      "needs_background": "light",
      "tags": []
     },
     "output_type": "display_data"
    }
   ],
   "source": [
    "# 모든 region을 plot\n",
    "image = pil_draw_rect2(test_image[0],tol_rois_list[0][np.array(idx_group)][0])\n",
    "numpy_image = np.array(image)\n",
    "\n",
    "plt.imshow(numpy_image)\n",
    "plt.show()"
   ]
  },
  {
   "cell_type": "code",
   "execution_count": null,
   "metadata": {
    "id": "jdb7qVNHacp-"
   },
   "outputs": [],
   "source": [
    "import PIL\n",
    "from PIL import Image\n",
    "from PIL import ImageDraw\n",
    "import numpy as np\n",
    "import matplotlib.pyplot as plt"
   ]
  },
  {
   "cell_type": "code",
   "execution_count": null,
   "metadata": {
    "colab": {
     "base_uri": "https://localhost:8080/",
     "height": 286
    },
    "id": "0xuiOxMjacp_",
    "outputId": "69fd2e1c-6f2f-4a78-ce66-4812f0b3f858"
   },
   "outputs": [
    {
     "data": {
      "text/plain": [
       "<matplotlib.image.AxesImage at 0x7f93c03fab90>"
      ]
     },
     "execution_count": 42,
     "metadata": {
      "tags": []
     },
     "output_type": "execute_result"
    },
    {
     "data": {
      "image/png": "[encoded data removed]",
      "text/plain": [
       "<Figure size 432x288 with 1 Axes>"
      ]
     },
     "metadata": {
      "needs_background": "light",
      "tags": []
     },
     "output_type": "display_data"
    }
   ],
   "source": [
    "im = test_image[0]\n",
    "im_size_hw = np.array(im.shape[0:2])\n",
    "ratio = float(1024) / np.max(im_size_hw)\n",
    "new_size = tuple(np.round(im_size_hw * ratio).astype(np.int32))  #(854, 1024)\n",
    "im_resized = cv2.resize(im, (new_size[1], new_size[0]))\n",
    "#image_rgb = cv2.cvtColor(im_resized, cv2.COLOR_BGR2RGB)\n",
    "plt.imshow(im_resized)"
   ]
  },
  {
   "cell_type": "code",
   "execution_count": null,
   "metadata": {
    "id": "WocpgPQyacp_"
   },
   "outputs": [],
   "source": [
    "def pil_draw_rect(image, roi_list):\n",
    "    image = Image.fromarray(image)\n",
    "    draw = ImageDraw.Draw(image)\n",
    "    color = ['red', 'yellow']\n",
    "    for i, roi in enumerate(roi_list):\n",
    "            draw.rectangle(((roi[1], roi[2]), (roi[3], roi[4])), outline=color[i], width=1)\n",
    "    return image"
   ]
  },
  {
   "cell_type": "code",
   "execution_count": null,
   "metadata": {
    "collapsed": true,
    "id": "Wz0LZxWGacp_",
    "outputId": "2dbc3448-17b5-4dbc-d9bc-f62cea3e152e"
   },
   "outputs": [
    {
     "data": {
      "text/plain": [
       "tensor([[   0.,    0.,    0.,  853.,  853.],\n",
       "        [   0.,  170.,    0., 1023.,  853.],\n",
       "        [   0.,    0.,    0.,  568.,  568.],\n",
       "        [   0.,  227.,    0.,  795.,  568.],\n",
       "        [   0.,  455.,    0., 1023.,  568.],\n",
       "        [   0.,    0.,  285.,  568.,  853.],\n",
       "        [   0.,  227.,  285.,  795.,  853.],\n",
       "        [   0.,  455.,  285., 1023.,  853.],\n",
       "        [   0.,    0.,    0.,  426.,  426.],\n",
       "        [   0.,  199.,    0.,  625.,  426.],\n",
       "        [   0.,  398.,    0.,  824.,  426.],\n",
       "        [   0.,  597.,    0., 1023.,  426.],\n",
       "        [   0.,    0.,  213.,  426.,  639.],\n",
       "        [   0.,  199.,  213.,  625.,  639.],\n",
       "        [   0.,  398.,  213.,  824.,  639.],\n",
       "        [   0.,  597.,  213., 1023.,  639.],\n",
       "        [   0.,    0.,  427.,  426.,  853.],\n",
       "        [   0.,  199.,  427.,  625.,  853.],\n",
       "        [   0.,  398.,  427.,  824.,  853.],\n",
       "        [   0.,  597.,  427., 1023.,  853.],\n",
       "        [   0.,    0.,    0.,  340.,  340.],\n",
       "        [   0.,  170.,    0.,  510.,  340.],\n",
       "        [   0.,  341.,    0.,  681.,  340.],\n",
       "        [   0.,  512.,    0.,  852.,  340.],\n",
       "        [   0.,  683.,    0., 1023.,  340.],\n",
       "        [   0.,    0.,  171.,  340.,  511.],\n",
       "        [   0.,  170.,  171.,  510.,  511.],\n",
       "        [   0.,  341.,  171.,  681.,  511.],\n",
       "        [   0.,  512.,  171.,  852.,  511.],\n",
       "        [   0.,  683.,  171., 1023.,  511.],\n",
       "        [   0.,    0.,  342.,  340.,  682.],\n",
       "        [   0.,  170.,  342.,  510.,  682.],\n",
       "        [   0.,  341.,  342.,  681.,  682.],\n",
       "        [   0.,  512.,  342.,  852.,  682.],\n",
       "        [   0.,  683.,  342., 1023.,  682.],\n",
       "        [   0.,    0.,  513.,  340.,  853.],\n",
       "        [   0.,  170.,  513.,  510.,  853.],\n",
       "        [   0.,  341.,  513.,  681.,  853.],\n",
       "        [   0.,  512.,  513.,  852.,  853.],\n",
       "        [   0.,  683.,  513., 1023.,  853.],\n",
       "        [   0.,    0.,    0.,  283.,  283.],\n",
       "        [   0.,  148.,    0.,  431.,  283.],\n",
       "        [   0.,  296.,    0.,  579.,  283.],\n",
       "        [   0.,  444.,    0.,  727.,  283.],\n",
       "        [   0.,  592.,    0.,  875.,  283.],\n",
       "        [   0.,  740.,    0., 1023.,  283.],\n",
       "        [   0.,    0.,  142.,  283.,  425.],\n",
       "        [   0.,  148.,  142.,  431.,  425.],\n",
       "        [   0.,  296.,  142.,  579.,  425.],\n",
       "        [   0.,  444.,  142.,  727.,  425.],\n",
       "        [   0.,  592.,  142.,  875.,  425.],\n",
       "        [   0.,  740.,  142., 1023.,  425.],\n",
       "        [   0.,    0.,  285.,  283.,  568.],\n",
       "        [   0.,  148.,  285.,  431.,  568.],\n",
       "        [   0.,  296.,  285.,  579.,  568.],\n",
       "        [   0.,  444.,  285.,  727.,  568.],\n",
       "        [   0.,  592.,  285.,  875.,  568.],\n",
       "        [   0.,  740.,  285., 1023.,  568.],\n",
       "        [   0.,    0.,  427.,  283.,  710.],\n",
       "        [   0.,  148.,  427.,  431.,  710.],\n",
       "        [   0.,  296.,  427.,  579.,  710.],\n",
       "        [   0.,  444.,  427.,  727.,  710.],\n",
       "        [   0.,  592.,  427.,  875.,  710.],\n",
       "        [   0.,  740.,  427., 1023.,  710.],\n",
       "        [   0.,    0.,  570.,  283.,  853.],\n",
       "        [   0.,  148.,  570.,  431.,  853.],\n",
       "        [   0.,  296.,  570.,  579.,  853.],\n",
       "        [   0.,  444.,  570.,  727.,  853.],\n",
       "        [   0.,  592.,  570.,  875.,  853.],\n",
       "        [   0.,  740.,  570., 1023.,  853.]])"
      ]
     },
     "execution_count": 162,
     "metadata": {
      "tags": []
     },
     "output_type": "execute_result"
    }
   ],
   "source": [
    "tol_rois"
   ]
  },
  {
   "cell_type": "code",
   "execution_count": null,
   "metadata": {
    "colab": {
     "base_uri": "https://localhost:8080/",
     "height": 235
    },
    "id": "RIdbnqMXacp_",
    "outputId": "ba2beb87-7677-4c13-d5b4-ef3a56baeb37",
    "scrolled": false
   },
   "outputs": [
    {
     "ename": "NameError",
     "evalue": "ignored",
     "output_type": "error",
     "traceback": [
      "\u001b[0;31m---------------------------------------------------------------------------\u001b[0m",
      "\u001b[0;31mNameError\u001b[0m                                 Traceback (most recent call last)",
      "\u001b[0;32m<ipython-input-49-83ac0618daaa>\u001b[0m in \u001b[0;36m<module>\u001b[0;34m()\u001b[0m\n\u001b[0;32m----> 1\u001b[0;31m \u001b[0mimage\u001b[0m \u001b[0;34m=\u001b[0m \u001b[0mpil_draw_rect\u001b[0m\u001b[0;34m(\u001b[0m\u001b[0mimage_rgb\u001b[0m\u001b[0;34m,\u001b[0m\u001b[0mtol_rois_list\u001b[0m\u001b[0;34m[\u001b[0m\u001b[0;36m2000\u001b[0m\u001b[0;34m]\u001b[0m\u001b[0;34m[\u001b[0m\u001b[0midx_group\u001b[0m\u001b[0;34m[\u001b[0m\u001b[0;36m2000\u001b[0m\u001b[0;34m]\u001b[0m\u001b[0;34m]\u001b[0m\u001b[0;34m)\u001b[0m\u001b[0;34m\u001b[0m\u001b[0;34m\u001b[0m\u001b[0m\n\u001b[0m\u001b[1;32m      2\u001b[0m \u001b[0;34m\u001b[0m\u001b[0m\n\u001b[1;32m      3\u001b[0m \u001b[0mnumpy_image\u001b[0m \u001b[0;34m=\u001b[0m \u001b[0mnp\u001b[0m\u001b[0;34m.\u001b[0m\u001b[0marray\u001b[0m\u001b[0;34m(\u001b[0m\u001b[0mimage\u001b[0m\u001b[0;34m)\u001b[0m\u001b[0;34m\u001b[0m\u001b[0;34m\u001b[0m\u001b[0m\n\u001b[1;32m      4\u001b[0m \u001b[0;34m\u001b[0m\u001b[0m\n\u001b[1;32m      5\u001b[0m \u001b[0mplt\u001b[0m\u001b[0;34m.\u001b[0m\u001b[0mimshow\u001b[0m\u001b[0;34m(\u001b[0m\u001b[0mnumpy_image\u001b[0m\u001b[0;34m)\u001b[0m\u001b[0;34m\u001b[0m\u001b[0;34m\u001b[0m\u001b[0m\n",
      "\u001b[0;31mNameError\u001b[0m: name 'image_rgb' is not defined"
     ]
    }
   ],
   "source": [
    "image = pil_draw_rect(image_rgb,tol_rois_list[2000][idx_group[2000]])\n",
    "\n",
    "numpy_image = np.array(image)\n",
    "\n",
    "plt.imshow(numpy_image)\n",
    "plt.show()"
   ]
  },
  {
   "cell_type": "markdown",
   "metadata": {
    "id": "XMWJsZkTacp_"
   },
   "source": [
    "# Fail case study"
   ]
  },
  {
   "cell_type": "code",
   "execution_count": null,
   "metadata": {
    "colab": {
     "base_uri": "https://localhost:8080/"
    },
    "id": "f9doGOm8ds0D",
    "outputId": "1c1bcfbf-cfba-4112-ab6b-0a5435c6b5de"
   },
   "outputs": [
    {
     "data": {
      "text/plain": [
       "{0: '금속',\n",
       " 1: '머리카락',\n",
       " 2: '벌레',\n",
       " 3: '상단불량D',\n",
       " 4: '상단불량E',\n",
       " 5: '유바',\n",
       " 6: '정상A',\n",
       " 7: '정상B',\n",
       " 8: '탄화물',\n",
       " 9: '플라스틱'}"
      ]
     },
     "execution_count": 63,
     "metadata": {
      "tags": []
     },
     "output_type": "execute_result"
    }
   ],
   "source": [
    "le_name_mapping = dict(zip(le.transform(le.classes_),le.classes_))\n",
    "le_name_mapping"
   ]
  },
  {
   "cell_type": "markdown",
   "metadata": {
    "id": "Na5mJzVQacp_"
   },
   "source": [
    "### predict = 상단D, true = 정상B"
   ]
  },
  {
   "cell_type": "code",
   "execution_count": null,
   "metadata": {
    "id": "cgmO-fjkd6Fk"
   },
   "outputs": [],
   "source": [
    "idx_ = ((np.array(pred_list) == 3) & (np.array(true_list)==7))"
   ]
  },
  {
   "cell_type": "code",
   "execution_count": null,
   "metadata": {
    "colab": {
     "base_uri": "https://localhost:8080/"
    },
    "collapsed": true,
    "id": "Az6fQPzrelnB",
    "outputId": "af89f24b-f589-48a7-c022-ea592fb0ba3b"
   },
   "outputs": [
    {
     "data": {
      "text/plain": [
       "array([[[[53, 52, 70],\n",
       "         [53, 52, 68],\n",
       "         [53, 52, 68],\n",
       "         ...,\n",
       "         [45, 46, 64],\n",
       "         [45, 45, 63],\n",
       "         [43, 43, 57]],\n",
       "\n",
       "        [[53, 53, 68],\n",
       "         [54, 53, 68],\n",
       "         [53, 52, 68],\n",
       "         ...,\n",
       "         [46, 46, 65],\n",
       "         [46, 46, 64],\n",
       "         [44, 44, 59]],\n",
       "\n",
       "        [[53, 52, 68],\n",
       "         [53, 52, 68],\n",
       "         [53, 52, 68],\n",
       "         ...,\n",
       "         [49, 48, 67],\n",
       "         [49, 48, 65],\n",
       "         [46, 45, 61]],\n",
       "\n",
       "        ...,\n",
       "\n",
       "        [[46, 45, 63],\n",
       "         [46, 45, 63],\n",
       "         [46, 45, 63],\n",
       "         ...,\n",
       "         [45, 44, 61],\n",
       "         [47, 45, 64],\n",
       "         [45, 44, 59]],\n",
       "\n",
       "        [[46, 45, 64],\n",
       "         [46, 45, 64],\n",
       "         [46, 45, 63],\n",
       "         ...,\n",
       "         [45, 44, 62],\n",
       "         [47, 45, 64],\n",
       "         [45, 45, 60]],\n",
       "\n",
       "        [[42, 41, 58],\n",
       "         [43, 42, 58],\n",
       "         [43, 42, 58],\n",
       "         ...,\n",
       "         [41, 40, 56],\n",
       "         [42, 41, 58],\n",
       "         [41, 40, 55]]],\n",
       "\n",
       "\n",
       "       [[[54, 56, 71],\n",
       "         [53, 55, 70],\n",
       "         [53, 55, 70],\n",
       "         ...,\n",
       "         [50, 52, 67],\n",
       "         [51, 51, 66],\n",
       "         [48, 47, 64]],\n",
       "\n",
       "        [[54, 56, 71],\n",
       "         [54, 56, 71],\n",
       "         [53, 55, 70],\n",
       "         ...,\n",
       "         [52, 53, 68],\n",
       "         [52, 52, 67],\n",
       "         [49, 47, 63]],\n",
       "\n",
       "        [[55, 54, 70],\n",
       "         [54, 55, 70],\n",
       "         [54, 56, 71],\n",
       "         ...,\n",
       "         [56, 55, 71],\n",
       "         [57, 55, 71],\n",
       "         [52, 51, 64]],\n",
       "\n",
       "        ...,\n",
       "\n",
       "        [[47, 46, 64],\n",
       "         [48, 47, 65],\n",
       "         [48, 47, 65],\n",
       "         ...,\n",
       "         [50, 49, 66],\n",
       "         [54, 52, 70],\n",
       "         [53, 52, 69]],\n",
       "\n",
       "        [[47, 46, 64],\n",
       "         [48, 47, 66],\n",
       "         [48, 47, 66],\n",
       "         ...,\n",
       "         [50, 49, 66],\n",
       "         [53, 52, 69],\n",
       "         [53, 53, 67]],\n",
       "\n",
       "        [[45, 44, 60],\n",
       "         [45, 43, 61],\n",
       "         [44, 43, 61],\n",
       "         ...,\n",
       "         [45, 43, 61],\n",
       "         [48, 47, 64],\n",
       "         [48, 47, 63]]],\n",
       "\n",
       "\n",
       "       [[[56, 55, 71],\n",
       "         [56, 55, 71],\n",
       "         [55, 55, 70],\n",
       "         ...,\n",
       "         [52, 51, 67],\n",
       "         [52, 51, 68],\n",
       "         [48, 47, 62]],\n",
       "\n",
       "        [[56, 56, 71],\n",
       "         [55, 55, 71],\n",
       "         [55, 55, 71],\n",
       "         ...,\n",
       "         [53, 52, 68],\n",
       "         [53, 52, 69],\n",
       "         [48, 48, 63]],\n",
       "\n",
       "        [[54, 56, 71],\n",
       "         [54, 56, 71],\n",
       "         [54, 55, 70],\n",
       "         ...,\n",
       "         [56, 55, 71],\n",
       "         [55, 55, 71],\n",
       "         [50, 52, 64]],\n",
       "\n",
       "        ...,\n",
       "\n",
       "        [[47, 46, 65],\n",
       "         [48, 47, 64],\n",
       "         [48, 47, 64],\n",
       "         ...,\n",
       "         [51, 50, 67],\n",
       "         [55, 54, 71],\n",
       "         [55, 54, 70]],\n",
       "\n",
       "        [[48, 47, 66],\n",
       "         [48, 47, 65],\n",
       "         [48, 47, 66],\n",
       "         ...,\n",
       "         [51, 50, 66],\n",
       "         [55, 54, 71],\n",
       "         [55, 55, 69]],\n",
       "\n",
       "        [[44, 43, 60],\n",
       "         [44, 43, 60],\n",
       "         [43, 42, 60],\n",
       "         ...,\n",
       "         [46, 45, 62],\n",
       "         [49, 48, 66],\n",
       "         [51, 50, 64]]],\n",
       "\n",
       "\n",
       "       ...,\n",
       "\n",
       "\n",
       "       [[[46, 49, 54],\n",
       "         [49, 53, 58],\n",
       "         [48, 53, 59],\n",
       "         ...,\n",
       "         [39, 43, 51],\n",
       "         [38, 42, 51],\n",
       "         [38, 42, 51]],\n",
       "\n",
       "        [[50, 53, 58],\n",
       "         [54, 57, 65],\n",
       "         [53, 57, 67],\n",
       "         ...,\n",
       "         [42, 46, 55],\n",
       "         [42, 46, 55],\n",
       "         [43, 47, 56]],\n",
       "\n",
       "        [[50, 53, 57],\n",
       "         [53, 57, 64],\n",
       "         [53, 57, 66],\n",
       "         ...,\n",
       "         [42, 46, 55],\n",
       "         [41, 45, 54],\n",
       "         [42, 46, 55]],\n",
       "\n",
       "        ...,\n",
       "\n",
       "        [[55, 59, 64],\n",
       "         [59, 63, 70],\n",
       "         [58, 62, 69],\n",
       "         ...,\n",
       "         [49, 53, 60],\n",
       "         [49, 53, 60],\n",
       "         [49, 52, 61]],\n",
       "\n",
       "        [[55, 60, 64],\n",
       "         [58, 63, 71],\n",
       "         [58, 62, 70],\n",
       "         ...,\n",
       "         [49, 52, 61],\n",
       "         [51, 53, 61],\n",
       "         [50, 53, 62]],\n",
       "\n",
       "        [[55, 60, 64],\n",
       "         [59, 63, 69],\n",
       "         [57, 63, 67],\n",
       "         ...,\n",
       "         [47, 54, 61],\n",
       "         [50, 54, 61],\n",
       "         [50, 54, 63]]],\n",
       "\n",
       "\n",
       "       [[[52, 53, 71],\n",
       "         [52, 53, 71],\n",
       "         [51, 52, 70],\n",
       "         ...,\n",
       "         [50, 48, 68],\n",
       "         [48, 47, 69],\n",
       "         [43, 44, 65]],\n",
       "\n",
       "        [[52, 53, 71],\n",
       "         [53, 54, 72],\n",
       "         [52, 53, 71],\n",
       "         ...,\n",
       "         [51, 50, 70],\n",
       "         [49, 49, 68],\n",
       "         [45, 46, 64]],\n",
       "\n",
       "        [[52, 54, 70],\n",
       "         [52, 53, 72],\n",
       "         [52, 53, 71],\n",
       "         ...,\n",
       "         [52, 51, 69],\n",
       "         [50, 50, 67],\n",
       "         [46, 47, 65]],\n",
       "\n",
       "        ...,\n",
       "\n",
       "        [[46, 44, 64],\n",
       "         [46, 45, 65],\n",
       "         [46, 45, 66],\n",
       "         ...,\n",
       "         [50, 49, 67],\n",
       "         [53, 51, 71],\n",
       "         [52, 50, 70]],\n",
       "\n",
       "        [[47, 46, 63],\n",
       "         [47, 45, 64],\n",
       "         [46, 45, 65],\n",
       "         ...,\n",
       "         [50, 49, 67],\n",
       "         [53, 52, 71],\n",
       "         [51, 50, 68]],\n",
       "\n",
       "        [[43, 42, 57],\n",
       "         [42, 41, 58],\n",
       "         [42, 41, 59],\n",
       "         ...,\n",
       "         [45, 44, 60],\n",
       "         [48, 47, 63],\n",
       "         [47, 46, 62]]],\n",
       "\n",
       "\n",
       "       [[[46, 49, 53],\n",
       "         [50, 52, 60],\n",
       "         [50, 53, 61],\n",
       "         ...,\n",
       "         [40, 42, 49],\n",
       "         [39, 43, 49],\n",
       "         [39, 43, 50]],\n",
       "\n",
       "        [[50, 53, 59],\n",
       "         [54, 57, 64],\n",
       "         [54, 58, 66],\n",
       "         ...,\n",
       "         [43, 46, 56],\n",
       "         [42, 45, 56],\n",
       "         [42, 46, 55]],\n",
       "\n",
       "        [[49, 53, 61],\n",
       "         [53, 58, 65],\n",
       "         [54, 58, 67],\n",
       "         ...,\n",
       "         [42, 46, 54],\n",
       "         [42, 46, 53],\n",
       "         [41, 45, 54]],\n",
       "\n",
       "        ...,\n",
       "\n",
       "        [[56, 59, 64],\n",
       "         [59, 63, 69],\n",
       "         [58, 63, 67],\n",
       "         ...,\n",
       "         [48, 52, 61],\n",
       "         [49, 52, 61],\n",
       "         [49, 53, 62]],\n",
       "\n",
       "        [[55, 58, 63],\n",
       "         [58, 62, 69],\n",
       "         [58, 63, 67],\n",
       "         ...,\n",
       "         [50, 53, 62],\n",
       "         [49, 53, 62],\n",
       "         [49, 53, 62]],\n",
       "\n",
       "        [[56, 59, 64],\n",
       "         [59, 63, 68],\n",
       "         [59, 64, 67],\n",
       "         ...,\n",
       "         [51, 52, 62],\n",
       "         [50, 53, 64],\n",
       "         [48, 54, 61]]]], dtype=uint8)"
      ]
     },
     "execution_count": 45,
     "metadata": {
      "tags": []
     },
     "output_type": "execute_result"
    }
   ],
   "source": [
    "test_image"
   ]
  },
  {
   "cell_type": "code",
   "execution_count": null,
   "metadata": {
    "id": "73Say4KwirPC"
   },
   "outputs": [],
   "source": [
    "idx_.sum()"
   ]
  },
  {
   "cell_type": "code",
   "execution_count": null,
   "metadata": {
    "colab": {
     "base_uri": "https://localhost:8080/",
     "height": 241
    },
    "id": "XUe1ogE_JQ_O",
    "outputId": "e3ec9bcd-aa08-436b-8cb4-21630f66fbe8"
   },
   "outputs": [
    {
     "data": {
      "image/png": "[encoded data removed]",
      "text/plain": [
       "<PIL.Image.Image image mode=RGB size=224x224 at 0x7F93C03AFB50>"
      ]
     },
     "execution_count": 51,
     "metadata": {
      "tags": []
     },
     "output_type": "execute_result"
    }
   ],
   "source": [
    "pil_draw_rect(test_image[idx_][0],tol_rois_list[0][np.array(idx_group)[idx_][0]])"
   ]
  },
  {
   "cell_type": "code",
   "execution_count": null,
   "metadata": {
    "id": "PWll0kM4eSDR"
   },
   "outputs": [],
   "source": [
    "for i in range(idx_.sum()):\n",
    "  image = pil_draw_rect(test_image[idx_][i],tol_rois_list[0][np.array(idx_group)[idx_][i]])\n",
    "\n",
    "  # save image\n",
    "  image.save(os.path.join(\"/content/drive/MyDrive/Kaier_Tofu_Data/Regional attention/Fail case study/true_정상B\",str(i)+\".png\"))\n",
    "\n",
    "  # plot image\n",
    "  # numpy_image = np.array(image)\n",
    "\n",
    "  # plt.savefig()\n",
    "\n",
    "  # plt.imshow(numpy_image)\n",
    "  # plt.show()"
   ]
  },
  {
   "cell_type": "markdown",
   "metadata": {
    "id": "2kE8Z4R9kfzh"
   },
   "source": [
    "### predict=정상B, true=상단D"
   ]
  },
  {
   "cell_type": "code",
   "execution_count": null,
   "metadata": {
    "colab": {
     "base_uri": "https://localhost:8080/"
    },
    "id": "r_Yw6Oa_kmUi",
    "outputId": "df8ebd3b-d1a5-4049-dd7e-36be8f10efa3"
   },
   "outputs": [
    {
     "name": "stdout",
     "output_type": "stream",
     "text": [
      "173\n"
     ]
    }
   ],
   "source": [
    "idx_ = ((np.array(pred_list) == 7) & (np.array(true_list)==3))\n",
    "print(idx_.sum())"
   ]
  },
  {
   "cell_type": "code",
   "execution_count": null,
   "metadata": {
    "id": "h-XGmcFckwk8"
   },
   "outputs": [],
   "source": [
    "for i in range(idx_.sum()):\n",
    "  image = pil_draw_rect(test_image[idx_][i],tol_rois_list[0][np.array(idx_group)[idx_][i]])\n",
    "\n",
    "  # save image\n",
    "  image.save(os.path.join(\"/content/drive/MyDrive/Kaier_Tofu_Data/Regional attention/Fail case study/true_상단D\",str(i)+\".png\"))\n",
    "\n",
    "  # plot image\n",
    "  # numpy_image = np.array(image)\n",
    "\n",
    "  # plt.savefig()\n",
    "\n",
    "  # plt.imshow(numpy_image)\n",
    "  # plt.show()"
   ]
  },
  {
   "cell_type": "markdown",
   "metadata": {
    "id": "z4lbhM6Mk4bd"
   },
   "source": [
    "### predict=정상B, true=유바"
   ]
  },
  {
   "cell_type": "code",
   "execution_count": null,
   "metadata": {
    "colab": {
     "base_uri": "https://localhost:8080/"
    },
    "id": "FVmFE2DXlDFi",
    "outputId": "dad68b67-5cda-4607-f23c-03383f1e06f2"
   },
   "outputs": [
    {
     "name": "stdout",
     "output_type": "stream",
     "text": [
      "13\n"
     ]
    }
   ],
   "source": [
    "idx_ = ((np.array(pred_list) == 7) & (np.array(true_list)==5))\n",
    "print(idx_.sum())"
   ]
  },
  {
   "cell_type": "code",
   "execution_count": null,
   "metadata": {
    "id": "AZB5Gu49lDFj"
   },
   "outputs": [],
   "source": [
    "for i in range(idx_.sum()):\n",
    "  image = pil_draw_rect(test_image[idx_][i],tol_rois_list[0][np.array(idx_group)[idx_][i]])\n",
    "\n",
    "  # save image\n",
    "  image.save(os.path.join(\"/content/drive/MyDrive/Kaier_Tofu_Data/Regional attention/Fail case study/true_유바\",str(i)+\".png\"))\n",
    "\n",
    "  # plot image\n",
    "  # numpy_image = np.array(image)\n",
    "\n",
    "  # plt.savefig()\n",
    "\n",
    "  # plt.imshow(numpy_image)\n",
    "  # plt.show()"
   ]
  },
  {
   "cell_type": "markdown",
   "metadata": {
    "id": "H9r0CNJjk-ZS"
   },
   "source": [
    "### predict=정상A, true=유바"
   ]
  },
  {
   "cell_type": "code",
   "execution_count": null,
   "metadata": {
    "colab": {
     "base_uri": "https://localhost:8080/"
    },
    "id": "ReiCAyn0liq0",
    "outputId": "22b45b4f-ae9b-4885-e2b0-9f3ba00cd020"
   },
   "outputs": [
    {
     "name": "stdout",
     "output_type": "stream",
     "text": [
      "4\n"
     ]
    }
   ],
   "source": [
    "idx_ = ((np.array(pred_list) == 6) & (np.array(true_list)==5))\n",
    "print(idx_.sum())"
   ]
  },
  {
   "cell_type": "code",
   "execution_count": null,
   "metadata": {
    "id": "lY8xfn80liq1"
   },
   "outputs": [],
   "source": [
    "for i in range(idx_.sum()):\n",
    "  image = pil_draw_rect(test_image[idx_][i],tol_rois_list[0][np.array(idx_group)[idx_][i]])\n",
    "\n",
    "  # save image\n",
    "  image.save(os.path.join(\"/content/drive/MyDrive/Kaier_Tofu_Data/Regional attention/Fail case study/true_유바/predict_정상A\",str(i)+\".png\"))\n",
    "\n",
    "  # plot image\n",
    "  # numpy_image = np.array(image)\n",
    "\n",
    "  # plt.savefig()\n",
    "\n",
    "  # plt.imshow(numpy_image)\n",
    "  # plt.show()"
   ]
  },
  {
   "cell_type": "markdown",
   "metadata": {
    "id": "QCFG-90TliCz"
   },
   "source": [
    "### predict=정상B, true=정상B"
   ]
  },
  {
   "cell_type": "code",
   "execution_count": null,
   "metadata": {
    "colab": {
     "base_uri": "https://localhost:8080/"
    },
    "id": "9X01RUnX5zvJ",
    "outputId": "a2437bf7-85e6-4dc0-f664-1e76c9f08a4f"
   },
   "outputs": [
    {
     "name": "stdout",
     "output_type": "stream",
     "text": [
      "2196\n"
     ]
    }
   ],
   "source": [
    "idx_ = ((np.array(pred_list) == 7) & (np.array(true_list)==7))\n",
    "print(idx_.sum())"
   ]
  },
  {
   "cell_type": "code",
   "execution_count": null,
   "metadata": {
    "id": "eAd1JtkL53Ii"
   },
   "outputs": [],
   "source": [
    "for i in range(idx_.sum()):\n",
    "  image = pil_draw_rect(test_image[idx_][i],tol_rois_list[0][np.array(idx_group)[idx_][i]])\n",
    "\n",
    "  # save image\n",
    "  image.save(os.path.join(\"/content/drive/MyDrive/Kaier_Tofu_Data/Regional attention/Fail case study/true_정상B_predict_정상B\",str(i)+\".png\"))\n",
    "\n",
    "  if i==100:\n",
    "    break\n",
    "\n",
    "  # plot image\n",
    "  # numpy_image = np.array(image)\n",
    "\n",
    "  # plt.savefig()\n",
    "\n",
    "  # plt.imshow(numpy_image)\n",
    "  # plt.show()"
   ]
  },
  {
   "cell_type": "markdown",
   "metadata": {
    "id": "slkEDFNb8Vp-"
   },
   "source": [
    "### predict=상단D, true=상단D"
   ]
  },
  {
   "cell_type": "code",
   "execution_count": null,
   "metadata": {
    "colab": {
     "base_uri": "https://localhost:8080/"
    },
    "id": "Y9Bufq9I8cdC",
    "outputId": "4c9b4eeb-55df-4f60-94b0-eee5a909a3ee"
   },
   "outputs": [
    {
     "name": "stdout",
     "output_type": "stream",
     "text": [
      "653\n"
     ]
    }
   ],
   "source": [
    "idx_ = ((np.array(pred_list) == 3) & (np.array(true_list)==3))\n",
    "print(idx_.sum())"
   ]
  },
  {
   "cell_type": "code",
   "execution_count": null,
   "metadata": {
    "id": "H811VSTV8cdD"
   },
   "outputs": [],
   "source": [
    "for i in range(idx_.sum()):\n",
    "  image = pil_draw_rect(test_image[idx_][i],tol_rois_list[0][np.array(idx_group)[idx_][i]])\n",
    "\n",
    "  # save image\n",
    "  image.save(os.path.join(\"/content/drive/MyDrive/Kaier_Tofu_Data/Regional attention/Fail case study/true_상단D_predict_상단D\",str(i)+\".png\"))\n",
    "\n",
    "  if i==100:\n",
    "    break\n",
    "\n",
    "  # plot image\n",
    "  # numpy_image = np.array(image)\n",
    "\n",
    "  # plt.savefig()\n",
    "\n",
    "  # plt.imshow(numpy_image)\n",
    "  # plt.show()"
   ]
  },
  {
   "cell_type": "markdown",
   "metadata": {
    "id": "lewklOxKH0_i"
   },
   "source": [
    "### predict=벌레, true=벌레 "
   ]
  },
  {
   "cell_type": "code",
   "execution_count": null,
   "metadata": {
    "colab": {
     "base_uri": "https://localhost:8080/"
    },
    "id": "E2XdBRVyH6ZF",
    "outputId": "80ccd1de-29ca-4e6e-e905-03562dbd9798"
   },
   "outputs": [
    {
     "name": "stdout",
     "output_type": "stream",
     "text": [
      "83\n"
     ]
    }
   ],
   "source": [
    "idx_ = ((np.array(pred_list) == 2) & (np.array(true_list)==2))\n",
    "print(idx_.sum())"
   ]
  },
  {
   "cell_type": "code",
   "execution_count": null,
   "metadata": {
    "id": "YA3bZykLH6ZF"
   },
   "outputs": [],
   "source": [
    "for i in range(idx_.sum()):\n",
    "  image = pil_draw_rect(test_image[idx_][i],tol_rois_list[0][np.array(idx_group)[idx_][i]])\n",
    "\n",
    "  # save image\n",
    "  image.save(os.path.join(\"/content/drive/MyDrive/Kaier_Tofu_Data/Regional attention/Fail case study/true_벌레\",str(i)+\".png\"))\n",
    "\n",
    "  if i==100:\n",
    "    break\n",
    "\n",
    "  # plot image\n",
    "  # numpy_image = np.array(image)\n",
    "\n",
    "  # plt.savefig()\n",
    "\n",
    "  # plt.imshow(numpy_image)\n",
    "  # plt.show()"
   ]
  },
  {
   "cell_type": "code",
   "execution_count": null,
   "metadata": {
    "id": "Ba_cexEKIZV7"
   },
   "outputs": [],
   "source": [
    "!rm /content/drive/MyDrive/Kaier_Tofu_Data/Regional\\ attention/Fail\\ case\\ study/true_벌레/*"
   ]
  },
  {
   "cell_type": "markdown",
   "metadata": {
    "id": "pVDw4KixIGwz"
   },
   "source": [
    "### predict=머리카락, ture=머리카락"
   ]
  },
  {
   "cell_type": "code",
   "execution_count": null,
   "metadata": {
    "colab": {
     "base_uri": "https://localhost:8080/"
    },
    "id": "06MjlBxWILse",
    "outputId": "55b07507-be57-4d94-d374-a797af996e11"
   },
   "outputs": [
    {
     "name": "stdout",
     "output_type": "stream",
     "text": [
      "126\n"
     ]
    }
   ],
   "source": [
    "idx_ = ((np.array(pred_list) == 1) & (np.array(true_list)==1))\n",
    "print(idx_.sum())"
   ]
  },
  {
   "cell_type": "code",
   "execution_count": null,
   "metadata": {
    "id": "__ZOi_JmILsf"
   },
   "outputs": [],
   "source": [
    "for i in range(idx_.sum()):\n",
    "  image = pil_draw_rect(test_image[idx_][i],tol_rois_list[0][np.array(idx_group)[idx_][i]])\n",
    "\n",
    "  # save image\n",
    "  image.save(os.path.join(\"/content/drive/MyDrive/Kaier_Tofu_Data/Regional attention/Fail case study/true_머리카락\",str(i)+\".png\"))\n",
    "\n",
    "  if i==100:\n",
    "    break\n",
    "\n",
    "  # plot image\n",
    "  # numpy_image = np.array(image)\n",
    "\n",
    "  # plt.savefig()\n",
    "\n",
    "  # plt.imshow(numpy_image)\n",
    "  # plt.show()"
   ]
  },
  {
   "cell_type": "code",
   "execution_count": null,
   "metadata": {
    "id": "Rcqxnrg9IKZ1"
   },
   "outputs": [],
   "source": [
    ""
   ]
  },
  {
   "cell_type": "code",
   "execution_count": null,
   "metadata": {
    "id": "D12Ba8vjH5aT"
   },
   "outputs": [],
   "source": [
    ""
   ]
  },
  {
   "cell_type": "code",
   "execution_count": null,
   "metadata": {
    "id": "Auoy2GMh8bHl"
   },
   "outputs": [],
   "source": [
    "!mkdir /content/drive/MyDrive/Kaier_Tofu_Data/Regional\\ attention/Fail\\ case\\ study/true_벌레"
   ]
  }
 ],
 "metadata": {
  "accelerator": "GPU",
  "colab": {
   "collapsed_sections": [
    "kACGyfdqacpu",
    "RIXXoy18acp5",
    "zySYyjPoacp5"
   ],
   "name": "result_정리_efficientnet.ipynb",
   "provenance": [],
   "toc_visible": true
  },
  "kernelspec": {
   "display_name": "Python 3",
   "language": "python",
   "name": "python3"
  },
  "language_info": {
   "codemirror_mode": {
    "name": "ipython",
    "version": 3
   },
   "file_extension": ".py",
   "mimetype": "text/x-python",
   "name": "python",
   "nbconvert_exporter": "python",
   "pygments_lexer": "ipython3",
   "version": "3.6.9"
  }
 },
 "nbformat": 4,
 "nbformat_minor": 0
}
