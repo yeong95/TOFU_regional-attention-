{
 "cells": [
  {
   "cell_type": "markdown",
   "metadata": {
    "id": "6VkHiIn27mhb"
   },
   "source": [
    "# import library"
   ]
  },
  {
   "cell_type": "code",
   "execution_count": 1,
   "metadata": {
    "id": "mxhJUPAOl7qc"
   },
   "outputs": [],
   "source": [
    "import matplotlib.pyplot as plt\n",
    "\n",
    "plt.rc('font', family='NanumBarunGothic') "
   ]
  },
  {
   "cell_type": "code",
   "execution_count": 2,
   "metadata": {
    "id": "zS3qsz1hSavs"
   },
   "outputs": [],
   "source": [
    "import numpy as np\n",
    "import pandas as pd\n",
    "import os\n",
    "\n",
    "from PIL import Image\n",
    "import cv2\n",
    "\n",
    "from os import listdir\n",
    "from os.path import join\n",
    "import random\n",
    "from tqdm import tqdm\n",
    "\n",
    "from torchvision import transforms\n",
    "from torchvision.io import read_image\n",
    "\n",
    "from Common import get_rmac_region_coordinates\n",
    "from Common import pack_regions_for_network\n",
    "from Common import RoIPool\n",
    "from RegionAttentionNetwork import ContextAwareRegionalAttentionNetwork\n",
    "from EarlyStopping import EarlyStopping\n",
    "\n",
    "import warnings\n",
    "warnings.simplefilter(\"ignore\", DeprecationWarning)"
   ]
  },
  {
   "cell_type": "code",
   "execution_count": 3,
   "metadata": {
    "id": "VidaKW_kSavv"
   },
   "outputs": [],
   "source": [
    "\n",
    "import copy\n",
    "import time\n",
    "import math\n",
    "import torch.utils.model_zoo as model_zoo\n",
    "\n",
    "import torchvision\n",
    "from torch.optim import lr_scheduler\n",
    "from torchvision import datasets, models, transforms\n",
    "import torch\n",
    "import torch.nn as nn\n",
    "import torch.optim as optim\n",
    "from torch.autograd import Variable\n",
    "from torch.utils.data import DataLoader\n",
    "from torch.utils.data.dataset import Dataset\n",
    "\n",
    "from efficientnet_pytorch import EfficientNet\n",
    "from sklearn import preprocessing # Path \n"
   ]
  },
  {
   "cell_type": "markdown",
   "metadata": {},
   "source": [
    "# Path "
   ]
  },
  {
   "cell_type": "code",
   "execution_count": 29,
   "metadata": {},
   "outputs": [],
   "source": [
    "data_path = '/tf/DUBU_Kaier/TOFU_BOX_margin'\n",
    "train_path = os.path.join(data_path, 'train')\n",
    "valid_path = os.path.join(data_path, 'valid')\n",
    "test_path = os.path.join(data_path, 'test_1345')"
   ]
  },
  {
   "cell_type": "markdown",
   "metadata": {
    "id": "SUrfX8m1Xn07"
   },
   "source": [
    "# Load tofu datasets"
   ]
  },
  {
   "cell_type": "code",
   "execution_count": 30,
   "metadata": {},
   "outputs": [],
   "source": [
    "class TofuDataset(Dataset):\n",
    "    def __init__(self, annotations_file, img_dir, transform=None, target_transform=None):\n",
    "        self.img_labels = pd.read_csv(annotations_file, encoding='cp949')\n",
    "        self.img_dir = img_dir\n",
    "        self.transform = transform\n",
    "        self.target_transform = target_transform\n",
    "\n",
    "\n",
    "    def __len__(self):\n",
    "        return len(self.img_labels)\n",
    "\n",
    "    def __getitem__(self, idx):\n",
    "        img_path = os.path.join(self.img_dir, self.img_labels.iloc[idx, 0])\n",
    "        image = read_image(img_path)\n",
    "        label = self.img_labels.iloc[idx, 1]\n",
    "        if self.transform:\n",
    "            image = self.transform(image)        \n",
    "        if self.target_transform:\n",
    "            label = self.target_transform.transform([label])[0]\n",
    "\n",
    "\n",
    "        return image, label"
   ]
  },
  {
   "cell_type": "code",
   "execution_count": 31,
   "metadata": {},
   "outputs": [],
   "source": [
    "def global_contrast_normalization(x: torch.tensor, scale='l2'):\n",
    "    \"\"\"\n",
    "    Apply global contrast normalization to tensor, i.e. subtract mean across features (pixels) and normalize by scale,\n",
    "    which is either the standard deviation, L1- or L2-norm across features (pixels).\n",
    "    Note this is a *per sample* normalization globally across features (and not across the dataset).\n",
    "    \"\"\"\n",
    "\n",
    "    assert scale in ('l1', 'l2')\n",
    "\n",
    "    n_features = int(np.prod(x.shape))\n",
    "    \n",
    "    x = x.float()\n",
    "\n",
    "    mean = torch.mean(x)  # mean over all features (pixels) per sample\n",
    "    x -= mean\n",
    "\n",
    "    if scale == 'l1':\n",
    "        x_scale = torch.mean(torch.abs(x))\n",
    "\n",
    "    if scale == 'l2':\n",
    "        x_scale = torch.sqrt(torch.sum(x ** 2)) / n_features\n",
    "\n",
    "    x /= x_scale\n",
    "\n",
    "    return x"
   ]
  },
  {
   "cell_type": "code",
   "execution_count": 32,
   "metadata": {},
   "outputs": [],
   "source": [
    "# Pre-computed min and max values (after applying GCN) from train data per class\n",
    "min_ = - 4.4943\n",
    "max_ = 2.3380"
   ]
  },
  {
   "cell_type": "code",
   "execution_count": 33,
   "metadata": {},
   "outputs": [],
   "source": [
    "transform = transforms.Compose([\n",
    "                                transforms.Lambda(lambda x: global_contrast_normalization(x, scale='l1')),\n",
    "                                transforms.Normalize([min_],\n",
    "                                                     [max_ - min_])\n",
    "                                ])"
   ]
  },
  {
   "cell_type": "code",
   "execution_count": 34,
   "metadata": {},
   "outputs": [
    {
     "data": {
      "text/plain": [
       "LabelEncoder()"
      ]
     },
     "execution_count": 34,
     "metadata": {},
     "output_type": "execute_result"
    }
   ],
   "source": [
    "folders = ['정상A', '정상B', '금속', '머리카락', '벌레', '상단불량D', '상단불량E', '유바', '탄화물', '플라스틱']\n",
    "le = preprocessing.LabelEncoder()\n",
    "le.fit(folders)"
   ]
  },
  {
   "cell_type": "code",
   "execution_count": 35,
   "metadata": {},
   "outputs": [
    {
     "data": {
      "text/plain": [
       "{0: '금속',\n",
       " 1: '머리카락',\n",
       " 2: '벌레',\n",
       " 3: '상단불량D',\n",
       " 4: '상단불량E',\n",
       " 5: '유바',\n",
       " 6: '정상A',\n",
       " 7: '정상B',\n",
       " 8: '탄화물',\n",
       " 9: '플라스틱'}"
      ]
     },
     "execution_count": 35,
     "metadata": {},
     "output_type": "execute_result"
    }
   ],
   "source": [
    "le_name_mapping = dict(zip(le.transform(le.classes_),le.classes_))\n",
    "le_name_mapping"
   ]
  },
  {
   "cell_type": "code",
   "execution_count": 36,
   "metadata": {},
   "outputs": [],
   "source": [
    "target_transform = le"
   ]
  },
  {
   "cell_type": "code",
   "execution_count": 37,
   "metadata": {},
   "outputs": [
    {
     "data": {
      "text/plain": [
       "6"
      ]
     },
     "execution_count": 37,
     "metadata": {},
     "output_type": "execute_result"
    }
   ],
   "source": [
    "le.transform(['정상A'])[0]"
   ]
  },
  {
   "cell_type": "code",
   "execution_count": 38,
   "metadata": {
    "id": "7YjEpDYJWdEt"
   },
   "outputs": [],
   "source": [
    "train_dataset = TofuDataset('train_annotations.csv', train_path, transform, target_transform )\n",
    "valid_dataset = TofuDataset('valid_annotations.csv', valid_path, transform, target_transform)\n",
    "test_dataset = TofuDataset('test_annotations.csv', test_path, transform, target_transform)"
   ]
  },
  {
   "cell_type": "code",
   "execution_count": 39,
   "metadata": {
    "id": "Y5f3auaTX5St"
   },
   "outputs": [],
   "source": [
    "batch_size= 32\n",
    "dataloaders = {}\n",
    "dataloaders['train'] = DataLoader(train_dataset, batch_size=batch_size,\n",
    "                        shuffle=True, num_workers=0)\n",
    "dataloaders['val'] = DataLoader(valid_dataset, batch_size=batch_size,\n",
    "                        shuffle=True, num_workers=0)\n",
    "dataloaders['test'] = DataLoader(test_dataset, batch_size=batch_size,\n",
    "                        shuffle=False, num_workers=0)"
   ]
  },
  {
   "cell_type": "code",
   "execution_count": 40,
   "metadata": {
    "colab": {
     "base_uri": "https://localhost:8080/"
    },
    "id": "ZCy6TfTa7c9n",
    "outputId": "7d21fa44-4dd7-470b-f711-a33c3a4bc7e7",
    "scrolled": true
   },
   "outputs": [
    {
     "name": "stdout",
     "output_type": "stream",
     "text": [
      "torch.Size([32, 3, 640, 640])\n",
      "tensor([5, 3, 6, 1, 7, 6, 4, 4, 7, 9, 6, 6, 7, 7, 4, 1, 6, 7, 6, 6, 6, 7, 6, 6,\n",
      "        3, 7, 4, 7, 7, 6, 8, 6])\n"
     ]
    }
   ],
   "source": [
    "#check dataloader shape\n",
    "for img, label in dataloaders['train']:\n",
    "    print(img.shape)\n",
    "    print(label)\n",
    "    break"
   ]
  },
  {
   "cell_type": "code",
   "execution_count": 41,
   "metadata": {},
   "outputs": [
    {
     "data": {
      "text/plain": [
       "<matplotlib.image.AxesImage at 0x7fdee401b240>"
      ]
     },
     "execution_count": 41,
     "metadata": {},
     "output_type": "execute_result"
    },
    {
     "data": {
      "image/png": "[encoded data removed]",
      "text/plain": [
       "<Figure size 432x288 with 1 Axes>"
      ]
     },
     "metadata": {
      "needs_background": "light"
     },
     "output_type": "display_data"
    }
   ],
   "source": [
    "# example image from data loader\n",
    "plt.imshow(np.transpose(img[0], (1,2,0)).cpu())"
   ]
  },
  {
   "cell_type": "markdown",
   "metadata": {
    "id": "6g0yc1IHSavx"
   },
   "source": [
    "# model"
   ]
  },
  {
   "cell_type": "code",
   "execution_count": 17,
   "metadata": {
    "id": "_3phpWO-Savx"
   },
   "outputs": [],
   "source": [
    "class NetForTraining(nn.Module):\n",
    "\n",
    "\n",
    "    def __init__(self):\n",
    "        super(NetForTraining, self).__init__()\n",
    "        \n",
    "        #RoI max pooling\n",
    "        self.r_mac_pool = RoIPool(1,1,0.03125)\n",
    "        self.region_attention = ContextAwareRegionalAttentionNetwork(spatial_scale = 0.03125)\n",
    "        self._initialize_weights()\n",
    "        \n",
    "        # This is for classification. get the weights of fc from off-the-shelf efficientnet B0\n",
    "        # (featrue vector, number of classes)\n",
    "        self.fc = nn.Linear(1280,10)   \n",
    "\n",
    "        # Load efficientnet model\n",
    "        self.efficientnet = EfficientNet.from_pretrained('efficientnet-b0', num_classes=10)  \n",
    "        self.efficientnet.load_state_dict(torch.load('GCN_efficientnet_b0_president_model.pt'))\n",
    "        \n",
    "        for param in self.efficientnet.parameters():\n",
    "            param.requires_grad = False\n",
    "\n",
    "    def _initialize_weights(self):\n",
    "        for m in self.modules():\n",
    "            if isinstance(m, nn.Conv2d):\n",
    "                nn.init.xavier_normal(m.weight.data)\n",
    "                if m.bias is not None:\n",
    "                    m.bias.data.zero_()\n",
    "            if isinstance(m, nn.Linear):\n",
    "                nn.init.xavier_normal(m.weight.data)\n",
    "                if m.bias is not None:\n",
    "                    m.bias.data.zero_()\n",
    "    \n",
    "   \n",
    "    def forward(self, x, ):\n",
    "        \n",
    "        # Calculate R-MAC regions (Region sampling)\n",
    "        batched_rois =  [get_rmac_region_coordinates(x.shape[2],x.shape[3],5) for i in range(x.shape[0])]   # (batch size(5), # of proposed region(55), coordinates?(4))\n",
    "        region_size = len(batched_rois[0])\n",
    "        rois = Variable(torch.FloatTensor(pack_regions_for_network(batched_rois))) # [220(55*4), 5]\n",
    "\n",
    "        h = x\n",
    "\n",
    "        # Extract feature map\n",
    "        h = self.efficientnet.extract_features(x) #( #batch, #channel, #h, #w)  # [4, 1280, 7, 7]\n",
    "\n",
    "        g = self.r_mac_pool(h,rois)  # [220, 1280, 1, 1]\n",
    "        g = g.squeeze(2).squeeze(2)  # [220, 1280]\n",
    "\n",
    "        g2 = self.region_attention(h,rois)\n",
    "        g2 = g2.squeeze(0).squeeze(0)# (# batch * region)\n",
    "\n",
    "        g = torch.mul(g.transpose(1,0),g2).transpose(1,0)\n",
    "        \n",
    "        # regional weighted feature (# batch * region, #channel)\n",
    "        \n",
    "        g = g.contiguous()\n",
    "        g = g.view(torch.Size([h.size(0), -1 ,h.size(1)])) # (#batch, # region, # channel)\n",
    "        g = torch.transpose(g,1,2)    # (#batch * #channel, #region)\n",
    "        \n",
    "\n",
    "        g = torch.mean(g,2) #mean?\n",
    "\n",
    "        g = self.fc(g)\n",
    "\n",
    "        return g\n"
   ]
  },
  {
   "cell_type": "code",
   "execution_count": 18,
   "metadata": {
    "colab": {
     "base_uri": "https://localhost:8080/"
    },
    "id": "vhS06L0ZSav2",
    "outputId": "b7218696-1fca-4a09-b10e-b214b49e30bb"
   },
   "outputs": [
    {
     "name": "stdout",
     "output_type": "stream",
     "text": [
      "Loaded pretrained weights for efficientnet-b0\n",
      "region_attention.conv_att_1.weight\n",
      "region_attention.conv_att_1.bias\n",
      "region_attention.conv_att_2.weight\n",
      "region_attention.conv_att_2.bias\n"
     ]
    }
   ],
   "source": [
    "net = NetForTraining()\n",
    "\n",
    "dic = torch.load('GCN_efficientnet_b0_president_model.pt')\n",
    "net.fc.weight.data = dic['_fc.weight']\n",
    "net.fc.bias.data = dic['_fc.bias']\n",
    "\n",
    "for param in net.fc.parameters():\n",
    "    param.requires_grad=False\n",
    "# net.eval()\n",
    "net = net.cuda(1)\n",
    "\n",
    "for name,param in net.named_parameters():\n",
    "    if param.requires_grad == True:\n",
    "        print(name)\n",
    "\n",
    "# Train only regional attention network\n",
    "init_lr = 0.001\n",
    "optimizer_ft = optim.SGD(list(net.parameters())[:4], lr=init_lr, momentum=0.9, weight_decay = 0.00005)\n",
    "criterion =nn.CrossEntropyLoss()\n"
   ]
  },
  {
   "cell_type": "code",
   "execution_count": 19,
   "metadata": {
    "id": "CQyP4eIk6_Lp"
   },
   "outputs": [],
   "source": [
    "# make early_stopping object \n",
    "early_stopping = EarlyStopping(patience = 15, verbose = True)"
   ]
  },
  {
   "cell_type": "markdown",
   "metadata": {
    "id": "9d-eKQcxtA8o"
   },
   "source": [
    "# train "
   ]
  },
  {
   "cell_type": "code",
   "execution_count": 24,
   "metadata": {
    "id": "WfP_RIXkSav4"
   },
   "outputs": [],
   "source": [
    "def train_model(model, dataloaders, criterion, optimizer, num_epochs=100):\n",
    "    since = time.time()\n",
    "    history = {'train_acc': [], 'val_acc': [], 'train_loss' : [], 'val_loss' :[]}\n",
    "\n",
    "    best_model_wts = copy.deepcopy(model.state_dict())\n",
    "    best_acc = 0.0\n",
    "\n",
    "    for epoch in range(num_epochs):\n",
    "#         scheduler.step()\n",
    "        print('Epoch {}/{}'.format(epoch, num_epochs - 1))\n",
    "        print('-' * 10)\n",
    "\n",
    "        # Each epoch has a training and validation phase\n",
    "        for phase in ['train', 'val']:\n",
    "            if phase == 'train':\n",
    "#                 continue\n",
    "                model.train()  # Set model to training mode\n",
    "            else:\n",
    "                model.eval()   # Set model to evaluate mode\n",
    "\n",
    "            running_loss = 0.0\n",
    "            running_corrects = 0\n",
    "\n",
    "            # Iterate over data.\n",
    "            for inputs, labels in dataloaders[phase]:\n",
    "                inputs = inputs.to(device)\n",
    "                labels = labels.to(device)\n",
    "\n",
    "                # zero the parameter gradients\n",
    "                optimizer.zero_grad()\n",
    "\n",
    "                # forward\n",
    "                # track history if only in train\n",
    "                with torch.set_grad_enabled(phase == 'train'):\n",
    "                    outputs = model(inputs)\n",
    "                    loss = criterion(outputs, labels)\n",
    "                    _, preds = torch.max(outputs.data, 1)\n",
    "\n",
    "\n",
    "                    # backward + optimize only if in training phase\n",
    "                    if phase == 'train':\n",
    "                        loss.backward()\n",
    "                        optimizer.step()\n",
    "\n",
    "                # statistics\n",
    "                running_loss += loss.item()\n",
    "                \n",
    "                running_corrects += torch.sum(preds == labels.data)\n",
    "           \n",
    "            epoch_loss = running_loss / len(dataloaders[phase].dataset)\n",
    "            epoch_acc = (running_corrects.double() / len(dataloaders[phase].dataset))*100\n",
    "            if phase == 'train':\n",
    "                history['train_acc'].append(epoch_acc)\n",
    "                history['train_loss'].append(epoch_loss)\n",
    "            if phase == 'val':\n",
    "                history['val_acc'].append(epoch_acc)\n",
    "                history['val_loss'].append(epoch_loss)\n",
    "            print('{} Loss: {:.4f} Acc: {:.4f}'.format(phase, epoch_loss, epoch_acc))\n",
    "\n",
    "            # deep copy the model\n",
    "            if phase == 'val' and epoch_acc > best_acc:\n",
    "                best_acc = epoch_acc\n",
    "                best_model_wts = copy.deepcopy(model.state_dict())\n",
    "        \n",
    "        early_stopping(epoch_loss, net)\n",
    "        if early_stopping.early_stop:\n",
    "            print(\"Early stopping\")\n",
    "            break\n",
    "\n",
    "        print()\n",
    "\n",
    "    time_elapsed = time.time() - since\n",
    "    print('Training complete in {:.0f}m {:.0f}s'.format(time_elapsed // 60, time_elapsed % 60))\n",
    "    print('Best val Acc: {:4f}'.format(best_acc))\n",
    "\n",
    "    # load best model weights\n",
    "    model.load_state_dict(best_model_wts)\n",
    "    return model, history"
   ]
  },
  {
   "cell_type": "code",
   "execution_count": 25,
   "metadata": {
    "id": "zLcog4iiSav4"
   },
   "outputs": [],
   "source": [
    "device = torch.device(f'cuda:1' if torch.cuda.is_available() else 'cpu')"
   ]
  },
  {
   "cell_type": "code",
   "execution_count": 26,
   "metadata": {
    "colab": {
     "base_uri": "https://localhost:8080/"
    },
    "id": "vcGNXL4XSav5",
    "outputId": "9db784bd-5b0f-4508-9666-b0b628c4512f"
   },
   "outputs": [
    {
     "name": "stdout",
     "output_type": "stream",
     "text": [
      "Epoch 0/49\n",
      "----------\n",
      "train Loss: 0.0025 Acc: 97.4156\n",
      "val Loss: 0.0270 Acc: 87.0569\n",
      "Validation loss decreased (inf --> 0.026993).                  Saving model ...\n",
      "\n",
      "Epoch 1/49\n",
      "----------\n",
      "train Loss: 0.0024 Acc: 97.2965\n",
      "val Loss: 0.0301 Acc: 87.2718\n",
      "EarlyStopping counter: 1 out of 15\n",
      "\n",
      "Epoch 2/49\n",
      "----------\n",
      "train Loss: 0.0023 Acc: 97.4096\n",
      "val Loss: 0.0269 Acc: 87.6477\n",
      "Validation loss decreased (0.026993 --> 0.026911).                  Saving model ...\n",
      "\n",
      "Epoch 3/49\n",
      "----------\n",
      "train Loss: 0.0022 Acc: 97.5168\n",
      "val Loss: 0.0264 Acc: 87.8088\n",
      "Validation loss decreased (0.026911 --> 0.026411).                  Saving model ...\n",
      "\n",
      "Epoch 4/49\n",
      "----------\n",
      "train Loss: 0.0021 Acc: 97.5942\n",
      "val Loss: 0.0261 Acc: 87.9699\n",
      "Validation loss decreased (0.026411 --> 0.026073).                  Saving model ...\n",
      "\n",
      "Epoch 5/49\n",
      "----------\n",
      "train Loss: 0.0020 Acc: 97.5585\n",
      "val Loss: 0.0280 Acc: 88.1310\n",
      "EarlyStopping counter: 1 out of 15\n",
      "\n",
      "Epoch 6/49\n",
      "----------\n",
      "train Loss: 0.0019 Acc: 97.8979\n",
      "val Loss: 0.0250 Acc: 87.9699\n",
      "Validation loss decreased (0.026073 --> 0.024974).                  Saving model ...\n",
      "\n",
      "Epoch 7/49\n",
      "----------\n",
      "train Loss: 0.0018 Acc: 97.9277\n",
      "val Loss: 0.0273 Acc: 87.9699\n",
      "EarlyStopping counter: 1 out of 15\n",
      "\n",
      "Epoch 8/49\n",
      "----------\n",
      "train Loss: 0.0017 Acc: 97.9575\n",
      "val Loss: 0.0310 Acc: 88.0236\n",
      "EarlyStopping counter: 2 out of 15\n",
      "\n",
      "Epoch 9/49\n",
      "----------\n",
      "train Loss: 0.0017 Acc: 97.9337\n",
      "val Loss: 0.0334 Acc: 88.2385\n",
      "EarlyStopping counter: 3 out of 15\n",
      "\n",
      "Epoch 10/49\n",
      "----------\n",
      "train Loss: 0.0019 Acc: 97.8920\n",
      "val Loss: 0.0272 Acc: 87.8088\n",
      "EarlyStopping counter: 4 out of 15\n",
      "\n",
      "Epoch 11/49\n",
      "----------\n",
      "train Loss: 0.0018 Acc: 97.9456\n",
      "val Loss: 0.0292 Acc: 88.0773\n",
      "EarlyStopping counter: 5 out of 15\n",
      "\n",
      "Epoch 12/49\n",
      "----------\n",
      "train Loss: 0.0016 Acc: 98.0409\n",
      "val Loss: 0.0284 Acc: 88.0773\n",
      "EarlyStopping counter: 6 out of 15\n",
      "\n",
      "Epoch 13/49\n",
      "----------\n",
      "train Loss: 0.0016 Acc: 98.1838\n",
      "val Loss: 0.0300 Acc: 87.9699\n",
      "EarlyStopping counter: 7 out of 15\n",
      "\n",
      "Epoch 14/49\n",
      "----------\n",
      "train Loss: 0.0017 Acc: 98.0170\n",
      "val Loss: 0.0311 Acc: 88.1310\n",
      "EarlyStopping counter: 8 out of 15\n",
      "\n",
      "Epoch 15/49\n",
      "----------\n",
      "train Loss: 0.0015 Acc: 98.2969\n",
      "val Loss: 0.0298 Acc: 88.1310\n",
      "EarlyStopping counter: 9 out of 15\n",
      "\n",
      "Epoch 16/49\n",
      "----------\n",
      "train Loss: 0.0016 Acc: 97.9992\n",
      "val Loss: 0.0305 Acc: 88.0236\n",
      "EarlyStopping counter: 10 out of 15\n",
      "\n",
      "Epoch 17/49\n",
      "----------\n",
      "train Loss: 0.0016 Acc: 98.1957\n",
      "val Loss: 0.0292 Acc: 88.3459\n",
      "EarlyStopping counter: 11 out of 15\n",
      "\n",
      "Epoch 18/49\n",
      "----------\n",
      "train Loss: 0.0015 Acc: 98.1778\n",
      "val Loss: 0.0289 Acc: 88.5607\n",
      "EarlyStopping counter: 12 out of 15\n",
      "\n",
      "Epoch 19/49\n",
      "----------\n",
      "train Loss: 0.0015 Acc: 98.1004\n",
      "val Loss: 0.0321 Acc: 88.1847\n",
      "EarlyStopping counter: 13 out of 15\n",
      "\n",
      "Epoch 20/49\n",
      "----------\n",
      "train Loss: 0.0014 Acc: 98.1719\n",
      "val Loss: 0.0301 Acc: 87.9699\n",
      "EarlyStopping counter: 14 out of 15\n",
      "\n",
      "Epoch 21/49\n",
      "----------\n",
      "train Loss: 0.0016 Acc: 98.1123\n",
      "val Loss: 0.0303 Acc: 87.9699\n",
      "EarlyStopping counter: 15 out of 15\n",
      "Early stopping\n",
      "Training complete in 324m 30s\n",
      "Best val Acc: 88.560687\n"
     ]
    }
   ],
   "source": [
    "model_ft, hist = train_model(net, dataloaders, criterion, optimizer_ft, num_epochs=50)"
   ]
  },
  {
   "cell_type": "code",
   "execution_count": 27,
   "metadata": {
    "colab": {
     "base_uri": "https://localhost:8080/"
    },
    "id": "8pjR19rnn9qu",
    "outputId": "92792306-f8e2-4091-d34b-530f7ee9905b"
   },
   "outputs": [
    {
     "name": "stdout",
     "output_type": "stream",
     "text": [
      "model saved\n"
     ]
    }
   ],
   "source": [
    "torch.save(model_ft.state_dict(), 'GCN_regional_attention_efficientnet.pt')\n",
    "print('model saved')"
   ]
  },
  {
   "cell_type": "markdown",
   "metadata": {
    "id": "7BYrRhoMfgcs"
   },
   "source": [
    "# Test "
   ]
  },
  {
   "cell_type": "code",
   "execution_count": null,
   "metadata": {
    "colab": {
     "base_uri": "https://localhost:8080/"
    },
    "id": "SLW9t1Eqfmai",
    "outputId": "585c3877-ac9f-4808-b246-ccf7d6688d59"
   },
   "outputs": [
    {
     "data": {
      "text/plain": [
       "<All keys matched successfully>"
      ]
     },
     "execution_count": 36,
     "metadata": {
      "tags": []
     },
     "output_type": "execute_result"
    }
   ],
   "source": [
    "# load model \n",
    "net.load_state_dict(torch.load('GCN_regional_attention_efficientnet.pt'))"
   ]
  },
  {
   "cell_type": "code",
   "execution_count": 42,
   "metadata": {
    "id": "NNHuQ9OYSav6"
   },
   "outputs": [],
   "source": [
    "# predict over tofu test datasets\n",
    "\n",
    "device = 'cuda:0'\n",
    "net = net.to(device)\n",
    "\n",
    "net.eval() \n",
    "phase = 'test'\n",
    "\n",
    "pred_list = []\n",
    "true_list = []\n",
    "\n",
    "with torch.no_grad():\n",
    "    for inputs, labels in dataloaders[phase]:\n",
    "        inputs = inputs.to(device)\n",
    "        outputs = net(inputs)\n",
    "        _, preds = torch.max(outputs.data, 1)\n",
    "   \n",
    "        pred_list += preds.cpu().tolist()\n",
    "        true_list += labels.cpu().tolist()\n",
    "\n"
   ]
  },
  {
   "cell_type": "code",
   "execution_count": 43,
   "metadata": {
    "colab": {
     "base_uri": "https://localhost:8080/"
    },
    "id": "KqRRC-vqjH6j",
    "outputId": "9470b3c7-6f7e-4795-a6f1-e236f0837c2c"
   },
   "outputs": [
    {
     "data": {
      "text/plain": [
       "0.8606430022708259"
      ]
     },
     "execution_count": 43,
     "metadata": {},
     "output_type": "execute_result"
    }
   ],
   "source": [
    "from sklearn.metrics import accuracy_score\n",
    "accuracy_score(true_list, pred_list)"
   ]
  },
  {
   "cell_type": "code",
   "execution_count": 52,
   "metadata": {
    "id": "LYJcvDbcYjxd"
   },
   "outputs": [
    {
     "data": {
      "text/plain": [
       "{0: '금속',\n",
       " 1: '머리카락',\n",
       " 2: '벌레',\n",
       " 3: '상단불량D',\n",
       " 4: '상단불량E',\n",
       " 5: '유바',\n",
       " 6: '정상A',\n",
       " 7: '정상B',\n",
       " 8: '탄화물',\n",
       " 9: '플라스틱'}"
      ]
     },
     "execution_count": 52,
     "metadata": {},
     "output_type": "execute_result"
    }
   ],
   "source": [
    "le_name_mapping = dict(zip(le.transform(le.classes_),le.classes_))\n",
    "le_name_mapping\n",
    "#le_name_mapping"
   ]
  },
  {
   "cell_type": "code",
   "execution_count": 55,
   "metadata": {},
   "outputs": [],
   "source": [
    "test_class = [le_name_mapping[x] for x in true_list]\n",
    "# test_class"
   ]
  },
  {
   "cell_type": "code",
   "execution_count": 56,
   "metadata": {
    "colab": {
     "base_uri": "https://localhost:8080/"
    },
    "id": "bNe2QR_djw5U",
    "outputId": "72533600-0806-48ff-87a4-61323f6258bb"
   },
   "outputs": [
    {
     "data": {
      "text/plain": [
       "{'정상A': 0.9188144329896907,\n",
       " '정상B': 0.866420057542129,\n",
       " '금속': 0.66,\n",
       " '머리카락': 0.9769230769230769,\n",
       " '벌레': 0.73,\n",
       " '상단불량D': 0.6440511307767945,\n",
       " '상단불량E': 0.8754098360655738,\n",
       " '유바': 0.9,\n",
       " '탄화물': 0.8852459016393442,\n",
       " '플라스틱': 0.7}"
      ]
     },
     "execution_count": 56,
     "metadata": {},
     "output_type": "execute_result"
    }
   ],
   "source": [
    "# class별 accuracy \n",
    "class_names = ['정상A', '정상B', '금속', '머리카락', '벌레', '상단불량D', '상단불량E', '유바', '탄화물', '플라스틱']\n",
    "class_accuracy = dict()\n",
    "for class_ in class_names:\n",
    "  idx = np.in1d(test_class, class_)\n",
    "  class_tmp = (np.array(true_list)==np.array(pred_list))[idx]\n",
    "  accruacy_ = np.sum(class_tmp) / len(class_tmp)\n",
    "  class_accuracy[class_] = accruacy_\n",
    "class_accuracy\n",
    "  "
   ]
  },
  {
   "cell_type": "code",
   "execution_count": 57,
   "metadata": {
    "id": "Gy3E2o2yNJxK"
   },
   "outputs": [],
   "source": [
    "predict_class_list = [le_name_mapping[x] for x in pred_list]\n",
    "test_class_list = [le_name_mapping[x] for x in true_list]\n"
   ]
  },
  {
   "cell_type": "code",
   "execution_count": null,
   "metadata": {
    "colab": {
     "base_uri": "https://localhost:8080/"
    },
    "id": "z23JefWLJ6HV",
    "outputId": "eeefc126-4a39-413d-9635-8e71d75e20a5"
   },
   "outputs": [
    {
     "name": "stdout",
     "output_type": "stream",
     "text": [
      "Requirement already satisfied: scikit-plot in /usr/local/lib/python3.7/dist-packages (0.3.7)\n",
      "Requirement already satisfied: scikit-learn>=0.18 in /usr/local/lib/python3.7/dist-packages (from scikit-plot) (0.22.2.post1)\n",
      "Requirement already satisfied: joblib>=0.10 in /usr/local/lib/python3.7/dist-packages (from scikit-plot) (1.0.1)\n",
      "Requirement already satisfied: matplotlib>=1.4.0 in /usr/local/lib/python3.7/dist-packages (from scikit-plot) (3.2.2)\n",
      "Requirement already satisfied: scipy>=0.9 in /usr/local/lib/python3.7/dist-packages (from scikit-plot) (1.4.1)\n",
      "Requirement already satisfied: pyparsing!=2.0.4,!=2.1.2,!=2.1.6,>=2.0.1 in /usr/local/lib/python3.7/dist-packages (from matplotlib>=1.4.0->scikit-plot) (2.4.7)\n",
      "Requirement already satisfied: cycler>=0.10 in /usr/local/lib/python3.7/dist-packages (from matplotlib>=1.4.0->scikit-plot) (0.10.0)\n",
      "Requirement already satisfied: numpy>=1.11 in /usr/local/lib/python3.7/dist-packages (from matplotlib>=1.4.0->scikit-plot) (1.19.5)\n",
      "Requirement already satisfied: python-dateutil>=2.1 in /usr/local/lib/python3.7/dist-packages (from matplotlib>=1.4.0->scikit-plot) (2.8.1)\n",
      "Requirement already satisfied: kiwisolver>=1.0.1 in /usr/local/lib/python3.7/dist-packages (from matplotlib>=1.4.0->scikit-plot) (1.3.1)\n",
      "Requirement already satisfied: six in /usr/local/lib/python3.7/dist-packages (from cycler>=0.10->matplotlib>=1.4.0->scikit-plot) (1.15.0)\n"
     ]
    }
   ],
   "source": [
    "!pip install scikit-plot"
   ]
  },
  {
   "cell_type": "code",
   "execution_count": 58,
   "metadata": {
    "colab": {
     "base_uri": "https://localhost:8080/",
     "height": 871
    },
    "id": "lz7EnBo1NtJs",
    "outputId": "a2e72b09-699d-4884-e30b-302764ebd736"
   },
   "outputs": [
    {
     "data": {
      "text/plain": [
       "<AxesSubplot:title={'center':'Confusion Matrix'}, xlabel='Predicted label', ylabel='True label'>"
      ]
     },
     "execution_count": 58,
     "metadata": {},
     "output_type": "execute_result"
    },
    {
     "data": {
      "image/png": "[encoded data removed]",
      "text/plain": [
       "<Figure size 1080x1080 with 2 Axes>"
      ]
     },
     "metadata": {
      "needs_background": "light"
     },
     "output_type": "display_data"
    }
   ],
   "source": [
    "# confusion matrix \n",
    "import scikitplot as skplt\n",
    "import matplotlib.pyplot as plt\n",
    "skplt.metrics.plot_confusion_matrix(test_class_list, predict_class_list, figsize=(15,15))\n",
    "#plt.savefig(\"confusion_matrix_normalized2.png\")\n"
   ]
  },
  {
   "cell_type": "code",
   "execution_count": 59,
   "metadata": {
    "colab": {
     "base_uri": "https://localhost:8080/"
    },
    "id": "R2QUoYOwlTMv",
    "outputId": "06d33571-7bae-45a3-fe9f-0a1e2294615d"
   },
   "outputs": [
    {
     "name": "stdout",
     "output_type": "stream",
     "text": [
      "(array(['상단불량D', '유바', '정상A', '정상B'], dtype='<U5'), array([ 180,    5, 3706, 2422]))\n",
      "6313\n",
      "['정상A', '정상B']\n",
      "\n",
      "(array(['상단불량D', '상단불량E', '유바', '정상A', '정상B'], dtype='<U5'), array([692, 444,   1,  28, 157]))\n",
      "1322\n",
      "['상단불량D', '상단불량E']\n",
      "\n",
      "(array(['금속', '머리카락', '벌레', '상단불량D', '상단불량E', '유바', '정상A', '정상B', '탄화물',\n",
      "       '플라스틱'], dtype='<U5'), array([ 75, 139,  76,   2,   2, 168,   9,  58, 132,  71]))\n",
      "732\n",
      "['금속', '머리카락', '벌레', '유바', '탄화물', '플라스틱']\n",
      "\n"
     ]
    }
   ],
   "source": [
    "# 과검 test\n",
    "\n",
    "from PIL import Image\n",
    "normal_class = ['정상A', '정상B']\n",
    "upper_class = ['상단불량D', '상단불량E']\n",
    "foreign_substance_class =  ['금속', '머리카락', '벌레', '유바', '탄화물', '플라스틱']\n",
    "total_class = [normal_class] +[upper_class]+ [foreign_substance_class] \n",
    "\n",
    "for i, class_ in enumerate(total_class):\n",
    "  idx_ = np.in1d(test_class, class_)\n",
    "\n",
    "  predict_class = np.array(predict_class_list)[idx_]\n",
    "  #true_class = np.array(test_class_list)[idx_]\n",
    "  print(np.unique(predict_class, return_counts=True))\n",
    "  print(len(predict_class))\n",
    "  print(class_)\n",
    "  print()\n"
   ]
  }
 ],
 "metadata": {
  "accelerator": "GPU",
  "colab": {
   "collapsed_sections": [],
   "machine_shape": "hm",
   "name": "Training_Regional efficientnet.ipynb",
   "provenance": [],
   "toc_visible": true
  },
  "kernelspec": {
   "display_name": "Python 3",
   "language": "python",
   "name": "python3"
  },
  "language_info": {
   "codemirror_mode": {
    "name": "ipython",
    "version": 3
   },
   "file_extension": ".py",
   "mimetype": "text/x-python",
   "name": "python",
   "nbconvert_exporter": "python",
   "pygments_lexer": "ipython3",
   "version": "3.6.9"
  }
 },
 "nbformat": 4,
 "nbformat_minor": 1
}
