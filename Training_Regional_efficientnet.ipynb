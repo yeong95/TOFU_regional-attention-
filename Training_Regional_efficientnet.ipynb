{
 "cells": [
  {
   "cell_type": "markdown",
   "metadata": {
    "id": "6VkHiIn27mhb"
   },
   "source": [
    "# import library"
   ]
  },
  {
   "cell_type": "code",
   "execution_count": null,
   "metadata": {
    "id": "Cy-NDd_9lxpC"
   },
   "outputs": [],
   "source": [
    "# matplotlib 한글 깨짐 현상 해결\n",
    "!sudo apt-get install -y fonts-nanum\n",
    "!sudo fc-cache -fv\n",
    "!rm ~/.cache/matplotlib -rf"
   ]
  },
  {
   "cell_type": "code",
   "execution_count": null,
   "metadata": {
    "id": "mxhJUPAOl7qc"
   },
   "outputs": [],
   "source": [
    "import matplotlib.pyplot as plt\n",
    "\n",
    "plt.rc('font', family='NanumBarunGothic') "
   ]
  },
  {
   "cell_type": "code",
   "execution_count": null,
   "metadata": {
    "colab": {
     "base_uri": "https://localhost:8080/"
    },
    "id": "cSadWe747mHr",
    "outputId": "c11365aa-d47c-4500-bc9f-cbb18a73e962"
   },
   "outputs": [
    {
     "name": "stdout",
     "output_type": "stream",
     "text": [
      "Drive already mounted at /content/drive; to attempt to forcibly remount, call drive.mount(\"/content/drive\", force_remount=True).\n"
     ]
    }
   ],
   "source": [
    "from google.colab import drive\n",
    "drive.mount('/content/drive')"
   ]
  },
  {
   "cell_type": "code",
   "execution_count": null,
   "metadata": {
    "id": "QN4rvYvtS3Vo"
   },
   "outputs": [],
   "source": [
    "import sys\n",
    "sys.path.append('/content/drive/MyDrive/Kaier_Tofu_Data')"
   ]
  },
  {
   "cell_type": "code",
   "execution_count": null,
   "metadata": {
    "id": "zS3qsz1hSavs"
   },
   "outputs": [],
   "source": [
    "\n",
    "import numpy as np\n",
    "import os\n",
    "from PIL import Image\n",
    "from sklearn.preprocessing import normalize\n",
    "from os import listdir\n",
    "from os.path import join\n",
    "import Resnet\n",
    "import random\n",
    "from tqdm import tqdm\n",
    "import cv2\n",
    "from torchvision import transforms\n",
    "from Common import get_rmac_region_coordinates\n",
    "from Common import pack_regions_for_network\n",
    "from Common import RoIPool\n",
    "import warnings\n",
    "warnings.simplefilter(\"ignore\", DeprecationWarning)"
   ]
  },
  {
   "cell_type": "code",
   "execution_count": null,
   "metadata": {
    "id": "VidaKW_kSavv"
   },
   "outputs": [],
   "source": [
    "\n",
    "import copy\n",
    "import time\n",
    "import math\n",
    "import torch.utils.model_zoo as model_zoo\n",
    "\n",
    "import torchvision\n",
    "from torch.optim import lr_scheduler\n",
    "from torchvision import datasets, models, transforms\n",
    "import torch\n",
    "import torch.nn as nn\n",
    "import torch.optim as optim\n",
    "from torch.autograd import Variable\n",
    "from torch.utils.data import DataLoader\n",
    "from torch.utils.data.dataset import Dataset\n",
    "\n",
    "\n"
   ]
  },
  {
   "cell_type": "code",
   "execution_count": null,
   "metadata": {
    "colab": {
     "base_uri": "https://localhost:8080/"
    },
    "id": "4vi77udCOCvY",
    "outputId": "ac09b6e1-761e-4ffc-9571-2f1d614153a0"
   },
   "outputs": [
    {
     "name": "stdout",
     "output_type": "stream",
     "text": [
      "Requirement already satisfied: efficientnet_pytorch in /usr/local/lib/python3.7/dist-packages (0.7.1)\n",
      "Requirement already satisfied: torch in /usr/local/lib/python3.7/dist-packages (from efficientnet_pytorch) (1.9.0+cu102)\n",
      "Requirement already satisfied: typing-extensions in /usr/local/lib/python3.7/dist-packages (from torch->efficientnet_pytorch) (3.7.4.3)\n"
     ]
    }
   ],
   "source": [
    "!pip install efficientnet_pytorch"
   ]
  },
  {
   "cell_type": "code",
   "execution_count": null,
   "metadata": {
    "id": "5Xctry3sXbQu"
   },
   "outputs": [],
   "source": [
    "from efficientnet_pytorch import EfficientNet\n"
   ]
  },
  {
   "cell_type": "markdown",
   "metadata": {
    "id": "SUrfX8m1Xn07"
   },
   "source": [
    "# Load tofu datasets"
   ]
  },
  {
   "cell_type": "code",
   "execution_count": null,
   "metadata": {
    "id": "12fd2f9e"
   },
   "outputs": [],
   "source": [
    "def train_test_numpy_load(data_path,train_path,valid_path,test_path,saved_path,load):\n",
    "    \n",
    "    if load:\n",
    "        with open(os.path.join(saved_path,'train_image.pickle'), 'rb') as f:\n",
    "            train_image = pickle.load(f)\n",
    "        with open(os.path.join(saved_path,'train_class.pickle'), 'rb') as f:\n",
    "            train_class = pickle.load(f)\n",
    "        with open(os.path.join(saved_path,'valid_image.pickle'), 'rb') as f:\n",
    "            valid_image = pickle.load(f)\n",
    "        with open(os.path.join(saved_path,'valid_class.pickle'), 'rb') as f:\n",
    "            valid_class = pickle.load(f)\n",
    "        with open(os.path.join(saved_path,'test_image.pickle'), 'rb') as f:\n",
    "            test_image = pickle.load(f)\n",
    "        with open(os.path.join(saved_path,'test_class.pickle'), 'rb') as f:\n",
    "            test_class = pickle.load(f)\n",
    "        return train_image, train_class, valid_image, valid_class, test_image, test_class \n",
    "    \n",
    "    folders = ['정상A', '정상B', '금속', '머리카락', '벌레', '상단불량D', '상단불량E', '유바', '탄화물', '플라스틱']\n",
    "    \n",
    "    train_image_list = [] \n",
    "    train_class = []    \n",
    "    valid_image_list = []\n",
    "    valid_class = []\n",
    "    test_image_list = []\n",
    "    test_class = []\n",
    "    for fold in tqdm(folders):\n",
    "        fpattern = os.path.join(data_path, f'{train_path}/{fold}/*.jpg')\n",
    "        train_file_list = sorted(glob(fpattern))\n",
    "        fpattern = os.path.join(data_path, f'{valid_path}/{fold}/*.jpg')\n",
    "        valid_file_list = sorted(glob(fpattern))\n",
    "        fpattern = os.path.join(data_path, f'{test_path}/{fold}/*.jpg')\n",
    "        test_file_list = sorted(glob(fpattern))     \n",
    "        print()\n",
    "        print(\"train {} starting...\" .format(fold))\n",
    "        for train_file in (train_file_list):\n",
    "            train_image = np.asarray(Image.open(train_file).resize((224,224)))\n",
    "            train_image_list.append(train_image)\n",
    "        print(\"train {} finished...\" .format(fold))\n",
    "        print(\"valid {} starting...\" .format(fold))\n",
    "        for valid_file in (valid_file_list):\n",
    "            valid_image = np.asarray(Image.open(valid_file).resize((224,224)))\n",
    "            valid_image_list.append(valid_image)\n",
    "        print(\"valid {} finished...\" .format(fold))\n",
    "        print(\"test {} starting...\" .format(fold))\n",
    "        for test_file in (test_file_list):                  \n",
    "            test_image = np.asarray(Image.open(test_file).resize((224,224)))           \n",
    "            test_image_list.append(test_image)\n",
    "        print(\"test {} finished...\" .format(fold))\n",
    "        train_class += [fold]*len(train_file_list)\n",
    "        valid_class += [fold]*len(valid_file_list)\n",
    "        test_class += [fold]*len(test_file_list)\n",
    "        \n",
    "    np_train_image = np.array(train_image_list)\n",
    "    np_valid_image = np.array(valid_image_list)\n",
    "    np_test_image = np.array(test_image_list)\n",
    "\n",
    "    with open(os.path.join(saved_path,'train_image.pickle'),'wb') as f:\n",
    "        pickle.dump(np_train_image,f)\n",
    "    with open(os.path.join(saved_path,'train_class.pickle'),'wb') as f:\n",
    "        pickle.dump(train_class,f)\n",
    "    with open(os.path.join(saved_path,'valid_image.pickle'),'wb') as f:\n",
    "        pickle.dump(np_valid_image,f)\n",
    "    with open(os.path.join(saved_path,'valid_class.pickle'),'wb') as f:\n",
    "        pickle.dump(valid_class,f)\n",
    "    with open(os.path.join(saved_path,'test_image.pickle'),'wb') as f:\n",
    "        pickle.dump(np_test_image,f)\n",
    "    with open(os.path.join(saved_path,'test_class.pickle'),'wb') as f:\n",
    "        pickle.dump(test_class,f)     \n",
    "    return np_train_image, train_class, np_valid_image, valid_class, np_test_image, test_class"
   ]
  },
  {
   "cell_type": "code",
   "execution_count": null,
   "metadata": {
    "id": "d2zRcKbCzcT4"
   },
   "outputs": [],
   "source": [
    "import pickle\n",
    "data_path = '/content/drive/MyDrive/Kaier_Tofu_Data'\n",
    "train_path = 'train'\n",
    "valid_path = 'valid'\n",
    "test_path = 'test_1345'\n",
    "saved_path = '/content/drive/MyDrive/Kaier_Tofu_Data'\n",
    "load = True\n",
    "train_image, train_class, valid_image, valid_class, test_image, test_class = train_test_numpy_load(data_path,train_path,valid_path,test_path,saved_path,load)\n"
   ]
  },
  {
   "cell_type": "code",
   "execution_count": null,
   "metadata": {
    "colab": {
     "base_uri": "https://localhost:8080/"
    },
    "id": "H9WGahK4-bcm",
    "outputId": "0ee11870-ca43-432e-c3e3-421e7b2a7c63"
   },
   "outputs": [
    {
     "name": "stdout",
     "output_type": "stream",
     "text": [
      "train image size: (16793, 224, 224, 3)\n",
      "valid image size: (1862, 224, 224, 3)\n",
      "test image size: (8367, 224, 224, 3)\n"
     ]
    }
   ],
   "source": [
    "print(\"train image size: {}\" .format(train_image.shape))\n",
    "print(\"valid image size: {}\" .format(valid_image.shape))\n",
    "print(\"test image size: {}\" .format(test_image.shape))"
   ]
  },
  {
   "cell_type": "code",
   "execution_count": null,
   "metadata": {
    "colab": {
     "base_uri": "https://localhost:8080/"
    },
    "id": "YIa7ikrmziat",
    "outputId": "2888f6d4-ece5-465f-c6b6-e0ba7a9e8112"
   },
   "outputs": [
    {
     "name": "stdout",
     "output_type": "stream",
     "text": [
      "train class length: 16793\n",
      "valid class length: 1862\n",
      "test class length: 8367\n"
     ]
    }
   ],
   "source": [
    "print(\"train class length: {}\" .format(len(train_class)))\n",
    "print(\"valid class length: {}\" .format(len(valid_class)))\n",
    "print(\"test class length: {}\" .format(len(test_class)))"
   ]
  },
  {
   "cell_type": "code",
   "execution_count": null,
   "metadata": {
    "colab": {
     "base_uri": "https://localhost:8080/"
    },
    "id": "U6gHyDgYQDTf",
    "outputId": "8b47a155-b012-4759-978a-6912595947f8"
   },
   "outputs": [
    {
     "name": "stdout",
     "output_type": "stream",
     "text": [
      "train class counts\n",
      "------------------\n",
      "금속 has 519 data points\n",
      "머리카락 has 649 data points\n",
      "벌레 has 543 data points\n",
      "상단불량D has 1255 data points\n",
      "상단불량E has 1094 data points\n",
      "유바 has 982 data points\n",
      "정상A has 6318 data points\n",
      "정상B has 4266 data points\n",
      "탄화물 has 644 data points\n",
      "플라스틱 has 523 data points\n"
     ]
    }
   ],
   "source": [
    "train_class_counts = np.unique(train_class, return_counts=True)\n",
    "print(\"train class counts\")\n",
    "print(\"------------------\")\n",
    "for name, counts in zip(train_class_counts[0], train_class_counts[1]):\n",
    "  print(\"{} has {} data points\" .format(name, counts))\n",
    "\n",
    "  "
   ]
  },
  {
   "cell_type": "code",
   "execution_count": null,
   "metadata": {
    "id": "880e5acf"
   },
   "outputs": [],
   "source": [
    "from sklearn import preprocessing \n",
    "le = preprocessing.LabelEncoder()"
   ]
  },
  {
   "cell_type": "code",
   "execution_count": null,
   "metadata": {
    "id": "be1fe835"
   },
   "outputs": [],
   "source": [
    "train_label = le.fit_transform(train_class)\n",
    "valid_label = le.transform(valid_class)\n",
    "test_label = le.transform(test_class)"
   ]
  },
  {
   "cell_type": "code",
   "execution_count": null,
   "metadata": {
    "id": "73dc2640"
   },
   "outputs": [],
   "source": [
    "NUM_CLASSES = 10\n",
    "def input_preprocess(image, label):\n",
    "    label = tf.one_hot(label, NUM_CLASSES)\n",
    "    return image, label"
   ]
  },
  {
   "cell_type": "code",
   "execution_count": null,
   "metadata": {
    "id": "DUjB8YpB8hp2"
   },
   "outputs": [],
   "source": [
    "class TofuDataset(Dataset):\n",
    "\n",
    "    def __init__(self,  data=None, label=None, transform=None):\n",
    "\n",
    "        self.transform = transform\n",
    "\n",
    "        self.data = data\n",
    "        self.label = label      \n",
    "\n",
    "\n",
    "    def __len__(self):\n",
    "        return len(self.data)\n",
    "\n",
    "    def __getitem__(self, index):\n",
    "        img, target = self.data[index], self.label[index]\n",
    "        \n",
    "        if self.transform is not None:\n",
    "            img = self.transform(img)\n",
    "\n",
    "        return img, target"
   ]
  },
  {
   "cell_type": "code",
   "execution_count": null,
   "metadata": {
    "id": "eqX6mfkhRy6j"
   },
   "outputs": [],
   "source": [
    "def normalization_parameter(dataloader):\n",
    "    mean = 0.\n",
    "    std = 0.\n",
    "    nb_samples = len(dataloader.dataset)\n",
    "    for data,_ in tqdm(dataloader):\n",
    "        batch_samples = data.size(0)\n",
    "        data = data.view(batch_samples, data.size(1), -1)   # (batch, channel, width*height)\n",
    "        mean += data.mean(2).sum(0)   # 각 채널별로 평균값 구하고 배치 사이즈만큼에 대해서 더함 # shape: (channel)\n",
    "        std += data.std(2).sum(0)\n",
    "    mean /= nb_samples\n",
    "    std /= nb_samples\n",
    "    return mean.numpy(),std.numpy()"
   ]
  },
  {
   "cell_type": "code",
   "execution_count": null,
   "metadata": {
    "collapsed": true,
    "id": "H00C4bxUapK8"
   },
   "outputs": [],
   "source": [
    "# 이미지 데이터셋에 대해서 각 채널별로 mean, std 구하기 \n",
    "\n",
    "batch_size = 512\n",
    "\n",
    "train_transforms = transforms.Compose([                                       \n",
    "                                        transforms.ToTensor()])  #ToTensor: [0,255] -> [0,1] range 변환\n",
    "\n",
    "train_data = TofuDataset(data=train_image, label=train_label, transform=train_transforms)\n",
    "train_loader =  DataLoader(train_data, batch_size = batch_size , shuffle = True)\n",
    "# mean,std = normalization_parameter(train_loader)\n",
    "\n",
    "# print(mean,std)"
   ]
  },
  {
   "cell_type": "code",
   "execution_count": null,
   "metadata": {
    "id": "xTN1GtAiRkie"
   },
   "outputs": [],
   "source": [
    "# print(mean,std)\n",
    "mean = [0.39665315 ,0.40428504 ,0.38178203]\n",
    "std = [0.14272803, 0.14405888 ,0.0868382 ]"
   ]
  },
  {
   "cell_type": "code",
   "execution_count": null,
   "metadata": {
    "id": "Omnw7ZZTUAwj"
   },
   "outputs": [],
   "source": [
    "transform = transforms.Compose([                                \n",
    "\n",
    "                                transforms.RandomRotation(degrees=15),\n",
    "                                transforms.RandomHorizontalFlip(),\n",
    "                                transforms.RandomVerticalFlip(),\n",
    "                                transforms.RandomAutocontrast(),\n",
    "                                transforms.ToTensor(),\n",
    "                                transforms.Normalize(mean,std)])"
   ]
  },
  {
   "cell_type": "code",
   "execution_count": null,
   "metadata": {
    "id": "7YjEpDYJWdEt"
   },
   "outputs": [],
   "source": [
    "train_dataset = TofuDataset(data=train_image, label=train_label, transform=train_transforms)\n",
    "valid_dataset = TofuDataset(data = valid_image, label=valid_label, transform=train_transforms)\n",
    "test_dataset = TofuDataset(data=test_image, label=test_label, transform=train_transforms)"
   ]
  },
  {
   "cell_type": "code",
   "execution_count": null,
   "metadata": {
    "id": "Y5f3auaTX5St"
   },
   "outputs": [],
   "source": [
    "batch_size=64\n",
    "dataloaders = {}\n",
    "dataloaders['train'] = DataLoader(train_dataset, batch_size=batch_size,\n",
    "                        shuffle=True, num_workers=0)\n",
    "dataloaders['val'] = DataLoader(valid_dataset, batch_size=batch_size,\n",
    "                        shuffle=True, num_workers=0)\n",
    "dataloaders['test'] = DataLoader(test_dataset, batch_size=batch_size,\n",
    "                        shuffle=False, num_workers=0)"
   ]
  },
  {
   "cell_type": "code",
   "execution_count": null,
   "metadata": {
    "colab": {
     "base_uri": "https://localhost:8080/"
    },
    "id": "ZCy6TfTa7c9n",
    "outputId": "4544674e-7f64-4813-c21e-fa737afadb8d"
   },
   "outputs": [
    {
     "name": "stdout",
     "output_type": "stream",
     "text": [
      "torch.Size([64, 3, 224, 224])\n",
      "tensor([6, 7, 7, 6, 6, 9, 7, 7, 6, 6, 7, 6, 6, 6, 7, 7, 4, 6, 3, 7, 6, 4, 1, 8,\n",
      "        7, 0, 7, 7, 4, 6, 2, 6, 4, 5, 6, 6, 9, 6, 6, 5, 6, 7, 6, 4, 4, 6, 6, 7,\n",
      "        4, 0, 5, 6, 6, 7, 6, 6, 4, 7, 6, 7, 6, 6, 2, 6])\n"
     ]
    }
   ],
   "source": [
    "#check dataloader shape\n",
    "\n",
    "for img, label in dataloaders['train']:\n",
    "  print(img.shape)\n",
    "  print(label)\n",
    "  break"
   ]
  },
  {
   "cell_type": "markdown",
   "metadata": {
    "id": "6g0yc1IHSavx"
   },
   "source": [
    "# model"
   ]
  },
  {
   "cell_type": "code",
   "execution_count": null,
   "metadata": {
    "id": "_3phpWO-Savx"
   },
   "outputs": [],
   "source": [
    "class ContextAwareRegionalAttentionNetwork(nn.Module):\n",
    "    def __init__(self, spatial_scale, pooled_height = 1, pooled_width = 1):\n",
    "        super(ContextAwareRegionalAttentionNetwork, self).__init__()\n",
    "        self.pooled_width = int(pooled_width)\n",
    "        self.pooled_height = int(pooled_height)\n",
    "        self.spatial_scale = float(spatial_scale)\n",
    "        \n",
    "        self.conv_att_1 = nn.Conv1d(2560, 64, 1, padding=0)\n",
    "        self.sp_att_1 = nn.Softplus()\n",
    "        self.conv_att_2 = nn.Conv1d(64, 1, 1, padding=0)\n",
    "        self.sp_att_2 = nn.Softplus()\n",
    "        \n",
    "\n",
    "    def forward(self, features, rois):\n",
    "   \n",
    "        batch_size, num_channels, data_height, data_width = features.size()\n",
    "        num_rois = rois.size()[0]\n",
    "        \n",
    "        outputs = Variable(torch.zeros(num_rois, num_channels*2,\n",
    "                                       self.pooled_height,\n",
    "                                       self.pooled_width))\n",
    "        if features.is_cuda:\n",
    "            outputs = outputs.cuda(torch.cuda.device_of(features).idx)\n",
    "            \n",
    "        # Based on roi pooling code of pytorch but, the only difference is to change max pooling to mean pooling\n",
    "        for roi_ind, roi in enumerate(rois):\n",
    "            batch_ind = int(roi[0].data)\n",
    "            roi_start_w, roi_start_h, roi_end_w, roi_end_h = roi_start_w, roi_start_h, roi_end_w, roi_end_h = torch.round(roi[1:]* self.spatial_scale).data.cpu().numpy().astype(int)\n",
    "            roi_width = max(roi_end_w - roi_start_w + 1, 1)\n",
    "            roi_height = max(roi_end_h - roi_start_h + 1, 1)\n",
    "            bin_size_w = float(roi_width) / float(self.pooled_width)\n",
    "            bin_size_h = float(roi_height) / float(self.pooled_height)\n",
    "\n",
    "            for ph in range(self.pooled_height):\n",
    "                hstart = int(np.floor(ph * bin_size_h))\n",
    "                hend = int(np.ceil((ph + 1) * bin_size_h))\n",
    "                hstart = min(data_height, max(0, hstart + roi_start_h))\n",
    "                hend = min(data_height, max(0, hend + roi_start_h))\n",
    "                for pw in range(self.pooled_width):\n",
    "                    wstart = int(np.floor(pw * bin_size_w))\n",
    "                    wend = int(np.ceil((pw + 1) * bin_size_w))\n",
    "                    wstart = min(data_width, max(0, wstart + roi_start_w))\n",
    "                    wend = min(data_width, max(0, wend + roi_start_w))\n",
    "\n",
    "                    is_empty = (hend <= hstart) or(wend <= wstart)\n",
    "                    if is_empty:\n",
    "                        outputs[roi_ind, :, ph, pw] = 0\n",
    "                    else:\n",
    "                        data = features[batch_ind]\n",
    "                        # mean pooling with both of regional feature map and global feature map\n",
    "                        outputs[roi_ind, :, ph, pw] = torch.cat((torch.mean(\n",
    "                            torch.mean(data[:, hstart:hend, wstart:wend], 1, keepdim = True), 2, keepdim = True).view(-1)\n",
    "                            ,torch.mean(\n",
    "                            torch.mean(data, 1, keepdim = True), 2, keepdim = True).view(-1)), 0 )  # noqa\n",
    "        \n",
    "        # Reshpae\n",
    "        outputs = outputs.squeeze(2).squeeze(2)\n",
    "        outputs = outputs.transpose(0,1).unsqueeze(0) # (1, # channel, #batch * # regions)\n",
    "        #Calculate regional attention weights with context-aware regional feature vectors\n",
    "        k = self.sp_att_1(self.conv_att_1(outputs))\n",
    "        k = self.sp_att_2(self.conv_att_2(k)) # (1, 1, #batch * # regions)\n",
    "        k = torch.squeeze(k,1)\n",
    "        \n",
    "        return k\n",
    "\n",
    "\n",
    "\n",
    "class NetForTraining(nn.Module):\n",
    "\n",
    "\n",
    "    def __init__(self):\n",
    "        super(NetForTraining, self).__init__()\n",
    "        \n",
    "        #RoI max pooling\n",
    "        self.r_mac_pool = RoIPool(1,1,0.03125)\n",
    "        self.region_attention = ContextAwareRegionalAttentionNetwork(spatial_scale = 0.03125)\n",
    "        self._initialize_weights()\n",
    "        \n",
    "        # This is for classification. get the weights of fc from off-the-shelf efficientnet B0\n",
    "        # (featrue vector, number of classes)\n",
    "        self.fc = nn.Linear(1280,10)   \n",
    "\n",
    "        # Load efficientnet model\n",
    "        self.efficientnet = EfficientNet.from_pretrained('efficientnet-b0', num_classes=10)  \n",
    "        self.efficientnet.load_state_dict(torch.load('/content/drive/MyDrive/Kaier_Tofu_Data/Regional attention/raw_data_president_model.pt'))\n",
    "        \n",
    "        for param in self.efficientnet.parameters():\n",
    "            param.requires_grad = False\n",
    "\n",
    "    def _initialize_weights(self):\n",
    "        for m in self.modules():\n",
    "            if isinstance(m, nn.Conv2d):\n",
    "                nn.init.xavier_normal(m.weight.data)\n",
    "                if m.bias is not None:\n",
    "                    m.bias.data.zero_()\n",
    "            if isinstance(m, nn.Linear):\n",
    "                nn.init.xavier_normal(m.weight.data)\n",
    "                if m.bias is not None:\n",
    "                    m.bias.data.zero_()\n",
    "    \n",
    "   \n",
    "    def forward(self, x, ):\n",
    "        \n",
    "        # Calculate R-MAC regions (Region sampling)\n",
    "        batched_rois =  [get_rmac_region_coordinates(x.shape[2],x.shape[3],5) for i in range(x.shape[0])]   # (batch size(5), # of proposed region(55), coordinates?(4))\n",
    "        region_size = len(batched_rois[0])\n",
    "        rois = Variable(torch.FloatTensor(pack_regions_for_network(batched_rois))) # [220(55*4), 5]\n",
    "\n",
    "        h = x\n",
    "\n",
    "        # Extract feature map\n",
    "        h = self.efficientnet.extract_features(x) #( #batch, #channel, #h, #w)  # [4, 1280, 7, 7]\n",
    "\n",
    "        g = self.r_mac_pool(h,rois)  # [220, 1280, 1, 1]\n",
    "        g = g.squeeze(2).squeeze(2)  # [220, 1280]\n",
    "\n",
    "        g2 = self.region_attention(h,rois)\n",
    "        g2 = g2.squeeze(0).squeeze(0)# (# batch * region)\n",
    "\n",
    "        g = torch.mul(g.transpose(1,0),g2).transpose(1,0)\n",
    "        \n",
    "        # regional weighted feature (# batch * region, #channel)\n",
    "        \n",
    "        g = g.contiguous()\n",
    "        g = g.view(torch.Size([h.size(0), -1 ,h.size(1)])) # (#batch, # region, # channel)\n",
    "        g = torch.transpose(g,1,2)    # (#batch * #channel, #region)\n",
    "        \n",
    "\n",
    "        g = torch.mean(g,2) #mean?\n",
    "\n",
    "        g = self.fc(g)\n",
    "\n",
    "        return g\n"
   ]
  },
  {
   "cell_type": "code",
   "execution_count": null,
   "metadata": {
    "colab": {
     "base_uri": "https://localhost:8080/"
    },
    "id": "vhS06L0ZSav2",
    "outputId": "b7218696-1fca-4a09-b10e-b214b49e30bb"
   },
   "outputs": [
    {
     "name": "stdout",
     "output_type": "stream",
     "text": [
      "Loaded pretrained weights for efficientnet-b0\n",
      "region_attention.conv_att_1.weight\n",
      "region_attention.conv_att_1.bias\n",
      "region_attention.conv_att_2.weight\n",
      "region_attention.conv_att_2.bias\n"
     ]
    }
   ],
   "source": [
    "net = NetForTraining()\n",
    "\n",
    "dic = torch.load('/content/drive/MyDrive/Kaier_Tofu_Data/Regional attention/raw_data_president_model.pt')\n",
    "net.fc.weight.data = dic['_fc.weight']\n",
    "net.fc.bias.data = dic['_fc.bias']\n",
    "\n",
    "for param in net.fc.parameters():\n",
    "    param.requires_grad=False\n",
    "# net.eval()\n",
    "net = net.cuda(0)\n",
    "\n",
    "for name,param in net.named_parameters():\n",
    "    if param.requires_grad == True:\n",
    "        print(name)\n",
    "\n",
    "# Train only regional attention network\n",
    "init_lr = 0.001\n",
    "optimizer_ft = optim.SGD(list(net.parameters())[:4], lr=init_lr, momentum=0.9, weight_decay = 0.00005)\n",
    "criterion =nn.CrossEntropyLoss()\n"
   ]
  },
  {
   "cell_type": "code",
   "execution_count": null,
   "metadata": {
    "colab": {
     "base_uri": "https://localhost:8080/"
    },
    "collapsed": true,
    "id": "anWamX3XSeLT",
    "outputId": "f963fca9-0176-4750-d7a3-edbcfef07e62"
   },
   "outputs": [
    {
     "name": "stdout",
     "output_type": "stream",
     "text": [
      "odict_keys(['region_attention.conv_att_1.weight', 'region_attention.conv_att_1.bias', 'region_attention.conv_att_2.weight', 'region_attention.conv_att_2.bias', 'fc.weight', 'fc.bias', 'efficientnet._conv_stem.weight', 'efficientnet._bn0.weight', 'efficientnet._bn0.bias', 'efficientnet._bn0.running_mean', 'efficientnet._bn0.running_var', 'efficientnet._bn0.num_batches_tracked', 'efficientnet._blocks.0._depthwise_conv.weight', 'efficientnet._blocks.0._bn1.weight', 'efficientnet._blocks.0._bn1.bias', 'efficientnet._blocks.0._bn1.running_mean', 'efficientnet._blocks.0._bn1.running_var', 'efficientnet._blocks.0._bn1.num_batches_tracked', 'efficientnet._blocks.0._se_reduce.weight', 'efficientnet._blocks.0._se_reduce.bias', 'efficientnet._blocks.0._se_expand.weight', 'efficientnet._blocks.0._se_expand.bias', 'efficientnet._blocks.0._project_conv.weight', 'efficientnet._blocks.0._bn2.weight', 'efficientnet._blocks.0._bn2.bias', 'efficientnet._blocks.0._bn2.running_mean', 'efficientnet._blocks.0._bn2.running_var', 'efficientnet._blocks.0._bn2.num_batches_tracked', 'efficientnet._blocks.1._expand_conv.weight', 'efficientnet._blocks.1._bn0.weight', 'efficientnet._blocks.1._bn0.bias', 'efficientnet._blocks.1._bn0.running_mean', 'efficientnet._blocks.1._bn0.running_var', 'efficientnet._blocks.1._bn0.num_batches_tracked', 'efficientnet._blocks.1._depthwise_conv.weight', 'efficientnet._blocks.1._bn1.weight', 'efficientnet._blocks.1._bn1.bias', 'efficientnet._blocks.1._bn1.running_mean', 'efficientnet._blocks.1._bn1.running_var', 'efficientnet._blocks.1._bn1.num_batches_tracked', 'efficientnet._blocks.1._se_reduce.weight', 'efficientnet._blocks.1._se_reduce.bias', 'efficientnet._blocks.1._se_expand.weight', 'efficientnet._blocks.1._se_expand.bias', 'efficientnet._blocks.1._project_conv.weight', 'efficientnet._blocks.1._bn2.weight', 'efficientnet._blocks.1._bn2.bias', 'efficientnet._blocks.1._bn2.running_mean', 'efficientnet._blocks.1._bn2.running_var', 'efficientnet._blocks.1._bn2.num_batches_tracked', 'efficientnet._blocks.2._expand_conv.weight', 'efficientnet._blocks.2._bn0.weight', 'efficientnet._blocks.2._bn0.bias', 'efficientnet._blocks.2._bn0.running_mean', 'efficientnet._blocks.2._bn0.running_var', 'efficientnet._blocks.2._bn0.num_batches_tracked', 'efficientnet._blocks.2._depthwise_conv.weight', 'efficientnet._blocks.2._bn1.weight', 'efficientnet._blocks.2._bn1.bias', 'efficientnet._blocks.2._bn1.running_mean', 'efficientnet._blocks.2._bn1.running_var', 'efficientnet._blocks.2._bn1.num_batches_tracked', 'efficientnet._blocks.2._se_reduce.weight', 'efficientnet._blocks.2._se_reduce.bias', 'efficientnet._blocks.2._se_expand.weight', 'efficientnet._blocks.2._se_expand.bias', 'efficientnet._blocks.2._project_conv.weight', 'efficientnet._blocks.2._bn2.weight', 'efficientnet._blocks.2._bn2.bias', 'efficientnet._blocks.2._bn2.running_mean', 'efficientnet._blocks.2._bn2.running_var', 'efficientnet._blocks.2._bn2.num_batches_tracked', 'efficientnet._blocks.3._expand_conv.weight', 'efficientnet._blocks.3._bn0.weight', 'efficientnet._blocks.3._bn0.bias', 'efficientnet._blocks.3._bn0.running_mean', 'efficientnet._blocks.3._bn0.running_var', 'efficientnet._blocks.3._bn0.num_batches_tracked', 'efficientnet._blocks.3._depthwise_conv.weight', 'efficientnet._blocks.3._bn1.weight', 'efficientnet._blocks.3._bn1.bias', 'efficientnet._blocks.3._bn1.running_mean', 'efficientnet._blocks.3._bn1.running_var', 'efficientnet._blocks.3._bn1.num_batches_tracked', 'efficientnet._blocks.3._se_reduce.weight', 'efficientnet._blocks.3._se_reduce.bias', 'efficientnet._blocks.3._se_expand.weight', 'efficientnet._blocks.3._se_expand.bias', 'efficientnet._blocks.3._project_conv.weight', 'efficientnet._blocks.3._bn2.weight', 'efficientnet._blocks.3._bn2.bias', 'efficientnet._blocks.3._bn2.running_mean', 'efficientnet._blocks.3._bn2.running_var', 'efficientnet._blocks.3._bn2.num_batches_tracked', 'efficientnet._blocks.4._expand_conv.weight', 'efficientnet._blocks.4._bn0.weight', 'efficientnet._blocks.4._bn0.bias', 'efficientnet._blocks.4._bn0.running_mean', 'efficientnet._blocks.4._bn0.running_var', 'efficientnet._blocks.4._bn0.num_batches_tracked', 'efficientnet._blocks.4._depthwise_conv.weight', 'efficientnet._blocks.4._bn1.weight', 'efficientnet._blocks.4._bn1.bias', 'efficientnet._blocks.4._bn1.running_mean', 'efficientnet._blocks.4._bn1.running_var', 'efficientnet._blocks.4._bn1.num_batches_tracked', 'efficientnet._blocks.4._se_reduce.weight', 'efficientnet._blocks.4._se_reduce.bias', 'efficientnet._blocks.4._se_expand.weight', 'efficientnet._blocks.4._se_expand.bias', 'efficientnet._blocks.4._project_conv.weight', 'efficientnet._blocks.4._bn2.weight', 'efficientnet._blocks.4._bn2.bias', 'efficientnet._blocks.4._bn2.running_mean', 'efficientnet._blocks.4._bn2.running_var', 'efficientnet._blocks.4._bn2.num_batches_tracked', 'efficientnet._blocks.5._expand_conv.weight', 'efficientnet._blocks.5._bn0.weight', 'efficientnet._blocks.5._bn0.bias', 'efficientnet._blocks.5._bn0.running_mean', 'efficientnet._blocks.5._bn0.running_var', 'efficientnet._blocks.5._bn0.num_batches_tracked', 'efficientnet._blocks.5._depthwise_conv.weight', 'efficientnet._blocks.5._bn1.weight', 'efficientnet._blocks.5._bn1.bias', 'efficientnet._blocks.5._bn1.running_mean', 'efficientnet._blocks.5._bn1.running_var', 'efficientnet._blocks.5._bn1.num_batches_tracked', 'efficientnet._blocks.5._se_reduce.weight', 'efficientnet._blocks.5._se_reduce.bias', 'efficientnet._blocks.5._se_expand.weight', 'efficientnet._blocks.5._se_expand.bias', 'efficientnet._blocks.5._project_conv.weight', 'efficientnet._blocks.5._bn2.weight', 'efficientnet._blocks.5._bn2.bias', 'efficientnet._blocks.5._bn2.running_mean', 'efficientnet._blocks.5._bn2.running_var', 'efficientnet._blocks.5._bn2.num_batches_tracked', 'efficientnet._blocks.6._expand_conv.weight', 'efficientnet._blocks.6._bn0.weight', 'efficientnet._blocks.6._bn0.bias', 'efficientnet._blocks.6._bn0.running_mean', 'efficientnet._blocks.6._bn0.running_var', 'efficientnet._blocks.6._bn0.num_batches_tracked', 'efficientnet._blocks.6._depthwise_conv.weight', 'efficientnet._blocks.6._bn1.weight', 'efficientnet._blocks.6._bn1.bias', 'efficientnet._blocks.6._bn1.running_mean', 'efficientnet._blocks.6._bn1.running_var', 'efficientnet._blocks.6._bn1.num_batches_tracked', 'efficientnet._blocks.6._se_reduce.weight', 'efficientnet._blocks.6._se_reduce.bias', 'efficientnet._blocks.6._se_expand.weight', 'efficientnet._blocks.6._se_expand.bias', 'efficientnet._blocks.6._project_conv.weight', 'efficientnet._blocks.6._bn2.weight', 'efficientnet._blocks.6._bn2.bias', 'efficientnet._blocks.6._bn2.running_mean', 'efficientnet._blocks.6._bn2.running_var', 'efficientnet._blocks.6._bn2.num_batches_tracked', 'efficientnet._blocks.7._expand_conv.weight', 'efficientnet._blocks.7._bn0.weight', 'efficientnet._blocks.7._bn0.bias', 'efficientnet._blocks.7._bn0.running_mean', 'efficientnet._blocks.7._bn0.running_var', 'efficientnet._blocks.7._bn0.num_batches_tracked', 'efficientnet._blocks.7._depthwise_conv.weight', 'efficientnet._blocks.7._bn1.weight', 'efficientnet._blocks.7._bn1.bias', 'efficientnet._blocks.7._bn1.running_mean', 'efficientnet._blocks.7._bn1.running_var', 'efficientnet._blocks.7._bn1.num_batches_tracked', 'efficientnet._blocks.7._se_reduce.weight', 'efficientnet._blocks.7._se_reduce.bias', 'efficientnet._blocks.7._se_expand.weight', 'efficientnet._blocks.7._se_expand.bias', 'efficientnet._blocks.7._project_conv.weight', 'efficientnet._blocks.7._bn2.weight', 'efficientnet._blocks.7._bn2.bias', 'efficientnet._blocks.7._bn2.running_mean', 'efficientnet._blocks.7._bn2.running_var', 'efficientnet._blocks.7._bn2.num_batches_tracked', 'efficientnet._blocks.8._expand_conv.weight', 'efficientnet._blocks.8._bn0.weight', 'efficientnet._blocks.8._bn0.bias', 'efficientnet._blocks.8._bn0.running_mean', 'efficientnet._blocks.8._bn0.running_var', 'efficientnet._blocks.8._bn0.num_batches_tracked', 'efficientnet._blocks.8._depthwise_conv.weight', 'efficientnet._blocks.8._bn1.weight', 'efficientnet._blocks.8._bn1.bias', 'efficientnet._blocks.8._bn1.running_mean', 'efficientnet._blocks.8._bn1.running_var', 'efficientnet._blocks.8._bn1.num_batches_tracked', 'efficientnet._blocks.8._se_reduce.weight', 'efficientnet._blocks.8._se_reduce.bias', 'efficientnet._blocks.8._se_expand.weight', 'efficientnet._blocks.8._se_expand.bias', 'efficientnet._blocks.8._project_conv.weight', 'efficientnet._blocks.8._bn2.weight', 'efficientnet._blocks.8._bn2.bias', 'efficientnet._blocks.8._bn2.running_mean', 'efficientnet._blocks.8._bn2.running_var', 'efficientnet._blocks.8._bn2.num_batches_tracked', 'efficientnet._blocks.9._expand_conv.weight', 'efficientnet._blocks.9._bn0.weight', 'efficientnet._blocks.9._bn0.bias', 'efficientnet._blocks.9._bn0.running_mean', 'efficientnet._blocks.9._bn0.running_var', 'efficientnet._blocks.9._bn0.num_batches_tracked', 'efficientnet._blocks.9._depthwise_conv.weight', 'efficientnet._blocks.9._bn1.weight', 'efficientnet._blocks.9._bn1.bias', 'efficientnet._blocks.9._bn1.running_mean', 'efficientnet._blocks.9._bn1.running_var', 'efficientnet._blocks.9._bn1.num_batches_tracked', 'efficientnet._blocks.9._se_reduce.weight', 'efficientnet._blocks.9._se_reduce.bias', 'efficientnet._blocks.9._se_expand.weight', 'efficientnet._blocks.9._se_expand.bias', 'efficientnet._blocks.9._project_conv.weight', 'efficientnet._blocks.9._bn2.weight', 'efficientnet._blocks.9._bn2.bias', 'efficientnet._blocks.9._bn2.running_mean', 'efficientnet._blocks.9._bn2.running_var', 'efficientnet._blocks.9._bn2.num_batches_tracked', 'efficientnet._blocks.10._expand_conv.weight', 'efficientnet._blocks.10._bn0.weight', 'efficientnet._blocks.10._bn0.bias', 'efficientnet._blocks.10._bn0.running_mean', 'efficientnet._blocks.10._bn0.running_var', 'efficientnet._blocks.10._bn0.num_batches_tracked', 'efficientnet._blocks.10._depthwise_conv.weight', 'efficientnet._blocks.10._bn1.weight', 'efficientnet._blocks.10._bn1.bias', 'efficientnet._blocks.10._bn1.running_mean', 'efficientnet._blocks.10._bn1.running_var', 'efficientnet._blocks.10._bn1.num_batches_tracked', 'efficientnet._blocks.10._se_reduce.weight', 'efficientnet._blocks.10._se_reduce.bias', 'efficientnet._blocks.10._se_expand.weight', 'efficientnet._blocks.10._se_expand.bias', 'efficientnet._blocks.10._project_conv.weight', 'efficientnet._blocks.10._bn2.weight', 'efficientnet._blocks.10._bn2.bias', 'efficientnet._blocks.10._bn2.running_mean', 'efficientnet._blocks.10._bn2.running_var', 'efficientnet._blocks.10._bn2.num_batches_tracked', 'efficientnet._blocks.11._expand_conv.weight', 'efficientnet._blocks.11._bn0.weight', 'efficientnet._blocks.11._bn0.bias', 'efficientnet._blocks.11._bn0.running_mean', 'efficientnet._blocks.11._bn0.running_var', 'efficientnet._blocks.11._bn0.num_batches_tracked', 'efficientnet._blocks.11._depthwise_conv.weight', 'efficientnet._blocks.11._bn1.weight', 'efficientnet._blocks.11._bn1.bias', 'efficientnet._blocks.11._bn1.running_mean', 'efficientnet._blocks.11._bn1.running_var', 'efficientnet._blocks.11._bn1.num_batches_tracked', 'efficientnet._blocks.11._se_reduce.weight', 'efficientnet._blocks.11._se_reduce.bias', 'efficientnet._blocks.11._se_expand.weight', 'efficientnet._blocks.11._se_expand.bias', 'efficientnet._blocks.11._project_conv.weight', 'efficientnet._blocks.11._bn2.weight', 'efficientnet._blocks.11._bn2.bias', 'efficientnet._blocks.11._bn2.running_mean', 'efficientnet._blocks.11._bn2.running_var', 'efficientnet._blocks.11._bn2.num_batches_tracked', 'efficientnet._blocks.12._expand_conv.weight', 'efficientnet._blocks.12._bn0.weight', 'efficientnet._blocks.12._bn0.bias', 'efficientnet._blocks.12._bn0.running_mean', 'efficientnet._blocks.12._bn0.running_var', 'efficientnet._blocks.12._bn0.num_batches_tracked', 'efficientnet._blocks.12._depthwise_conv.weight', 'efficientnet._blocks.12._bn1.weight', 'efficientnet._blocks.12._bn1.bias', 'efficientnet._blocks.12._bn1.running_mean', 'efficientnet._blocks.12._bn1.running_var', 'efficientnet._blocks.12._bn1.num_batches_tracked', 'efficientnet._blocks.12._se_reduce.weight', 'efficientnet._blocks.12._se_reduce.bias', 'efficientnet._blocks.12._se_expand.weight', 'efficientnet._blocks.12._se_expand.bias', 'efficientnet._blocks.12._project_conv.weight', 'efficientnet._blocks.12._bn2.weight', 'efficientnet._blocks.12._bn2.bias', 'efficientnet._blocks.12._bn2.running_mean', 'efficientnet._blocks.12._bn2.running_var', 'efficientnet._blocks.12._bn2.num_batches_tracked', 'efficientnet._blocks.13._expand_conv.weight', 'efficientnet._blocks.13._bn0.weight', 'efficientnet._blocks.13._bn0.bias', 'efficientnet._blocks.13._bn0.running_mean', 'efficientnet._blocks.13._bn0.running_var', 'efficientnet._blocks.13._bn0.num_batches_tracked', 'efficientnet._blocks.13._depthwise_conv.weight', 'efficientnet._blocks.13._bn1.weight', 'efficientnet._blocks.13._bn1.bias', 'efficientnet._blocks.13._bn1.running_mean', 'efficientnet._blocks.13._bn1.running_var', 'efficientnet._blocks.13._bn1.num_batches_tracked', 'efficientnet._blocks.13._se_reduce.weight', 'efficientnet._blocks.13._se_reduce.bias', 'efficientnet._blocks.13._se_expand.weight', 'efficientnet._blocks.13._se_expand.bias', 'efficientnet._blocks.13._project_conv.weight', 'efficientnet._blocks.13._bn2.weight', 'efficientnet._blocks.13._bn2.bias', 'efficientnet._blocks.13._bn2.running_mean', 'efficientnet._blocks.13._bn2.running_var', 'efficientnet._blocks.13._bn2.num_batches_tracked', 'efficientnet._blocks.14._expand_conv.weight', 'efficientnet._blocks.14._bn0.weight', 'efficientnet._blocks.14._bn0.bias', 'efficientnet._blocks.14._bn0.running_mean', 'efficientnet._blocks.14._bn0.running_var', 'efficientnet._blocks.14._bn0.num_batches_tracked', 'efficientnet._blocks.14._depthwise_conv.weight', 'efficientnet._blocks.14._bn1.weight', 'efficientnet._blocks.14._bn1.bias', 'efficientnet._blocks.14._bn1.running_mean', 'efficientnet._blocks.14._bn1.running_var', 'efficientnet._blocks.14._bn1.num_batches_tracked', 'efficientnet._blocks.14._se_reduce.weight', 'efficientnet._blocks.14._se_reduce.bias', 'efficientnet._blocks.14._se_expand.weight', 'efficientnet._blocks.14._se_expand.bias', 'efficientnet._blocks.14._project_conv.weight', 'efficientnet._blocks.14._bn2.weight', 'efficientnet._blocks.14._bn2.bias', 'efficientnet._blocks.14._bn2.running_mean', 'efficientnet._blocks.14._bn2.running_var', 'efficientnet._blocks.14._bn2.num_batches_tracked', 'efficientnet._blocks.15._expand_conv.weight', 'efficientnet._blocks.15._bn0.weight', 'efficientnet._blocks.15._bn0.bias', 'efficientnet._blocks.15._bn0.running_mean', 'efficientnet._blocks.15._bn0.running_var', 'efficientnet._blocks.15._bn0.num_batches_tracked', 'efficientnet._blocks.15._depthwise_conv.weight', 'efficientnet._blocks.15._bn1.weight', 'efficientnet._blocks.15._bn1.bias', 'efficientnet._blocks.15._bn1.running_mean', 'efficientnet._blocks.15._bn1.running_var', 'efficientnet._blocks.15._bn1.num_batches_tracked', 'efficientnet._blocks.15._se_reduce.weight', 'efficientnet._blocks.15._se_reduce.bias', 'efficientnet._blocks.15._se_expand.weight', 'efficientnet._blocks.15._se_expand.bias', 'efficientnet._blocks.15._project_conv.weight', 'efficientnet._blocks.15._bn2.weight', 'efficientnet._blocks.15._bn2.bias', 'efficientnet._blocks.15._bn2.running_mean', 'efficientnet._blocks.15._bn2.running_var', 'efficientnet._blocks.15._bn2.num_batches_tracked', 'efficientnet._conv_head.weight', 'efficientnet._bn1.weight', 'efficientnet._bn1.bias', 'efficientnet._bn1.running_mean', 'efficientnet._bn1.running_var', 'efficientnet._bn1.num_batches_tracked', 'efficientnet._fc.weight', 'efficientnet._fc.bias'])\n"
     ]
    }
   ],
   "source": [
    "print(net.state_dict().keys())"
   ]
  },
  {
   "cell_type": "code",
   "execution_count": null,
   "metadata": {
    "id": "8U2hikKdP_up"
   },
   "outputs": [],
   "source": [
    "dic = torch.load('/content/drive/MyDrive/Kaier_Tofu_Data/Regional attention/raw_data_president_model.pt')"
   ]
  },
  {
   "cell_type": "code",
   "execution_count": null,
   "metadata": {
    "colab": {
     "base_uri": "https://localhost:8080/"
    },
    "id": "zA5p096SQBCU",
    "outputId": "571259b7-878d-4cb2-f6b0-01a7c864758e"
   },
   "outputs": [
    {
     "data": {
      "text/plain": [
       "torch.Size([10, 1280])"
      ]
     },
     "execution_count": 33,
     "metadata": {
      "tags": []
     },
     "output_type": "execute_result"
    }
   ],
   "source": [
    "dic['_fc.weight'].shape"
   ]
  },
  {
   "cell_type": "code",
   "execution_count": null,
   "metadata": {
    "id": "LmYp5qsQ65GO"
   },
   "outputs": [],
   "source": [
    "import numpy as np\n",
    "import torch \n",
    "\n",
    "class EarlyStopping:\n",
    "    \"\"\"주어진 patience 이후로 validation loss가 개선되지 않으면 학습을 조기 중지\"\"\"\n",
    "    def __init__(self, patience=7, verbose=False, delta=0, path='checkpoint.pt'):\n",
    "        \"\"\"\n",
    "        Args:\n",
    "            patience (int): validation loss가 개선된 후 기다리는 기간\n",
    "                            Default: 7\n",
    "            verbose (bool): True일 경우 각 validation loss의 개선 사항 메세지 출력\n",
    "                            Default: False\n",
    "            delta (float): 개선되었다고 인정되는 monitered quantity의 최소 변화\n",
    "                            Default: 0\n",
    "            path (str): checkpoint저장 경로\n",
    "                            Default: 'checkpoint.pt'\n",
    "        \"\"\"\n",
    "        self.patience = patience\n",
    "        self.verbose = verbose\n",
    "        self.counter = 0\n",
    "        self.best_score = None\n",
    "        self.early_stop = False\n",
    "        self.val_loss_min = np.Inf\n",
    "        self.delta = delta\n",
    "        self.path = path\n",
    "\n",
    "    def __call__(self, val_loss, model):\n",
    "\n",
    "        score = -val_loss\n",
    "\n",
    "        if self.best_score is None:\n",
    "            self.best_score = score\n",
    "            self.save_checkpoint(val_loss, model)\n",
    "        elif score < self.best_score + self.delta:\n",
    "            self.counter += 1\n",
    "            print(f'EarlyStopping counter: {self.counter} out of {self.patience}')\n",
    "            if self.counter >= self.patience:\n",
    "                self.early_stop = True\n",
    "        else:\n",
    "            self.best_score = score\n",
    "            self.save_checkpoint(val_loss, model)\n",
    "            self.counter = 0\n",
    "\n",
    "    def save_checkpoint(self, val_loss, model):\n",
    "        '''validation loss가 감소하면 모델을 저장한다.'''\n",
    "        if self.verbose:\n",
    "            print(f'Validation loss decreased ({self.val_loss_min:.6f} --> {val_loss:.6f}). \\\n",
    "                 Saving model ...')\n",
    "        torch.save(model.state_dict(), self.path)\n",
    "        self.val_loss_min = val_loss"
   ]
  },
  {
   "cell_type": "code",
   "execution_count": null,
   "metadata": {
    "id": "CQyP4eIk6_Lp"
   },
   "outputs": [],
   "source": [
    "\n",
    "# make early_stopping object \n",
    "early_stopping = EarlyStopping(patience = 15, verbose = True)"
   ]
  },
  {
   "cell_type": "markdown",
   "metadata": {
    "id": "9d-eKQcxtA8o"
   },
   "source": [
    "# train "
   ]
  },
  {
   "cell_type": "code",
   "execution_count": null,
   "metadata": {
    "id": "WfP_RIXkSav4"
   },
   "outputs": [],
   "source": [
    "def train_model(model, dataloaders, criterion, optimizer, num_epochs=100):\n",
    "    since = time.time()\n",
    "    history = {'train_acc': [], 'val_acc': [], 'train_loss' : [], 'val_loss' :[]}\n",
    "\n",
    "    best_model_wts = copy.deepcopy(model.state_dict())\n",
    "    best_acc = 0.0\n",
    "\n",
    "    for epoch in range(num_epochs):\n",
    "#         scheduler.step()\n",
    "        print('Epoch {}/{}'.format(epoch, num_epochs - 1))\n",
    "        print('-' * 10)\n",
    "\n",
    "        # Each epoch has a training and validation phase\n",
    "        for phase in ['train', 'val']:\n",
    "            if phase == 'train':\n",
    "#                 continue\n",
    "                model.train()  # Set model to training mode\n",
    "            else:\n",
    "                model.eval()   # Set model to evaluate mode\n",
    "\n",
    "            running_loss = 0.0\n",
    "            running_corrects = 0\n",
    "\n",
    "            # Iterate over data.\n",
    "            for inputs, labels in dataloaders[phase]:\n",
    "                inputs = inputs.to(device)\n",
    "                labels = labels.to(device)\n",
    "\n",
    "                # zero the parameter gradients\n",
    "                optimizer.zero_grad()\n",
    "\n",
    "                # forward\n",
    "                # track history if only in train\n",
    "                with torch.set_grad_enabled(phase == 'train'):\n",
    "                    outputs = model(inputs)\n",
    "                    loss = criterion(outputs, labels)\n",
    "                    _, preds = torch.max(outputs.data, 1)\n",
    "\n",
    "\n",
    "                    # backward + optimize only if in training phase\n",
    "                    if phase == 'train':\n",
    "                        loss.backward()\n",
    "                        optimizer.step()\n",
    "\n",
    "                # statistics\n",
    "                running_loss += loss.item()\n",
    "                \n",
    "                running_corrects += torch.sum(preds == labels.data)\n",
    "           \n",
    "            epoch_loss = running_loss / len(dataloaders[phase].dataset)\n",
    "            epoch_acc = (running_corrects.double() / len(dataloaders[phase].dataset))*100\n",
    "            if phase == 'train':\n",
    "                history['train_acc'].append(epoch_acc)\n",
    "                history['train_loss'].append(epoch_loss)\n",
    "            if phase == 'val':\n",
    "                history['val_acc'].append(epoch_acc)\n",
    "                history['val_loss'].append(epoch_loss)\n",
    "            print('{} Loss: {:.4f} Acc: {:.4f}'.format(phase, epoch_loss, epoch_acc))\n",
    "\n",
    "            # deep copy the model\n",
    "            if phase == 'val' and epoch_acc > best_acc:\n",
    "                best_acc = epoch_acc\n",
    "                best_model_wts = copy.deepcopy(model.state_dict())\n",
    "        \n",
    "        early_stopping(-auc_score, net)\n",
    "        if early_stopping.early_stop:\n",
    "            print(\"Early stopping\")\n",
    "            break\n",
    "\n",
    "        print()\n",
    "\n",
    "    time_elapsed = time.time() - since\n",
    "    print('Training complete in {:.0f}m {:.0f}s'.format(time_elapsed // 60, time_elapsed % 60))\n",
    "    print('Best val Acc: {:4f}'.format(best_acc))\n",
    "\n",
    "    # load best model weights\n",
    "    model.load_state_dict(best_model_wts)\n",
    "    return model, history"
   ]
  },
  {
   "cell_type": "code",
   "execution_count": null,
   "metadata": {
    "id": "zLcog4iiSav4"
   },
   "outputs": [],
   "source": [
    "device = torch.device(f'cuda:0' if torch.cuda.is_available() else 'cpu')"
   ]
  },
  {
   "cell_type": "code",
   "execution_count": null,
   "metadata": {
    "colab": {
     "base_uri": "https://localhost:8080/"
    },
    "collapsed": true,
    "id": "vcGNXL4XSav5",
    "outputId": "9db784bd-5b0f-4508-9666-b0b628c4512f"
   },
   "outputs": [
    {
     "name": "stdout",
     "output_type": "stream",
     "text": [
      "Epoch 0/9\n",
      "----------\n",
      "train Loss: 0.0000 Acc: 99.9345\n",
      "val Loss: 0.0182 Acc: 90.2793\n",
      "\n",
      "Epoch 1/9\n",
      "----------\n",
      "train Loss: 0.0001 Acc: 99.8571\n",
      "val Loss: 0.0162 Acc: 90.1182\n",
      "\n",
      "Epoch 2/9\n",
      "----------\n",
      "train Loss: 0.0001 Acc: 99.8749\n",
      "val Loss: 0.0154 Acc: 90.1719\n",
      "\n",
      "Epoch 3/9\n",
      "----------\n",
      "train Loss: 0.0001 Acc: 99.8809\n",
      "val Loss: 0.0152 Acc: 90.1719\n",
      "\n",
      "Epoch 4/9\n",
      "----------\n",
      "train Loss: 0.0001 Acc: 99.8749\n",
      "val Loss: 0.0150 Acc: 90.1719\n",
      "\n",
      "Epoch 5/9\n",
      "----------\n",
      "train Loss: 0.0000 Acc: 99.9345\n",
      "val Loss: 0.0157 Acc: 90.3330\n",
      "\n",
      "Epoch 6/9\n",
      "----------\n",
      "train Loss: 0.0000 Acc: 99.9464\n",
      "val Loss: 0.0175 Acc: 90.3867\n",
      "\n",
      "Epoch 7/9\n",
      "----------\n",
      "train Loss: 0.0001 Acc: 99.8928\n",
      "val Loss: 0.0171 Acc: 90.3330\n",
      "\n",
      "Epoch 8/9\n",
      "----------\n",
      "train Loss: 0.0001 Acc: 99.8988\n",
      "val Loss: 0.0162 Acc: 90.1719\n",
      "\n",
      "Epoch 9/9\n",
      "----------\n",
      "train Loss: 0.0000 Acc: 99.9107\n",
      "val Loss: 0.0181 Acc: 90.2793\n",
      "\n",
      "Training complete in 53m 34s\n",
      "Best val Acc: 90.386681\n"
     ]
    }
   ],
   "source": [
    "model_ft, hist = train_model(net, dataloaders, criterion, optimizer_ft, num_epochs=10)"
   ]
  },
  {
   "cell_type": "code",
   "execution_count": null,
   "metadata": {
    "colab": {
     "base_uri": "https://localhost:8080/"
    },
    "id": "8pjR19rnn9qu",
    "outputId": "92792306-f8e2-4091-d34b-530f7ee9905b"
   },
   "outputs": [
    {
     "name": "stdout",
     "output_type": "stream",
     "text": [
      "model saved\n"
     ]
    }
   ],
   "source": [
    "torch.save(model_ft.state_dict(), '/content/drive/MyDrive/Kaier_Tofu_Data/Regional attention/regional_attention_efficientnet.pt')\n",
    "print('model saved')"
   ]
  },
  {
   "cell_type": "markdown",
   "metadata": {
    "id": "7BYrRhoMfgcs"
   },
   "source": [
    "# Test "
   ]
  },
  {
   "cell_type": "code",
   "execution_count": null,
   "metadata": {
    "colab": {
     "base_uri": "https://localhost:8080/"
    },
    "id": "SLW9t1Eqfmai",
    "outputId": "585c3877-ac9f-4808-b246-ccf7d6688d59"
   },
   "outputs": [
    {
     "data": {
      "text/plain": [
       "<All keys matched successfully>"
      ]
     },
     "execution_count": 36,
     "metadata": {
      "tags": []
     },
     "output_type": "execute_result"
    }
   ],
   "source": [
    "# load model \n",
    "net.load_state_dict(torch.load('/content/drive/MyDrive/Kaier_Tofu_Data/Regional attention/regional_attention_efficientnet.pt'))"
   ]
  },
  {
   "cell_type": "code",
   "execution_count": null,
   "metadata": {
    "id": "NNHuQ9OYSav6"
   },
   "outputs": [],
   "source": [
    "# predict over tofu test datasets\n",
    "\n",
    "device = 'cuda:0'\n",
    "net = net.to(device)\n",
    "\n",
    "net.eval() \n",
    "phase = 'test'\n",
    "\n",
    "pred_list = []\n",
    "true_list = []\n",
    "\n",
    "with torch.no_grad():\n",
    "    for inputs, labels in dataloaders[phase]:\n",
    "        inputs = inputs.to(device)\n",
    "        outputs = net(inputs)\n",
    "        _, preds = torch.max(outputs.data, 1)\n",
    "   \n",
    "        pred_list += preds.cpu().tolist()\n",
    "        true_list += labels.cpu().tolist()\n",
    "\n"
   ]
  },
  {
   "cell_type": "code",
   "execution_count": null,
   "metadata": {
    "colab": {
     "base_uri": "https://localhost:8080/"
    },
    "id": "KqRRC-vqjH6j",
    "outputId": "9470b3c7-6f7e-4795-a6f1-e236f0837c2c"
   },
   "outputs": [
    {
     "data": {
      "text/plain": [
       "0.8724752001912275"
      ]
     },
     "execution_count": 38,
     "metadata": {
      "tags": []
     },
     "output_type": "execute_result"
    }
   ],
   "source": [
    "from sklearn.metrics import accuracy_score\n",
    "accuracy_score(true_list, pred_list)"
   ]
  },
  {
   "cell_type": "code",
   "execution_count": null,
   "metadata": {
    "colab": {
     "base_uri": "https://localhost:8080/"
    },
    "id": "bNe2QR_djw5U",
    "outputId": "72533600-0806-48ff-87a4-61323f6258bb"
   },
   "outputs": [
    {
     "data": {
      "text/plain": [
       "{'금속': 0.72,\n",
       " '머리카락': 0.9692307692307692,\n",
       " '벌레': 0.83,\n",
       " '상단불량D': 0.6420845624385447,\n",
       " '상단불량E': 0.9147540983606557,\n",
       " '유바': 0.8777777777777778,\n",
       " '정상A': 0.913659793814433,\n",
       " '정상B': 0.9025893958076449,\n",
       " '탄화물': 0.8114754098360656,\n",
       " '플라스틱': 0.89}"
      ]
     },
     "execution_count": 39,
     "metadata": {
      "tags": []
     },
     "output_type": "execute_result"
    }
   ],
   "source": [
    "# class별 accuracy \n",
    "class_names = ['정상A', '정상B', '금속', '머리카락', '벌레', '상단불량D', '상단불량E', '유바', '탄화물', '플라스틱']\n",
    "class_accuracy = dict()\n",
    "for class_ in class_names:\n",
    "  idx = np.in1d(test_class, class_)\n",
    "  class_tmp = (np.array(true_list)==np.array(pred_list))[idx]\n",
    "  accruacy_ = np.sum(class_tmp) / len(class_tmp)\n",
    "  class_accuracy[class_] = accruacy_\n",
    "class_accuracy\n",
    "  "
   ]
  },
  {
   "cell_type": "code",
   "execution_count": null,
   "metadata": {
    "collapsed": true,
    "id": "LYJcvDbcYjxd"
   },
   "outputs": [],
   "source": [
    "le_name_mapping = dict(zip(le.transform(le.classes_),le.classes_))\n",
    "#le_name_mapping"
   ]
  },
  {
   "cell_type": "code",
   "execution_count": null,
   "metadata": {
    "id": "Gy3E2o2yNJxK"
   },
   "outputs": [],
   "source": [
    "predict_class_list = [le_name_mapping[x] for x in pred_list]\n",
    "test_class_list = [le_name_mapping[x] for x in true_list]\n"
   ]
  },
  {
   "cell_type": "code",
   "execution_count": null,
   "metadata": {
    "colab": {
     "base_uri": "https://localhost:8080/"
    },
    "id": "z23JefWLJ6HV",
    "outputId": "eeefc126-4a39-413d-9635-8e71d75e20a5"
   },
   "outputs": [
    {
     "name": "stdout",
     "output_type": "stream",
     "text": [
      "Requirement already satisfied: scikit-plot in /usr/local/lib/python3.7/dist-packages (0.3.7)\n",
      "Requirement already satisfied: scikit-learn>=0.18 in /usr/local/lib/python3.7/dist-packages (from scikit-plot) (0.22.2.post1)\n",
      "Requirement already satisfied: joblib>=0.10 in /usr/local/lib/python3.7/dist-packages (from scikit-plot) (1.0.1)\n",
      "Requirement already satisfied: matplotlib>=1.4.0 in /usr/local/lib/python3.7/dist-packages (from scikit-plot) (3.2.2)\n",
      "Requirement already satisfied: scipy>=0.9 in /usr/local/lib/python3.7/dist-packages (from scikit-plot) (1.4.1)\n",
      "Requirement already satisfied: pyparsing!=2.0.4,!=2.1.2,!=2.1.6,>=2.0.1 in /usr/local/lib/python3.7/dist-packages (from matplotlib>=1.4.0->scikit-plot) (2.4.7)\n",
      "Requirement already satisfied: cycler>=0.10 in /usr/local/lib/python3.7/dist-packages (from matplotlib>=1.4.0->scikit-plot) (0.10.0)\n",
      "Requirement already satisfied: numpy>=1.11 in /usr/local/lib/python3.7/dist-packages (from matplotlib>=1.4.0->scikit-plot) (1.19.5)\n",
      "Requirement already satisfied: python-dateutil>=2.1 in /usr/local/lib/python3.7/dist-packages (from matplotlib>=1.4.0->scikit-plot) (2.8.1)\n",
      "Requirement already satisfied: kiwisolver>=1.0.1 in /usr/local/lib/python3.7/dist-packages (from matplotlib>=1.4.0->scikit-plot) (1.3.1)\n",
      "Requirement already satisfied: six in /usr/local/lib/python3.7/dist-packages (from cycler>=0.10->matplotlib>=1.4.0->scikit-plot) (1.15.0)\n"
     ]
    }
   ],
   "source": [
    "!pip install scikit-plot"
   ]
  },
  {
   "cell_type": "code",
   "execution_count": null,
   "metadata": {
    "colab": {
     "base_uri": "https://localhost:8080/",
     "height": 871
    },
    "collapsed": true,
    "id": "lz7EnBo1NtJs",
    "outputId": "a2e72b09-699d-4884-e30b-302764ebd736"
   },
   "outputs": [
    {
     "data": {
      "text/plain": [
       "<matplotlib.axes._subplots.AxesSubplot at 0x7f758dbebe50>"
      ]
     },
     "execution_count": 43,
     "metadata": {
      "tags": []
     },
     "output_type": "execute_result"
    },
    {
     "data": {
      "image/png": "[encoded data removed]",
      "text/plain": [
       "<Figure size 1080x1080 with 2 Axes>"
      ]
     },
     "metadata": {
      "needs_background": "light",
      "tags": []
     },
     "output_type": "display_data"
    }
   ],
   "source": [
    "# confusion matrix \n",
    "import scikitplot as skplt\n",
    "import matplotlib.pyplot as plt\n",
    "skplt.metrics.plot_confusion_matrix(test_class_list, predict_class_list, figsize=(15,15))\n",
    "#plt.savefig(\"confusion_matrix_normalized2.png\")\n"
   ]
  },
  {
   "cell_type": "code",
   "execution_count": null,
   "metadata": {
    "colab": {
     "base_uri": "https://localhost:8080/"
    },
    "id": "R2QUoYOwlTMv",
    "outputId": "06d33571-7bae-45a3-fe9f-0a1e2294615d"
   },
   "outputs": [
    {
     "name": "stdout",
     "output_type": "stream",
     "text": [
      "(array(['상단불량D', '유바', '정상A', '정상B', '탄화물'], dtype='<U5'), array([ 127,    3, 3654, 2527,    2]))\n",
      "6313\n",
      "['정상A', '정상B']\n",
      "\n",
      "(array(['상단불량D', '상단불량E', '유바', '정상A', '정상B'], dtype='<U5'), array([678, 467,   1,   3, 173]))\n",
      "1322\n",
      "['상단불량D', '상단불량E']\n",
      "\n",
      "(array(['금속', '머리카락', '벌레', '상단불량D', '유바', '정상A', '정상B', '탄화물', '플라스틱'],\n",
      "      dtype='<U5'), array([ 81, 148,  95,   1, 160,   5,  24, 126,  92]))\n",
      "732\n",
      "['금속', '머리카락', '벌레', '유바', '탄화물', '플라스틱']\n",
      "\n"
     ]
    }
   ],
   "source": [
    "# 과검 test\n",
    "\n",
    "from PIL import Image\n",
    "normal_class = ['정상A', '정상B']\n",
    "upper_class = ['상단불량D', '상단불량E']\n",
    "foreign_substance_class =  ['금속', '머리카락', '벌레', '유바', '탄화물', '플라스틱']\n",
    "total_class = [normal_class] +[upper_class]+ [foreign_substance_class] \n",
    "\n",
    "for i, class_ in enumerate(total_class):\n",
    "  idx_ = np.in1d(test_class, class_)\n",
    "\n",
    "  predict_class = np.array(predict_class_list)[idx_]\n",
    "  #true_class = np.array(test_class_list)[idx_]\n",
    "  print(np.unique(predict_class, return_counts=True))\n",
    "  print(len(predict_class))\n",
    "  print(class_)\n",
    "  print()\n"
   ]
  }
 ],
 "metadata": {
  "accelerator": "GPU",
  "colab": {
   "collapsed_sections": [],
   "machine_shape": "hm",
   "name": "Training_Regional efficientnet.ipynb",
   "provenance": [],
   "toc_visible": true
  },
  "kernelspec": {
   "display_name": "Python 3",
   "language": "python",
   "name": "python3"
  },
  "language_info": {
   "codemirror_mode": {
    "name": "ipython",
    "version": 3
   },
   "file_extension": ".py",
   "mimetype": "text/x-python",
   "name": "python",
   "nbconvert_exporter": "python",
   "pygments_lexer": "ipython3",
   "version": "3.6.9"
  }
 },
 "nbformat": 4,
 "nbformat_minor": 0
}
